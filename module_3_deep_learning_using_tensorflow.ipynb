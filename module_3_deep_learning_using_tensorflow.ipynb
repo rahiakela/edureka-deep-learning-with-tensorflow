{
  "nbformat": 4,
  "nbformat_minor": 0,
  "metadata": {
    "colab": {
      "name": "module-3-deep-learning-using-tensorflow.ipynb",
      "provenance": [],
      "toc_visible": true,
      "authorship_tag": "ABX9TyOtS9W4vrt8ooQ0nkq+6hjE",
      "include_colab_link": true
    },
    "kernelspec": {
      "name": "python3",
      "display_name": "Python 3"
    }
  },
  "cells": [
    {
      "cell_type": "markdown",
      "metadata": {
        "id": "view-in-github",
        "colab_type": "text"
      },
      "source": [
        "<a href=\"https://colab.research.google.com/github/rahiakela/edureka-deep-learning-with-tensorflow/blob/module-3-deep-dive-into-neural-networks-with-tensorFlow/module_3_deep_learning_using_tensorflow.ipynb\" target=\"_parent\"><img src=\"https://colab.research.google.com/assets/colab-badge.svg\" alt=\"Open In Colab\"/></a>"
      ]
    },
    {
      "cell_type": "markdown",
      "metadata": {
        "id": "AyQQX7vRFigC",
        "colab_type": "text"
      },
      "source": [
        "# TensorFlow Tutorial – Deep Learning Using TensorFlow"
      ]
    },
    {
      "cell_type": "markdown",
      "metadata": {
        "id": "JiBoKrWaFxmg",
        "colab_type": "text"
      },
      "source": [
        "I have designed this TensorFlow tutorial for professionals and enthusiasts who are interested in applying Deep Learning Algorithm using TensorFlow to solve various problems. TensorFlow is an open source deep learning library that is based on the concept of data flow graphs for building models. It allows you to create large-scale neural networks with many layers. Learning the use of this library is also a fundamental part of the AI & Deep Learning course curriculum. Following are the topics that will be discussed in this TensorFlow tutorial blog:\n",
        "\n",
        "* What is TensorFlow\n",
        "* TensorFlow Code Basics\n",
        "* TensorFlow UseCase "
      ]
    },
    {
      "cell_type": "markdown",
      "metadata": {
        "id": "gqVH1IUeF5R5",
        "colab_type": "text"
      },
      "source": [
        "## What are Tensors?"
      ]
    },
    {
      "cell_type": "markdown",
      "metadata": {
        "id": "yd2ipggPF6db",
        "colab_type": "text"
      },
      "source": [
        "In this TensorFlow tutorial, before talking about TensorFlow, let us first understand what are tensors. Tensors are nothing but a de facto for representing the data in deep learning.\n",
        "\n",
        "<img src='https://d1jnx9ba8s6j9r.cloudfront.net/blog/wp-content/uploads/2017/07/Tensors-TensorFlow-Tutorial-Edureka-768x298.png?raw=1' width='800'/>\n",
        "\n",
        "As shown in the image above, tensors are just multidimensional arrays, that allows you to represent data having higher dimensions. In general, Deep Learning you deal with high dimensional data sets where dimensions refer to different features present in the data set. In fact, the name “TensorFlow” has been derived from the operations which neural networks perform on tensors. It’s literally a flow of tensors. Since, you have understood what are tensors, let us move ahead in this TensorFlow tutorial and understand – what is TensorFlow? \n",
        "\n"
      ]
    },
    {
      "cell_type": "markdown",
      "metadata": {
        "id": "cdadUBDiGLY7",
        "colab_type": "text"
      },
      "source": [
        "## What is TensorFlow?"
      ]
    },
    {
      "cell_type": "markdown",
      "metadata": {
        "id": "P21MAUXZGODL",
        "colab_type": "text"
      },
      "source": [
        "TensorFlow is a library based on Python that provides different types of functionality for implementing Deep Learning Models. As discussed earlier, the term TensorFlow is made up of two terms – Tensor & Flow:\n",
        "\n",
        "<img src='https://d1jnx9ba8s6j9r.cloudfront.net/blog/wp-content/uploads/2017/07/TensorFlow-Overview-TensorFlow-Tutorial-Edureka-528x221.png?raw=1' width='800'/>\n",
        "\n",
        "In TensorFlow, the term tensor refers to the representation of data as multi-dimensional array whereas the term flow refers to the series of operations that one performs on tensors as shown in the above image. \n",
        "\n",
        "Now we have covered enough background about TensorFlow.\n",
        "\n",
        "Next up, in this TensorFlow tutorial we will be discussing about TensorFlow code-basics. "
      ]
    },
    {
      "cell_type": "markdown",
      "metadata": {
        "id": "XqUXGwcUGljr",
        "colab_type": "text"
      },
      "source": [
        "## TensorFlow Tutorial: Code Basics"
      ]
    },
    {
      "cell_type": "markdown",
      "metadata": {
        "id": "D2tWOnuTGn2K",
        "colab_type": "text"
      },
      "source": [
        "Basically, the overall process of writing a TensorFlow program involves two steps:\n",
        "\n",
        "1.   Building a Computational Graph\n",
        "2.   Running a Computational Graph\n",
        "\n",
        "Let me explain you the above two steps one by one:"
      ]
    },
    {
      "cell_type": "markdown",
      "metadata": {
        "id": "XkcvkOHgGyl8",
        "colab_type": "text"
      },
      "source": [
        "### 1. Building a Computational Graph"
      ]
    },
    {
      "cell_type": "markdown",
      "metadata": {
        "id": "rlwiMTisGzgn",
        "colab_type": "text"
      },
      "source": [
        "So, what is a computational graph? Well, a computational graph is a series of TensorFlow operations arranged as nodes in the graph. Each nodes take 0 or more tensors as input and produces a tensor as output. Let me give you an example of a simple computational graph which consists of three nodes – a, b & c as shown below:\n",
        "\n",
        "<img src='https://d1jnx9ba8s6j9r.cloudfront.net/blog/wp-content/uploads/2017/07/Computational-Graph-TensorFlow-Tutorial-Edureka.png?raw=1' width='800'/>"
      ]
    },
    {
      "cell_type": "markdown",
      "metadata": {
        "id": "TLlNGsTkHA70",
        "colab_type": "text"
      },
      "source": [
        "#### Explanation of the Above Computational Graph:"
      ]
    },
    {
      "cell_type": "markdown",
      "metadata": {
        "id": "n0UD8YUFHCDg",
        "colab_type": "text"
      },
      "source": [
        "* Constant nodes are used to store constant values as it takes zero input, but produces the stored values as output. In the above example, a and b are constant nodes with values 5 and 6 respectively.\n",
        "* The node c represents the operation of multiplying constant node a with b. Therefore, executing node c will result in multiplication of const node a & b.\n",
        "\n",
        "Basically, one can think of a computational graph as an alternative way of conceptualizing mathematical calculations that takes place in a TensorFlow program. The operations assigned to different nodes of a Computational Graph can be performed in parallel, thus, providing a better performance in terms of computations.\n",
        "\n",
        "Here we just describe the computation, it doesn’t compute anything, it does not hold any values, it just defines the operations specified in your code. "
      ]
    },
    {
      "cell_type": "markdown",
      "metadata": {
        "id": "w4aAoZxmHLVt",
        "colab_type": "text"
      },
      "source": [
        "### 2. Running a Computational Graph"
      ]
    },
    {
      "cell_type": "markdown",
      "metadata": {
        "id": "PR0ZwkOQHMXU",
        "colab_type": "text"
      },
      "source": [
        "Let us take the previous example of computational graph and understand how to execute it. Following is the code from previous example:"
      ]
    },
    {
      "cell_type": "code",
      "metadata": {
        "id": "F-uBKDoiHTyj",
        "colab_type": "code",
        "colab": {
          "base_uri": "https://localhost:8080/",
          "height": 81
        },
        "outputId": "d68fe692-d362-428b-beeb-46c2f8294455"
      },
      "source": [
        "import tensorflow as tf\n",
        "\n",
        "# Build a graph\n",
        "a = tf.constant(5.0)\n",
        "b = tf.constant(6.0)\n",
        "c = a * b\n",
        "\n",
        "print(c)"
      ],
      "execution_count": 1,
      "outputs": [
        {
          "output_type": "display_data",
          "data": {
            "text/html": [
              "<p style=\"color: red;\">\n",
              "The default version of TensorFlow in Colab will soon switch to TensorFlow 2.x.<br>\n",
              "We recommend you <a href=\"https://www.tensorflow.org/guide/migrate\" target=\"_blank\">upgrade</a> now \n",
              "or ensure your notebook will continue to use TensorFlow 1.x via the <code>%tensorflow_version 1.x</code> magic:\n",
              "<a href=\"https://colab.research.google.com/notebooks/tensorflow_version.ipynb\" target=\"_blank\">more info</a>.</p>\n"
            ],
            "text/plain": [
              "<IPython.core.display.HTML object>"
            ]
          },
          "metadata": {
            "tags": []
          }
        },
        {
          "output_type": "stream",
          "text": [
            "Tensor(\"mul:0\", shape=(), dtype=float32)\n"
          ],
          "name": "stdout"
        }
      ]
    },
    {
      "cell_type": "markdown",
      "metadata": {
        "id": "cXpj5nltHpR4",
        "colab_type": "text"
      },
      "source": [
        "Now, in order to get the output of node c, we need to run the computational graph within a session. Session places the graph operations onto Devices, such as CPUs or GPUs, and provides methods to execute them.\n",
        "\n",
        "A session encapsulates the control and state of the TensorFlow runtime i.e. it stores the information about the order in which all the operations will be performed and passes the result of already computed operation to the next operation in the pipeline. Let me show you how to run the above computational graph within a session (Explanation of each line of code has been added as a comment):"
      ]
    },
    {
      "cell_type": "code",
      "metadata": {
        "id": "suJg6YruHjs9",
        "colab_type": "code",
        "colab": {
          "base_uri": "https://localhost:8080/",
          "height": 35
        },
        "outputId": "f19babc1-e991-4be0-e961-9d0f369bd6f4"
      },
      "source": [
        "# Create the session object\n",
        "sess = tf.Session()\n",
        "\n",
        "# Run the graph within a session and store the output to a variable\n",
        "c_out = sess.run(c)\n",
        "\n",
        "# Print the output of node c\n",
        "print(c_out)\n",
        "\n",
        "# Close the session to free up some resources\n",
        "sess.close()"
      ],
      "execution_count": 2,
      "outputs": [
        {
          "output_type": "stream",
          "text": [
            "30.0\n"
          ],
          "name": "stdout"
        }
      ]
    },
    {
      "cell_type": "markdown",
      "metadata": {
        "id": "CVhc2PIXIFiW",
        "colab_type": "text"
      },
      "source": [
        "So, this was all about session and running a computational graph within it. Now, let us talk about variables and placeholders that we will be using extensively while building deep learning model using TensorFlow."
      ]
    },
    {
      "cell_type": "markdown",
      "metadata": {
        "id": "VZZ0KUifIGQ2",
        "colab_type": "text"
      },
      "source": [
        "## Constants, Placeholder and Variables"
      ]
    },
    {
      "cell_type": "markdown",
      "metadata": {
        "id": "NjlBAd_fIIsM",
        "colab_type": "text"
      },
      "source": [
        "In TensorFlow, constants, placeholders and variables are used to represent different parameters of a deep learning model. Since, I have already discussed constants earlier, I will start with placeholders."
      ]
    },
    {
      "cell_type": "markdown",
      "metadata": {
        "id": "ovc_quLxINOs",
        "colab_type": "text"
      },
      "source": [
        "### Placeholder"
      ]
    },
    {
      "cell_type": "markdown",
      "metadata": {
        "id": "6N6ESzDwIPLT",
        "colab_type": "text"
      },
      "source": [
        "A TensorFlow constant allows you to store a value but, what if, you want your nodes to take inputs on the run? For this kind of functionality, placeholders are used which allows your graph to take external inputs as parameters. Basically, a placeholder is a promise to provide a value later or during runtime. Let me give you an example to make things simpler:"
      ]
    },
    {
      "cell_type": "code",
      "metadata": {
        "id": "vcOfUoxUICKR",
        "colab_type": "code",
        "colab": {}
      },
      "source": [
        ""
      ],
      "execution_count": 0,
      "outputs": []
    }
  ]
}