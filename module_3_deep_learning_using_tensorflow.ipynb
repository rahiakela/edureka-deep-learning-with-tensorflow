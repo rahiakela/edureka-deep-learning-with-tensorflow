{
  "nbformat": 4,
  "nbformat_minor": 0,
  "metadata": {
    "colab": {
      "name": "module-3-deep-learning-using-tensorflow.ipynb",
      "provenance": [],
      "toc_visible": true,
      "authorship_tag": "ABX9TyNLz7k7p5UvAiR4taiB9hPk",
      "include_colab_link": true
    },
    "kernelspec": {
      "name": "python3",
      "display_name": "Python 3"
    }
  },
  "cells": [
    {
      "cell_type": "markdown",
      "metadata": {
        "id": "view-in-github",
        "colab_type": "text"
      },
      "source": [
        "<a href=\"https://colab.research.google.com/github/rahiakela/edureka-deep-learning-with-tensorflow/blob/module-3-deep-dive-into-neural-networks-with-tensorFlow/module_3_deep_learning_using_tensorflow.ipynb\" target=\"_parent\"><img src=\"https://colab.research.google.com/assets/colab-badge.svg\" alt=\"Open In Colab\"/></a>"
      ]
    },
    {
      "cell_type": "markdown",
      "metadata": {
        "id": "AyQQX7vRFigC",
        "colab_type": "text"
      },
      "source": [
        "# TensorFlow Tutorial – Deep Learning Using TensorFlow"
      ]
    },
    {
      "cell_type": "markdown",
      "metadata": {
        "id": "JiBoKrWaFxmg",
        "colab_type": "text"
      },
      "source": [
        "I have designed this TensorFlow tutorial for professionals and enthusiasts who are interested in applying Deep Learning Algorithm using TensorFlow to solve various problems. TensorFlow is an open source deep learning library that is based on the concept of data flow graphs for building models. It allows you to create large-scale neural networks with many layers. Learning the use of this library is also a fundamental part of the AI & Deep Learning course curriculum. Following are the topics that will be discussed in this TensorFlow tutorial blog:\n",
        "\n",
        "* What is TensorFlow\n",
        "* TensorFlow Code Basics\n",
        "* TensorFlow UseCase "
      ]
    },
    {
      "cell_type": "markdown",
      "metadata": {
        "id": "gqVH1IUeF5R5",
        "colab_type": "text"
      },
      "source": [
        "## What are Tensors?"
      ]
    },
    {
      "cell_type": "markdown",
      "metadata": {
        "id": "yd2ipggPF6db",
        "colab_type": "text"
      },
      "source": [
        "In this TensorFlow tutorial, before talking about TensorFlow, let us first understand what are tensors. Tensors are nothing but a de facto for representing the data in deep learning.\n",
        "\n",
        "<img src='https://d1jnx9ba8s6j9r.cloudfront.net/blog/wp-content/uploads/2017/07/Tensors-TensorFlow-Tutorial-Edureka-768x298.png?raw=1' width='800'/>\n",
        "\n",
        "As shown in the image above, tensors are just multidimensional arrays, that allows you to represent data having higher dimensions. In general, Deep Learning you deal with high dimensional data sets where dimensions refer to different features present in the data set. In fact, the name “TensorFlow” has been derived from the operations which neural networks perform on tensors. It’s literally a flow of tensors. Since, you have understood what are tensors, let us move ahead in this TensorFlow tutorial and understand – what is TensorFlow? \n",
        "\n"
      ]
    },
    {
      "cell_type": "markdown",
      "metadata": {
        "id": "cdadUBDiGLY7",
        "colab_type": "text"
      },
      "source": [
        "## What is TensorFlow?"
      ]
    },
    {
      "cell_type": "markdown",
      "metadata": {
        "id": "P21MAUXZGODL",
        "colab_type": "text"
      },
      "source": [
        "TensorFlow is a library based on Python that provides different types of functionality for implementing Deep Learning Models. As discussed earlier, the term TensorFlow is made up of two terms – Tensor & Flow:\n",
        "\n",
        "<img src='https://d1jnx9ba8s6j9r.cloudfront.net/blog/wp-content/uploads/2017/07/TensorFlow-Overview-TensorFlow-Tutorial-Edureka-528x221.png?raw=1' width='800'/>\n",
        "\n",
        "In TensorFlow, the term tensor refers to the representation of data as multi-dimensional array whereas the term flow refers to the series of operations that one performs on tensors as shown in the above image. \n",
        "\n",
        "Now we have covered enough background about TensorFlow.\n",
        "\n",
        "Next up, in this TensorFlow tutorial we will be discussing about TensorFlow code-basics. "
      ]
    },
    {
      "cell_type": "markdown",
      "metadata": {
        "id": "XqUXGwcUGljr",
        "colab_type": "text"
      },
      "source": [
        "## TensorFlow Tutorial: Code Basics"
      ]
    },
    {
      "cell_type": "markdown",
      "metadata": {
        "id": "D2tWOnuTGn2K",
        "colab_type": "text"
      },
      "source": [
        "Basically, the overall process of writing a TensorFlow program involves two steps:\n",
        "\n",
        "1.   Building a Computational Graph\n",
        "2.   Running a Computational Graph\n",
        "\n",
        "Let me explain you the above two steps one by one:"
      ]
    },
    {
      "cell_type": "markdown",
      "metadata": {
        "id": "XkcvkOHgGyl8",
        "colab_type": "text"
      },
      "source": [
        "### 1. Building a Computational Graph"
      ]
    },
    {
      "cell_type": "markdown",
      "metadata": {
        "id": "rlwiMTisGzgn",
        "colab_type": "text"
      },
      "source": [
        "So, what is a computational graph? Well, a computational graph is a series of TensorFlow operations arranged as nodes in the graph. Each nodes take 0 or more tensors as input and produces a tensor as output. Let me give you an example of a simple computational graph which consists of three nodes – a, b & c as shown below:\n",
        "\n",
        "<img src='https://d1jnx9ba8s6j9r.cloudfront.net/blog/wp-content/uploads/2017/07/Computational-Graph-TensorFlow-Tutorial-Edureka.png?raw=1' width='800'/>"
      ]
    },
    {
      "cell_type": "markdown",
      "metadata": {
        "id": "TLlNGsTkHA70",
        "colab_type": "text"
      },
      "source": [
        "#### Explanation of the Above Computational Graph:"
      ]
    },
    {
      "cell_type": "markdown",
      "metadata": {
        "id": "n0UD8YUFHCDg",
        "colab_type": "text"
      },
      "source": [
        "* Constant nodes are used to store constant values as it takes zero input, but produces the stored values as output. In the above example, a and b are constant nodes with values 5 and 6 respectively.\n",
        "* The node c represents the operation of multiplying constant node a with b. Therefore, executing node c will result in multiplication of const node a & b.\n",
        "\n",
        "Basically, one can think of a computational graph as an alternative way of conceptualizing mathematical calculations that takes place in a TensorFlow program. The operations assigned to different nodes of a Computational Graph can be performed in parallel, thus, providing a better performance in terms of computations.\n",
        "\n",
        "Here we just describe the computation, it doesn’t compute anything, it does not hold any values, it just defines the operations specified in your code. "
      ]
    },
    {
      "cell_type": "markdown",
      "metadata": {
        "id": "w4aAoZxmHLVt",
        "colab_type": "text"
      },
      "source": [
        "### 2. Running a Computational Graph"
      ]
    },
    {
      "cell_type": "markdown",
      "metadata": {
        "id": "PR0ZwkOQHMXU",
        "colab_type": "text"
      },
      "source": [
        "Let us take the previous example of computational graph and understand how to execute it. Following is the code from previous example:"
      ]
    },
    {
      "cell_type": "code",
      "metadata": {
        "id": "F-uBKDoiHTyj",
        "colab_type": "code",
        "outputId": "f645d5e8-8c86-4e87-c54e-e920c6ed8fcb",
        "colab": {
          "base_uri": "https://localhost:8080/",
          "height": 81
        }
      },
      "source": [
        "import tensorflow as tf\n",
        "\n",
        "# Build a graph\n",
        "a = tf.constant(5.0)\n",
        "b = tf.constant(6.0)\n",
        "c = a * b\n",
        "\n",
        "print(c)"
      ],
      "execution_count": 1,
      "outputs": [
        {
          "output_type": "display_data",
          "data": {
            "text/html": [
              "<p style=\"color: red;\">\n",
              "The default version of TensorFlow in Colab will soon switch to TensorFlow 2.x.<br>\n",
              "We recommend you <a href=\"https://www.tensorflow.org/guide/migrate\" target=\"_blank\">upgrade</a> now \n",
              "or ensure your notebook will continue to use TensorFlow 1.x via the <code>%tensorflow_version 1.x</code> magic:\n",
              "<a href=\"https://colab.research.google.com/notebooks/tensorflow_version.ipynb\" target=\"_blank\">more info</a>.</p>\n"
            ],
            "text/plain": [
              "<IPython.core.display.HTML object>"
            ]
          },
          "metadata": {
            "tags": []
          }
        },
        {
          "output_type": "stream",
          "text": [
            "Tensor(\"mul:0\", shape=(), dtype=float32)\n"
          ],
          "name": "stdout"
        }
      ]
    },
    {
      "cell_type": "markdown",
      "metadata": {
        "id": "cXpj5nltHpR4",
        "colab_type": "text"
      },
      "source": [
        "Now, in order to get the output of node c, we need to run the computational graph within a session. Session places the graph operations onto Devices, such as CPUs or GPUs, and provides methods to execute them.\n",
        "\n",
        "A session encapsulates the control and state of the TensorFlow runtime i.e. it stores the information about the order in which all the operations will be performed and passes the result of already computed operation to the next operation in the pipeline. Let me show you how to run the above computational graph within a session (Explanation of each line of code has been added as a comment):"
      ]
    },
    {
      "cell_type": "code",
      "metadata": {
        "id": "suJg6YruHjs9",
        "colab_type": "code",
        "outputId": "9c1009f9-0cdf-48fe-ddd7-53730979c609",
        "colab": {
          "base_uri": "https://localhost:8080/",
          "height": 35
        }
      },
      "source": [
        "# Create the session object\n",
        "sess = tf.Session()\n",
        "\n",
        "# Run the graph within a session and store the output to a variable\n",
        "c_out = sess.run(c)\n",
        "\n",
        "# Print the output of node c\n",
        "print(c_out)\n",
        "\n",
        "# Close the session to free up some resources\n",
        "sess.close()"
      ],
      "execution_count": 2,
      "outputs": [
        {
          "output_type": "stream",
          "text": [
            "30.0\n"
          ],
          "name": "stdout"
        }
      ]
    },
    {
      "cell_type": "markdown",
      "metadata": {
        "id": "CVhc2PIXIFiW",
        "colab_type": "text"
      },
      "source": [
        "So, this was all about session and running a computational graph within it. Now, let us talk about variables and placeholders that we will be using extensively while building deep learning model using TensorFlow."
      ]
    },
    {
      "cell_type": "markdown",
      "metadata": {
        "id": "VZZ0KUifIGQ2",
        "colab_type": "text"
      },
      "source": [
        "## Constants, Placeholder and Variables"
      ]
    },
    {
      "cell_type": "markdown",
      "metadata": {
        "id": "NjlBAd_fIIsM",
        "colab_type": "text"
      },
      "source": [
        "In TensorFlow, constants, placeholders and variables are used to represent different parameters of a deep learning model. Since, I have already discussed constants earlier, I will start with placeholders."
      ]
    },
    {
      "cell_type": "markdown",
      "metadata": {
        "id": "ovc_quLxINOs",
        "colab_type": "text"
      },
      "source": [
        "### Placeholder"
      ]
    },
    {
      "cell_type": "markdown",
      "metadata": {
        "id": "6N6ESzDwIPLT",
        "colab_type": "text"
      },
      "source": [
        "A TensorFlow constant allows you to store a value but, what if, you want your nodes to take inputs on the run? For this kind of functionality, placeholders are used which allows your graph to take external inputs as parameters. Basically, a placeholder is a promise to provide a value later or during runtime. Let me give you an example to make things simpler:"
      ]
    },
    {
      "cell_type": "code",
      "metadata": {
        "id": "vcOfUoxUICKR",
        "colab_type": "code",
        "outputId": "f4a347d6-d046-4636-b845-09bd2bb0a64f",
        "colab": {
          "base_uri": "https://localhost:8080/",
          "height": 35
        }
      },
      "source": [
        "# Creating placeholders\n",
        "a = tf.placeholder(tf.float32)\n",
        "b = tf.placeholder(tf.float32)\n",
        "\n",
        "# Assigning multiplication operation w.r.t. a * b to node mul\n",
        "mul = a * b\n",
        "\n",
        "# Create session object\n",
        "sess = tf.Session()\n",
        "\n",
        "# Executing mul by passing the values [1, 3] [2, 4] for a and b respectively\n",
        "output = sess.run(mul, feed_dict={a: [1, 3], b: [2, 4]})\n",
        "print(f'Multiplying a * b: {str(output)}')"
      ],
      "execution_count": 3,
      "outputs": [
        {
          "output_type": "stream",
          "text": [
            "Multiplying a * b: [ 2. 12.]\n"
          ],
          "name": "stdout"
        }
      ]
    },
    {
      "cell_type": "markdown",
      "metadata": {
        "id": "T3Mg7Z5dVcTJ",
        "colab_type": "text"
      },
      "source": [
        "**Points to Remember about placeholders:**\n",
        "* Placeholders are not initialized and contains no data.\n",
        "* One must provides inputs or feeds to the placeholder which are considered during runtime. \n",
        "* Executing a placeholder without input generates an error.\n",
        "\n",
        "Now, let us move ahead and understand – what are variables?"
      ]
    },
    {
      "cell_type": "markdown",
      "metadata": {
        "id": "RIAlonnwVtIV",
        "colab_type": "text"
      },
      "source": [
        "### Variables"
      ]
    },
    {
      "cell_type": "markdown",
      "metadata": {
        "id": "15YM3PQXVvz2",
        "colab_type": "text"
      },
      "source": [
        "n deep learning, placeholders are used to take arbitrary inputs in your model or graph. Apart from taking input, you also need to modify the graph such that it can produce new outputs w.r.t. same inputs. For this you will be using variables. In a nutshell, a variable allows you to add such parameters or node to the graph that are trainable i.e. the value can be modified over the period of a time. Variables are defined by providing their initial value and type as shown below:\n",
        "\n",
        "```python\n",
        "var = tf.Variable( [0.4], dtype = tf.float32 )\n",
        "```\n",
        "\n",
        "Constants are initialized when you call tf.constant, and their value can never change. On the contrary, variables are not initialized when you call tf.Variable. To initialize all the variables in a TensorFlow program, you must explicitly call a special operation as shown below:\n",
        "```python\n",
        "init = tf.global_variables_initializer()\n",
        "sess.run(init)\n",
        "```\n",
        "\n",
        "Always remember that a variable must be initialized before a graph is used for the first time.\n",
        "\n",
        "**Note**: TensorFlow variables are in-memory buffers that contain tensors, but unlike normal tensors that are only instantiated when a graph is run and are immediately deleted afterwards, variables survive across multiple executions of a graph.\n",
        "\n",
        "Now that we have covered enough basics of TensorFlow, let us go ahead and understand how to implement a linear regression model using TensorFlow.\n"
      ]
    },
    {
      "cell_type": "markdown",
      "metadata": {
        "id": "50KDnn9KXHak",
        "colab_type": "text"
      },
      "source": [
        "## Linear Regression Model Using TensorFlow"
      ]
    },
    {
      "cell_type": "markdown",
      "metadata": {
        "id": "uTozggqdXIaX",
        "colab_type": "text"
      },
      "source": [
        "Linear Regression Model is used for predicting the unknown value of a variable (Dependent Variable) from the known value of another variables (Independent Variable) using linear regression equation as shown below:\n",
        "\n",
        "<img src='https://d1jnx9ba8s6j9r.cloudfront.net/blog/wp-content/uploads/2017/07/Linear-Regression-TensorFlow-Tutorial-Edureka-528x162.png?raw=1' width='800'/>\n",
        "\n",
        "Therefore, for creating a linear model, you need:\n",
        "\n",
        "Dependent or Output Variable (Y)\n",
        "Slope Variable (w)\n",
        "Y – Intercept or Bias (b)\n",
        "Independent or Input Variable (X)\n",
        "So, let us begin building linear model using TensorFlow:\n",
        "\n",
        "<img src='https://d1jnx9ba8s6j9r.cloudfront.net/blog/wp-content/uploads/2017/07/Linear-Model-Program-1-TensorFlow-Tutorial-Edureka.png?raw=1' width='800'/>"
      ]
    },
    {
      "cell_type": "code",
      "metadata": {
        "id": "nl9VdvaPVT47",
        "colab_type": "code",
        "colab": {
          "base_uri": "https://localhost:8080/",
          "height": 35
        },
        "outputId": "6fdfa11e-a4a0-473b-960e-b957ae946e20"
      },
      "source": [
        "# Creating variable for parameter slope (W) with initial value as 0.4\n",
        "W = tf.Variable([.4], tf.float32)\n",
        "\n",
        "# Creating variable for parameter bias (b) with initial value as -0.4\n",
        "b = tf.Variable([-.4], tf.float32)\n",
        "\n",
        "# Creating placeholders for providing input or independent variable, denoted by x\n",
        "x = tf.placeholder(tf.float32)\n",
        "\n",
        "# Equation of Linear Regression\n",
        "linear_model = W * x + b\n",
        "\n",
        "# Initializing all the variables\n",
        "sess= tf.Session()\n",
        "init = tf.global_variables_initializer()\n",
        "sess.run(init)\n",
        "\n",
        "# Running regression model to calculate the output w.r.t. to provided x values\n",
        "print(sess.run(linear_model, feed_dict={x: [1, 2, 3, 4]}))"
      ],
      "execution_count": 6,
      "outputs": [
        {
          "output_type": "stream",
          "text": [
            "[0.        0.4       0.8000001 1.2      ]\n"
          ],
          "name": "stdout"
        }
      ]
    },
    {
      "cell_type": "markdown",
      "metadata": {
        "id": "A363tT57f-3T",
        "colab_type": "text"
      },
      "source": [
        "The above stated code just represents the basic idea behind the implementation of regression model i.e. how you follow the equation of regression line so as to get output w.r.t. a set of input values. But, there are two more things left to be added in this model to make it a complete regression model:\n",
        "\n",
        "* First, we need to provide a mechanism by which our model can train itself automatically based on given set of inputs and respective outputs.\n",
        "* Second thing that we need is to validate our trained model by comparing its output with the desired or target output based on given set of x values.\n",
        "\n",
        "Now let us understand how can I incorporate the above stated functionalities into my code for regression model. "
      ]
    },
    {
      "cell_type": "markdown",
      "metadata": {
        "id": "Om4ekzRsf_4o",
        "colab_type": "text"
      },
      "source": [
        "### Loss Function – Model Validation"
      ]
    },
    {
      "cell_type": "markdown",
      "metadata": {
        "id": "tvituPCxgIGW",
        "colab_type": "text"
      },
      "source": [
        "A loss function measures how far apart the current output of the model is from that of the desired or target output. I’ll use a most commonly used loss function for my linear regression model called as Sum of Squared Error or SSE. SSE calculated w.r.t. model output (represent by linear_model) and desired or target output (y) as:\n",
        "\n",
        "<img src='https://d1jnx9ba8s6j9r.cloudfront.net/blog/wp-content/uploads/2017/06/Mean-Squared-Error-Deep-Learning-Tutorial-Edureka-300x141.png?raw=1' width='800'/>\n",
        "<img src='https://d1jnx9ba8s6j9r.cloudfront.net/blog/wp-content/uploads/2017/07/Loss-Function-Program-TensorFlow-Tutorial-Edureka-1.png?raw=1' width='800'/>\n"
      ]
    },
    {
      "cell_type": "code",
      "metadata": {
        "id": "ElptonBKhfRC",
        "colab_type": "code",
        "colab": {
          "base_uri": "https://localhost:8080/",
          "height": 35
        },
        "outputId": "5a2dabf3-d7c1-4ce7-a44a-1eef318b3287"
      },
      "source": [
        "# plcaeholder for target output\n",
        "y = tf.placeholder(tf.float32)\n",
        "\n",
        "# calucating the sum square error\n",
        "error = linear_model - y\n",
        "squared_errors = tf.square(error)\n",
        "loss = tf.reduce_sum(squared_errors)\n",
        "\n",
        "print(sess.run(loss, {x: [1, 2, 3, 4], y: [2, 4, 6, 8]}))"
      ],
      "execution_count": 7,
      "outputs": [
        {
          "output_type": "stream",
          "text": [
            "90.24\n"
          ],
          "name": "stdout"
        }
      ]
    },
    {
      "cell_type": "markdown",
      "metadata": {
        "id": "7vuUa8frhgJg",
        "colab_type": "text"
      },
      "source": [
        "\n",
        "As you can see, we are getting a high loss value. Therefore, we need to adjust our weights (W) and bias (b) so as to reduce the error that we are receiving."
      ]
    },
    {
      "cell_type": "markdown",
      "metadata": {
        "id": "7HaqfQNxhFCS",
        "colab_type": "text"
      },
      "source": [
        "### tf.train API – Training the Model"
      ]
    },
    {
      "cell_type": "markdown",
      "metadata": {
        "id": "dRSKIRhmhGru",
        "colab_type": "text"
      },
      "source": [
        "TensorFlow provides optimizers that slowly change each variable in order to minimize the loss function or error. The simplest optimizer is gradient descent. It modifies each variable according to the magnitude of the derivative of loss with respect to that variable. \n",
        "\n",
        "<img src='https://d1jnx9ba8s6j9r.cloudfront.net/blog/wp-content/uploads/2017/07/Gradient-Descent-Optimizer-Program-TensorFlow-Tutorial-Edureka.png?raw=1' width='800'/>"
      ]
    },
    {
      "cell_type": "code",
      "metadata": {
        "id": "hrW9MVvmflMH",
        "colab_type": "code",
        "colab": {
          "base_uri": "https://localhost:8080/",
          "height": 35
        },
        "outputId": "a46b0676-843d-4583-831d-dbb50d7a7010"
      },
      "source": [
        "# Creating an instance of gradient descent optimizer\n",
        "optimizer = tf.train.GradientDescentOptimizer(0.01)\n",
        "\n",
        "# minimize the loss using optimizer \n",
        "train = optimizer.minimize(loss)\n",
        "\n",
        "# minimize error in successive iteration(1000 epoch)\n",
        "for i in range(1000):\n",
        "  sess.run(train, {x: [1, 2, 3, 4], y: [2, 4, 6, 8]})\n",
        "\n",
        "# creating an instance of gradient descent optimizer\n",
        "print(sess.run([W, b]))"
      ],
      "execution_count": 8,
      "outputs": [
        {
          "output_type": "stream",
          "text": [
            "[array([1.9999996], dtype=float32), array([9.853738e-07], dtype=float32)]\n"
          ],
          "name": "stdout"
        }
      ]
    },
    {
      "cell_type": "markdown",
      "metadata": {
        "id": "Sp81rIbPkIYb",
        "colab_type": "text"
      },
      "source": [
        "So, this is how you create a linear model using TensorFlow and train it to get the desired output."
      ]
    }
  ]
}