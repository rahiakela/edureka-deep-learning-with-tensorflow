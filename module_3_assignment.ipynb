{
  "nbformat": 4,
  "nbformat_minor": 0,
  "metadata": {
    "colab": {
      "name": "module-3-assignment.ipynb",
      "provenance": [],
      "toc_visible": true,
      "authorship_tag": "ABX9TyNHCL/Upieurxkot1CLjMUm",
      "include_colab_link": true
    },
    "kernelspec": {
      "name": "python3",
      "display_name": "Python 3"
    }
  },
  "cells": [
    {
      "cell_type": "markdown",
      "metadata": {
        "id": "view-in-github",
        "colab_type": "text"
      },
      "source": [
        "<a href=\"https://colab.research.google.com/github/rahiakela/edureka-deep-learning-with-tensorflow/blob/module-3-deep-dive-into-neural-networks-with-tensorFlow/module_3_assignment.ipynb\" target=\"_parent\"><img src=\"https://colab.research.google.com/assets/colab-badge.svg\" alt=\"Open In Colab\"/></a>"
      ]
    },
    {
      "cell_type": "markdown",
      "metadata": {
        "id": "0JpzGwbkA9I7",
        "colab_type": "text"
      },
      "source": [
        "# Module 3 Assignment: Deep dive into Neural Networks with Tensorflow"
      ]
    },
    {
      "cell_type": "markdown",
      "metadata": {
        "id": "WeM5MpyUBHM9",
        "colab_type": "text"
      },
      "source": [
        "## Module 3: Assignment"
      ]
    },
    {
      "cell_type": "markdown",
      "metadata": {
        "id": "utNI4obpCeDE",
        "colab_type": "text"
      },
      "source": [
        "**Analyse the information given in the following ‘Wines’ dataset and classify the wine based on their place of origin.**\n",
        "\n",
        "This data contains the results of a chemical analysis of wines grown in the same region in Italy but derived from three different cultivars. The analysis determined the quantities of 13 constituents found in each of the three types of wines.\n",
        "\n",
        "Data variables:\n",
        "* Alcohol\n",
        "* Malic acid\n",
        "* Ash\n",
        "* Alkalinity of ash\n",
        "* Magnesium\n",
        "* Total phenols\n",
        "* Flavanoids\n",
        "* Nonflavanoid phenols\n",
        "* Proanthocyanins\n",
        "* Color intensity\n",
        "* Hue\n",
        "* OD280/OD315 of diluted wines\n",
        "* Proline\n",
        "\n",
        "The dataset for the ‘Wines’ looks like this:\n",
        "\n",
        "<img src='https://github.com/rahiakela/img-repo/blob/master/wine-dataset.png?raw=1' width='800'/>\n",
        "\n",
        "\n",
        "Dataset download link:\n",
        "https://www.edureka.co/medias/giu1bur0kw/download?media_file_id=254929809"
      ]
    },
    {
      "cell_type": "code",
      "metadata": {
        "id": "PrTeFJanDQIC",
        "colab_type": "code",
        "colab": {}
      },
      "source": [
        ""
      ],
      "execution_count": 0,
      "outputs": []
    }
  ]
}