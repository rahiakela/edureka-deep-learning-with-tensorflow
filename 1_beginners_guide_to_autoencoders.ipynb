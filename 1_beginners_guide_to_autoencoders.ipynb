{
  "nbformat": 4,
  "nbformat_minor": 0,
  "metadata": {
    "colab": {
      "name": "1-beginners_guide_to_autoencoders.ipynb",
      "provenance": [],
      "toc_visible": true,
      "authorship_tag": "ABX9TyN5GTA24trwV4Fi31N/OgpL",
      "include_colab_link": true
    },
    "kernelspec": {
      "name": "python3",
      "display_name": "Python 3"
    }
  },
  "cells": [
    {
      "cell_type": "markdown",
      "metadata": {
        "id": "view-in-github",
        "colab_type": "text"
      },
      "source": [
        "<a href=\"https://colab.research.google.com/github/rahiakela/edureka-deep-learning-with-tensorflow/blob/module-7-restricted-boltzmann-machine-and-autoencoders/1_beginners_guide_to_autoencoders.ipynb\" target=\"_parent\"><img src=\"https://colab.research.google.com/assets/colab-badge.svg\" alt=\"Open In Colab\"/></a>"
      ]
    },
    {
      "cell_type": "markdown",
      "metadata": {
        "id": "Fc9lIVs_1iVE",
        "colab_type": "text"
      },
      "source": [
        "# A Beginner’s Guide to Autoencoders"
      ]
    },
    {
      "cell_type": "markdown",
      "metadata": {
        "id": "jDbO1ScS1vbK",
        "colab_type": "text"
      },
      "source": [
        "Artificial Intelligence encircles a wide range of technologies and techniques that enable computer systems to solve problems like Data Compression which is used in computer vision, computer networks, computer architecture, and many other fields. Autoencoders are unsupervised neural networks that use machine learning to do this compression for us. \n",
        "\n",
        "Let’s begin with the most fundamental and essential question, What are autoencoders?\n",
        "\n",
        "Reference: https://www.edureka.co/blog/autoencoders-tutorial/"
      ]
    },
    {
      "cell_type": "markdown",
      "metadata": {
        "id": "H3YO7szQ125-",
        "colab_type": "text"
      },
      "source": [
        "## What are Autoencoders?"
      ]
    },
    {
      "cell_type": "markdown",
      "metadata": {
        "id": "okMOFmGH17eo",
        "colab_type": "text"
      },
      "source": [
        "An autoencoder neural network is an Unsupervised Machine learning algorithm that applies backpropagation, setting the target values to be equal to the inputs. Autoencoders are used to reduce the size of our inputs into a smaller representation. If anyone needs the original data, they can reconstruct it from the compressed data.\n",
        "\n",
        "<img src='https://d1jnx9ba8s6j9r.cloudfront.net/blog/wp-content/uploads/2018/10/1_8ixTe1VHLsmKB3AquWdxpQ-528x177.png?raw=1' width='800'/>\n",
        "\n",
        "We have a similar machine learning algorithm ie. PCA which does the same task. So you might be thinking why do we need Autoencoders then? Let’s continue this Autoencoders Tutorial and find out the reason behind using Autoencoders."
      ]
    },
    {
      "cell_type": "markdown",
      "metadata": {
        "id": "Icvj5Ehv2q6N",
        "colab_type": "text"
      },
      "source": [
        "## Autoencoders Tutorial: Its Emergence"
      ]
    },
    {
      "cell_type": "markdown",
      "metadata": {
        "id": "dCcp0KCJ2t1I",
        "colab_type": "text"
      },
      "source": [
        "Autoencoders are preferred over PCA because:\n",
        "\n",
        "* An autoencoder can learn non-linear transformations with a non-linear activation function and multiple layers.\n",
        "* It doesn’t have to learn dense layers. It can use convolutional layers to learn which is better for video, image and series data.\n",
        "* It is more efficient to learn several layers with an autoencoder rather than learn one huge transformation with PCA.\n",
        "* An autoencoder provides a representation of each layer as the output.\n",
        "* It can make use of pre-trained layers from another model to apply transfer learning to enhance the encoder/decoder.\n",
        "\n",
        "<img src='https://d1jnx9ba8s6j9r.cloudfront.net/blog/wp-content/uploads/2018/10/pca-vs-346x300.png?raw=1' width='800'/>\n",
        "\n",
        "Now let’s have a look at a few Industrial Applications of Autoencoders."
      ]
    },
    {
      "cell_type": "markdown",
      "metadata": {
        "id": "ef-jEj9F3wKz",
        "colab_type": "text"
      },
      "source": [
        "## Applications of Autoencoders"
      ]
    },
    {
      "cell_type": "markdown",
      "metadata": {
        "id": "igm2VwtV3zUZ",
        "colab_type": "text"
      },
      "source": [
        "### Image Coloring"
      ]
    },
    {
      "cell_type": "markdown",
      "metadata": {
        "id": "mxT2aDtb317R",
        "colab_type": "text"
      },
      "source": [
        "Autoencoders are used for converting any black and white picture into a colored image. Depending on what is in the picture, it is possible to tell what the color should be.\n",
        "\n",
        "<img src='https://d1jnx9ba8s6j9r.cloudfront.net/blog/wp-content/uploads/2018/10/4-6-528x176.png?raw=1' width='800'/>\n",
        "\n"
      ]
    },
    {
      "cell_type": "markdown",
      "metadata": {
        "id": "PQRwEZJ-4Ncy",
        "colab_type": "text"
      },
      "source": [
        "### Feature variation"
      ]
    },
    {
      "cell_type": "markdown",
      "metadata": {
        "id": "w4kpcqJf4QjI",
        "colab_type": "text"
      },
      "source": [
        "It extracts only the required features of an image and generates the output by removing any noise or unnecessary interruption.\n",
        "\n",
        "<img src='https://d1jnx9ba8s6j9r.cloudfront.net/blog/wp-content/uploads/2018/10/1_has2O8b3HAUqvcqqLrlBQA-528x193.png?raw=1' width='800'/>"
      ]
    },
    {
      "cell_type": "markdown",
      "metadata": {
        "id": "sEcEm0pf4XJH",
        "colab_type": "text"
      },
      "source": [
        "### Dimensionality Reduction"
      ]
    },
    {
      "cell_type": "markdown",
      "metadata": {
        "id": "oYJ4l-v94XXY",
        "colab_type": "text"
      },
      "source": [
        "The reconstructed image is the same as our input but with reduced dimensions. It helps in providing the similar image with a reduced pixel value.\n",
        "<img src='https://d1jnx9ba8s6j9r.cloudfront.net/blog/wp-content/uploads/2018/10/raisr-info-width-2000-528x297.png?raw=1' width='800'/>"
      ]
    },
    {
      "cell_type": "markdown",
      "metadata": {
        "id": "fw8FqQWO4xx8",
        "colab_type": "text"
      },
      "source": [
        "### Denoising Image"
      ]
    },
    {
      "cell_type": "markdown",
      "metadata": {
        "id": "LmDmCkTi4yWV",
        "colab_type": "text"
      },
      "source": [
        "The input seen by the autoencoder is not the raw input but a stochastically corrupted version. A denoising autoencoder is thus trained to reconstruct the original input from the noisy version.\n",
        "\n",
        "<img src='https://d1jnx9ba8s6j9r.cloudfront.net/blog/wp-content/uploads/2018/10/1_G0V4dz4RKTKGpebeoSWB0A-528x254.png?raw=1' width='800'/>"
      ]
    },
    {
      "cell_type": "markdown",
      "metadata": {
        "id": "gWsE1wi45Rka",
        "colab_type": "text"
      },
      "source": [
        "### Watermark Removal"
      ]
    },
    {
      "cell_type": "markdown",
      "metadata": {
        "id": "FlyIlBtN5SM3",
        "colab_type": "text"
      },
      "source": [
        "It is also used for removing watermarks from images or to remove any object while filming a video or a movie.\n",
        "\n",
        "<img src='https://d1jnx9ba8s6j9r.cloudfront.net/blog/wp-content/uploads/2018/10/f4as-1-528x120.jpg?raw=1' width='800'/>"
      ]
    },
    {
      "cell_type": "markdown",
      "metadata": {
        "id": "cpwE6sXs5v2W",
        "colab_type": "text"
      },
      "source": [
        "Now that you have an idea of the different industrial applications of Autoencoders, let’s continue our Autoencoders Tutorial Blog and understand the complex architecture of Autoencoders."
      ]
    },
    {
      "cell_type": "markdown",
      "metadata": {
        "id": "KEiljVYQ5wmW",
        "colab_type": "text"
      },
      "source": [
        "## Architecture of Autoencoders"
      ]
    },
    {
      "cell_type": "markdown",
      "metadata": {
        "id": "kbaBYy326tKs",
        "colab_type": "text"
      },
      "source": [
        "An Autoencoder consist of three layers:\n",
        "\n",
        "1. **Encoder**\n",
        "2. **Code**\n",
        "3. **Decoder**\n",
        "\n",
        "<img src='https://d1jnx9ba8s6j9r.cloudfront.net/blog/wp-content/uploads/2018/10/1_44eDEuZBEsmG_TCAKRI3Kw@2x-1-528x300.png?raw=1' width='800'/>\n",
        "\n",
        "* **Encoder**: This part of the network compresses the input into a latent space representation. The encoder layer encodes the input image as a compressed representation in a reduced dimension. The compressed image is the distorted version of the original image.\n",
        "\n",
        "* **Code**: This part of the network represents the compressed input which is fed to the decoder.\n",
        "\n",
        "* **Decoder**: This layer decodes the encoded image back to the original dimension. The decoded image is a lossy reconstruction of the original image and it is reconstructed from the latent space representation.\n",
        "\n",
        "<img src='https://d1jnx9ba8s6j9r.cloudfront.net/blog/wp-content/uploads/2018/10/Input-Output-layers-313x300.png?raw=1' width='800'/>\n",
        "\n",
        "The layer between the encoder and decoder, ie. the code is also known as Bottleneck. This is a well-designed approach to decide which aspects of observed data are relevant information and what aspects can be discarded. It does this by balancing two criteria :\n",
        "\n",
        "* Compactness of representation, measured as the compressibility.\n",
        "* It retains some behaviourally relevant variables from the input. \n",
        "\n",
        "Now that you have an idea of the architecture of an Autoencoder. Let’s continue our Autoencoders Tutorial and understand the different properties and the Hyperparameters involved while training Autoencoders.\n"
      ]
    },
    {
      "cell_type": "markdown",
      "metadata": {
        "id": "eL85qkpA7_Xe",
        "colab_type": "text"
      },
      "source": [
        "## Properties and Hyperparameters"
      ]
    },
    {
      "cell_type": "markdown",
      "metadata": {
        "id": "2gjK3Ry88Aeb",
        "colab_type": "text"
      },
      "source": [
        "### Properties of Autoencoders:"
      ]
    },
    {
      "cell_type": "markdown",
      "metadata": {
        "id": "sHybYJmH8IiI",
        "colab_type": "text"
      },
      "source": [
        "* **Data-specific**: Autoencoders are only able to compress data similar to what they have been trained on.\n",
        "* **Lossy**: The decompressed outputs will be degraded compared to the original inputs.\n",
        "* **Learned automatically from examples**: It is easy to train specialized instances of the algorithm that will perform well on a specific type of input."
      ]
    },
    {
      "cell_type": "markdown",
      "metadata": {
        "id": "V_KgaSim8bCP",
        "colab_type": "text"
      },
      "source": [
        "### Hyperparameters of Autoencoders"
      ]
    },
    {
      "cell_type": "markdown",
      "metadata": {
        "id": "1xcQAa8i8d1U",
        "colab_type": "text"
      },
      "source": [
        "There are 4 hyperparameters that we need to set before training an autoencoder:\n",
        "\n",
        "* **Code size**: It represents the number of nodes in the middle layer. Smaller size results in more compression.\n",
        "* **Number of layers**: The autoencoder can consist of as many layers as we want.\n",
        "* **Number of nodes per layer**: The number of nodes per layer decreases with each subsequent layer of the encoder, and increases back in the decoder. The decoder is symmetric to the encoder in terms of the layer structure.\n",
        "* **Loss function**: We either use mean squared error or binary cross-entropy. If the input values are in the range [0, 1] then we typically use cross-entropy, otherwise, we use the mean squared error.\n",
        "\n",
        "<img src='https://d1jnx9ba8s6j9r.cloudfront.net/blog/wp-content/uploads/2018/10/hyperparameters-332x300.png?raw=1' width='800'/>\n",
        "\n",
        "Now that you know the properties and hyperparameters involved in the training of Autoencoders. Let’s move forward with our Autoencoders Tutorial and understand the different types of autoencoders and how they differ from each other."
      ]
    },
    {
      "cell_type": "markdown",
      "metadata": {
        "id": "azWwL81O9Whq",
        "colab_type": "text"
      },
      "source": [
        "## Types of Autoencoders"
      ]
    },
    {
      "cell_type": "markdown",
      "metadata": {
        "id": "aoNod_Qo9Xo8",
        "colab_type": "text"
      },
      "source": [
        ""
      ]
    }
  ]
}