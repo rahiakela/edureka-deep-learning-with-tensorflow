{
  "nbformat": 4,
  "nbformat_minor": 0,
  "metadata": {
    "colab": {
      "name": "1-beginners_guide_to_autoencoders.ipynb",
      "provenance": [],
      "toc_visible": true,
      "authorship_tag": "ABX9TyMIKkw2J6HLtJlmEPEv31eK",
      "include_colab_link": true
    },
    "kernelspec": {
      "name": "python3",
      "display_name": "Python 3"
    }
  },
  "cells": [
    {
      "cell_type": "markdown",
      "metadata": {
        "id": "view-in-github",
        "colab_type": "text"
      },
      "source": [
        "<a href=\"https://colab.research.google.com/github/rahiakela/edureka-deep-learning-with-tensorflow/blob/module-7-restricted-boltzmann-machine-and-autoencoders/1_beginners_guide_to_autoencoders.ipynb\" target=\"_parent\"><img src=\"https://colab.research.google.com/assets/colab-badge.svg\" alt=\"Open In Colab\"/></a>"
      ]
    },
    {
      "cell_type": "markdown",
      "metadata": {
        "id": "Fc9lIVs_1iVE",
        "colab_type": "text"
      },
      "source": [
        "# A Beginner’s Guide to Autoencoders"
      ]
    },
    {
      "cell_type": "markdown",
      "metadata": {
        "id": "jDbO1ScS1vbK",
        "colab_type": "text"
      },
      "source": [
        "Artificial Intelligence encircles a wide range of technologies and techniques that enable computer systems to solve problems like Data Compression which is used in computer vision, computer networks, computer architecture, and many other fields. Autoencoders are unsupervised neural networks that use machine learning to do this compression for us. \n",
        "\n",
        "Let’s begin with the most fundamental and essential question, What are autoencoders?\n",
        "\n",
        "Reference: https://www.edureka.co/blog/autoencoders-tutorial/"
      ]
    },
    {
      "cell_type": "markdown",
      "metadata": {
        "id": "H3YO7szQ125-",
        "colab_type": "text"
      },
      "source": [
        "## What are Autoencoders?"
      ]
    },
    {
      "cell_type": "markdown",
      "metadata": {
        "id": "okMOFmGH17eo",
        "colab_type": "text"
      },
      "source": [
        "An autoencoder neural network is an Unsupervised Machine learning algorithm that applies backpropagation, setting the target values to be equal to the inputs. Autoencoders are used to reduce the size of our inputs into a smaller representation. If anyone needs the original data, they can reconstruct it from the compressed data.\n",
        "\n",
        "<img src='https://d1jnx9ba8s6j9r.cloudfront.net/blog/wp-content/uploads/2018/10/1_8ixTe1VHLsmKB3AquWdxpQ-528x177.png?raw=1' width='800'/>\n",
        "\n",
        "We have a similar machine learning algorithm ie. PCA which does the same task. So you might be thinking why do we need Autoencoders then? Let’s continue this Autoencoders Tutorial and find out the reason behind using Autoencoders."
      ]
    },
    {
      "cell_type": "markdown",
      "metadata": {
        "id": "Icvj5Ehv2q6N",
        "colab_type": "text"
      },
      "source": [
        "## Autoencoders Tutorial: Its Emergence"
      ]
    },
    {
      "cell_type": "markdown",
      "metadata": {
        "id": "dCcp0KCJ2t1I",
        "colab_type": "text"
      },
      "source": [
        "Autoencoders are preferred over PCA because:\n",
        "\n",
        "* An autoencoder can learn non-linear transformations with a non-linear activation function and multiple layers.\n",
        "* It doesn’t have to learn dense layers. It can use convolutional layers to learn which is better for video, image and series data.\n",
        "* It is more efficient to learn several layers with an autoencoder rather than learn one huge transformation with PCA.\n",
        "* An autoencoder provides a representation of each layer as the output.\n",
        "* It can make use of pre-trained layers from another model to apply transfer learning to enhance the encoder/decoder.\n",
        "\n",
        "<img src='https://d1jnx9ba8s6j9r.cloudfront.net/blog/wp-content/uploads/2018/10/pca-vs-346x300.png?raw=1' width='800'/>\n",
        "\n",
        "Now let’s have a look at a few Industrial Applications of Autoencoders."
      ]
    },
    {
      "cell_type": "markdown",
      "metadata": {
        "id": "ef-jEj9F3wKz",
        "colab_type": "text"
      },
      "source": [
        "## Applications of Autoencoders"
      ]
    },
    {
      "cell_type": "markdown",
      "metadata": {
        "id": "igm2VwtV3zUZ",
        "colab_type": "text"
      },
      "source": [
        "### Image Coloring"
      ]
    },
    {
      "cell_type": "markdown",
      "metadata": {
        "id": "mxT2aDtb317R",
        "colab_type": "text"
      },
      "source": [
        "Autoencoders are used for converting any black and white picture into a colored image. Depending on what is in the picture, it is possible to tell what the color should be.\n",
        "\n",
        "<img src='https://d1jnx9ba8s6j9r.cloudfront.net/blog/wp-content/uploads/2018/10/4-6-528x176.png?raw=1' width='800'/>\n",
        "\n"
      ]
    },
    {
      "cell_type": "markdown",
      "metadata": {
        "id": "PQRwEZJ-4Ncy",
        "colab_type": "text"
      },
      "source": [
        "### Feature variation"
      ]
    },
    {
      "cell_type": "markdown",
      "metadata": {
        "id": "w4kpcqJf4QjI",
        "colab_type": "text"
      },
      "source": [
        "It extracts only the required features of an image and generates the output by removing any noise or unnecessary interruption.\n",
        "\n",
        "<img src='https://d1jnx9ba8s6j9r.cloudfront.net/blog/wp-content/uploads/2018/10/1_has2O8b3HAUqvcqqLrlBQA-528x193.png?raw=1' width='800'/>"
      ]
    },
    {
      "cell_type": "markdown",
      "metadata": {
        "id": "sEcEm0pf4XJH",
        "colab_type": "text"
      },
      "source": [
        "### Dimensionality Reduction"
      ]
    },
    {
      "cell_type": "markdown",
      "metadata": {
        "id": "oYJ4l-v94XXY",
        "colab_type": "text"
      },
      "source": [
        "The reconstructed image is the same as our input but with reduced dimensions. It helps in providing the similar image with a reduced pixel value.\n",
        "<img src='https://d1jnx9ba8s6j9r.cloudfront.net/blog/wp-content/uploads/2018/10/raisr-info-width-2000-528x297.png?raw=1' width='800'/>"
      ]
    },
    {
      "cell_type": "markdown",
      "metadata": {
        "id": "fw8FqQWO4xx8",
        "colab_type": "text"
      },
      "source": [
        "### Denoising Image"
      ]
    },
    {
      "cell_type": "markdown",
      "metadata": {
        "id": "LmDmCkTi4yWV",
        "colab_type": "text"
      },
      "source": [
        "The input seen by the autoencoder is not the raw input but a stochastically corrupted version. A denoising autoencoder is thus trained to reconstruct the original input from the noisy version.\n",
        "\n",
        "<img src='https://d1jnx9ba8s6j9r.cloudfront.net/blog/wp-content/uploads/2018/10/1_G0V4dz4RKTKGpebeoSWB0A-528x254.png?raw=1' width='800'/>"
      ]
    },
    {
      "cell_type": "markdown",
      "metadata": {
        "id": "gWsE1wi45Rka",
        "colab_type": "text"
      },
      "source": [
        "### Watermark Removal"
      ]
    },
    {
      "cell_type": "markdown",
      "metadata": {
        "id": "FlyIlBtN5SM3",
        "colab_type": "text"
      },
      "source": [
        "It is also used for removing watermarks from images or to remove any object while filming a video or a movie.\n",
        "\n",
        "<img src='https://d1jnx9ba8s6j9r.cloudfront.net/blog/wp-content/uploads/2018/10/f4as-1-528x120.jpg?raw=1' width='800'/>"
      ]
    },
    {
      "cell_type": "markdown",
      "metadata": {
        "id": "cpwE6sXs5v2W",
        "colab_type": "text"
      },
      "source": [
        "Now that you have an idea of the different industrial applications of Autoencoders, let’s continue our Autoencoders Tutorial Blog and understand the complex architecture of Autoencoders."
      ]
    },
    {
      "cell_type": "markdown",
      "metadata": {
        "id": "KEiljVYQ5wmW",
        "colab_type": "text"
      },
      "source": [
        "## Architecture of Autoencoders"
      ]
    },
    {
      "cell_type": "markdown",
      "metadata": {
        "id": "kbaBYy326tKs",
        "colab_type": "text"
      },
      "source": [
        "An Autoencoder consist of three layers:\n",
        "\n",
        "1. **Encoder**\n",
        "2. **Code**\n",
        "3. **Decoder**\n",
        "\n",
        "<img src='https://d1jnx9ba8s6j9r.cloudfront.net/blog/wp-content/uploads/2018/10/1_44eDEuZBEsmG_TCAKRI3Kw@2x-1-528x300.png?raw=1' width='800'/>\n",
        "\n",
        "* **Encoder**: This part of the network compresses the input into a latent space representation. The encoder layer encodes the input image as a compressed representation in a reduced dimension. The compressed image is the distorted version of the original image.\n",
        "\n",
        "* **Code**: This part of the network represents the compressed input which is fed to the decoder.\n",
        "\n",
        "* **Decoder**: This layer decodes the encoded image back to the original dimension. The decoded image is a lossy reconstruction of the original image and it is reconstructed from the latent space representation.\n",
        "\n",
        "<img src='https://d1jnx9ba8s6j9r.cloudfront.net/blog/wp-content/uploads/2018/10/Input-Output-layers-313x300.png?raw=1' width='800'/>\n",
        "\n",
        "The layer between the encoder and decoder, ie. the code is also known as Bottleneck. This is a well-designed approach to decide which aspects of observed data are relevant information and what aspects can be discarded. It does this by balancing two criteria :\n",
        "\n",
        "* Compactness of representation, measured as the compressibility.\n",
        "* It retains some behaviourally relevant variables from the input. \n",
        "\n",
        "Now that you have an idea of the architecture of an Autoencoder. Let’s continue our Autoencoders Tutorial and understand the different properties and the Hyperparameters involved while training Autoencoders.\n"
      ]
    },
    {
      "cell_type": "markdown",
      "metadata": {
        "id": "eL85qkpA7_Xe",
        "colab_type": "text"
      },
      "source": [
        "## Properties and Hyperparameters"
      ]
    },
    {
      "cell_type": "markdown",
      "metadata": {
        "id": "2gjK3Ry88Aeb",
        "colab_type": "text"
      },
      "source": [
        "### Properties of Autoencoders:"
      ]
    },
    {
      "cell_type": "markdown",
      "metadata": {
        "id": "sHybYJmH8IiI",
        "colab_type": "text"
      },
      "source": [
        "* **Data-specific**: Autoencoders are only able to compress data similar to what they have been trained on.\n",
        "* **Lossy**: The decompressed outputs will be degraded compared to the original inputs.\n",
        "* **Learned automatically from examples**: It is easy to train specialized instances of the algorithm that will perform well on a specific type of input."
      ]
    },
    {
      "cell_type": "markdown",
      "metadata": {
        "id": "V_KgaSim8bCP",
        "colab_type": "text"
      },
      "source": [
        "### Hyperparameters of Autoencoders"
      ]
    },
    {
      "cell_type": "markdown",
      "metadata": {
        "id": "1xcQAa8i8d1U",
        "colab_type": "text"
      },
      "source": [
        "There are 4 hyperparameters that we need to set before training an autoencoder:\n",
        "\n",
        "* **Code size**: It represents the number of nodes in the middle layer. Smaller size results in more compression.\n",
        "* **Number of layers**: The autoencoder can consist of as many layers as we want.\n",
        "* **Number of nodes per layer**: The number of nodes per layer decreases with each subsequent layer of the encoder, and increases back in the decoder. The decoder is symmetric to the encoder in terms of the layer structure.\n",
        "* **Loss function**: We either use mean squared error or binary cross-entropy. If the input values are in the range [0, 1] then we typically use cross-entropy, otherwise, we use the mean squared error.\n",
        "\n",
        "<img src='https://d1jnx9ba8s6j9r.cloudfront.net/blog/wp-content/uploads/2018/10/hyperparameters-332x300.png?raw=1' width='800'/>\n",
        "\n",
        "Now that you know the properties and hyperparameters involved in the training of Autoencoders. Let’s move forward with our Autoencoders Tutorial and understand the different types of autoencoders and how they differ from each other."
      ]
    },
    {
      "cell_type": "markdown",
      "metadata": {
        "id": "azWwL81O9Whq",
        "colab_type": "text"
      },
      "source": [
        "## Types of Autoencoders"
      ]
    },
    {
      "cell_type": "markdown",
      "metadata": {
        "id": "aoNod_Qo9Xo8",
        "colab_type": "text"
      },
      "source": [
        "### Convolution Autoencoders"
      ]
    },
    {
      "cell_type": "markdown",
      "metadata": {
        "id": "yvjbDbmpRQal",
        "colab_type": "text"
      },
      "source": [
        "Autoencoders in their traditional formulation does not take into account the fact that a signal can be seen as a sum of other signals. Convolutional Autoencoders use the convolution operator to exploit this observation. They learn to encode the input in a set of simple signals and then try to reconstruct the input from them, modify the geometry or the reflectance of the image.\n",
        "\n",
        "<img src='https://d1jnx9ba8s6j9r.cloudfront.net/blog/wp-content/uploads/2018/10/4-Figure1-1-528x192.png?raw=1' width='800'/>\n",
        "\n",
        "Use cases of CAE:\n",
        "\n",
        "* Image Reconstruction\n",
        "* Image Colorization\n",
        "* latent space clustering\n",
        "* generating higher resolution images"
      ]
    },
    {
      "cell_type": "markdown",
      "metadata": {
        "id": "UVjNsAT8SAKx",
        "colab_type": "text"
      },
      "source": [
        "### Sparse Autoencoders"
      ]
    },
    {
      "cell_type": "markdown",
      "metadata": {
        "id": "fS9iroOTSUpR",
        "colab_type": "text"
      },
      "source": [
        "Sparse autoencoders offer us an alternative method for introducing an information bottleneck without requiring a reduction in the number of nodes at our hidden layers. Instead, we’ll construct our loss function such that we penalize activations within a layer.\n",
        "\n",
        "<img src='https://d1jnx9ba8s6j9r.cloudfront.net/blog/wp-content/uploads/2018/10/Screen-Shot-2018-03-07-at-1.50.55-PM-423x300.png?raw=1' width='800'/>"
      ]
    },
    {
      "cell_type": "markdown",
      "metadata": {
        "id": "ozuOZvFXTBmA",
        "colab_type": "text"
      },
      "source": [
        "### Deep Autoencoders"
      ]
    },
    {
      "cell_type": "markdown",
      "metadata": {
        "id": "2ggV9YG2TD9z",
        "colab_type": "text"
      },
      "source": [
        "The extension of the simple Autoencoder is the Deep Autoencoder. The first layer of the Deep Autoencoder is used for first-order features in the raw input. The second layer is used for second-order features corresponding to patterns in the appearance of first-order features. Deeper layers of the Deep Autoencoder tend to learn even higher-order features.\n",
        "\n",
        "A deep autoencoder is composed of two, symmetrical deep-belief networks-\n",
        "\n",
        "1. First four or five shallow layers representing the encoding half of the net.\n",
        "2. The second set of four or five layers that make up the decoding half.\n",
        "\n",
        "<img src='https://d1jnx9ba8s6j9r.cloudfront.net/blog/wp-content/uploads/2018/10/deep_autoencoder-444x300.png?raw=1' width='800'/>\n",
        "\n",
        "Use cases of Deep Autoencoders\n",
        "\n",
        "* Image Search\n",
        "* Data Compression\n",
        "* Topic Modeling & Information Retrieval (IR)"
      ]
    },
    {
      "cell_type": "markdown",
      "metadata": {
        "id": "OX9NBV1UUWKa",
        "colab_type": "text"
      },
      "source": [
        "### Contractive Autoencoders"
      ]
    },
    {
      "cell_type": "markdown",
      "metadata": {
        "id": "0mJZtQjzUXQv",
        "colab_type": "text"
      },
      "source": [
        "A contractive autoencoder is an unsupervised deep learning technique that helps a neural network encode unlabeled training data. This is accomplished by constructing a loss term which penalizes large derivatives of our hidden layer activations with respect to the input training examples, essentially penalizing instances where a small change in the input leads to a large change in the encoding space.\n",
        "\n",
        "<img src='https://d1jnx9ba8s6j9r.cloudfront.net/blog/wp-content/uploads/2018/10/Screen-Shot-2018-03-10-at-12.25.43-PM-528x238.png?raw=1' width='800'/>\n",
        "\n",
        "Now that you have an idea of what Autoencoders is, it’s different types and it’s properties. Let’s move ahead with our Autoencoders Tutorial and understand a simple implementation of it using TensorFlow in Python.\n",
        "\n"
      ]
    },
    {
      "cell_type": "markdown",
      "metadata": {
        "id": "gJt2PfNyWese",
        "colab_type": "text"
      },
      "source": [
        "## Data Compression using Autoencoders(Demo)"
      ]
    },
    {
      "cell_type": "markdown",
      "metadata": {
        "id": "KMvaHMfcWgbq",
        "colab_type": "text"
      },
      "source": [
        "<img src='https://d1jnx9ba8s6j9r.cloudfront.net/blog/wp-content/uploads/2018/10/Autoencoders-528x265.png?raw=1' width='800'/>"
      ]
    },
    {
      "cell_type": "code",
      "metadata": {
        "id": "VY6HD9FpWusv",
        "colab_type": "code",
        "colab": {
          "base_uri": "https://localhost:8080/",
          "height": 79
        },
        "outputId": "38dceed5-79a0-4976-8a2a-939d98d04451"
      },
      "source": [
        "import numpy as np\n",
        "from keras.layers import Input, Dense\n",
        "from keras.models import Model\n",
        "from keras.datasets import mnist\n",
        "import matplotlib.pyplot as plt"
      ],
      "execution_count": 1,
      "outputs": [
        {
          "output_type": "stream",
          "text": [
            "Using TensorFlow backend.\n"
          ],
          "name": "stderr"
        },
        {
          "output_type": "display_data",
          "data": {
            "text/html": [
              "<p style=\"color: red;\">\n",
              "The default version of TensorFlow in Colab will soon switch to TensorFlow 2.x.<br>\n",
              "We recommend you <a href=\"https://www.tensorflow.org/guide/migrate\" target=\"_blank\">upgrade</a> now \n",
              "or ensure your notebook will continue to use TensorFlow 1.x via the <code>%tensorflow_version 1.x</code> magic:\n",
              "<a href=\"https://colab.research.google.com/notebooks/tensorflow_version.ipynb\" target=\"_blank\">more info</a>.</p>\n"
            ],
            "text/plain": [
              "<IPython.core.display.HTML object>"
            ]
          },
          "metadata": {
            "tags": []
          }
        }
      ]
    },
    {
      "cell_type": "markdown",
      "metadata": {
        "id": "0DCG4DYTfkwE",
        "colab_type": "text"
      },
      "source": [
        "### Declaration of Hidden Layers and Variables"
      ]
    },
    {
      "cell_type": "code",
      "metadata": {
        "id": "cP4pCXXjW-u-",
        "colab_type": "code",
        "colab": {
          "base_uri": "https://localhost:8080/",
          "height": 253
        },
        "outputId": "1a5358e9-fa1b-4503-be9a-fa6c0bb060f5"
      },
      "source": [
        "# this is the size of our encoded representations\n",
        "encoding_dim = 32 # 32 floats -> compression of factor 24.5, assuming the input is 784 floats\n",
        "\n",
        "# this is our input placeholder\n",
        "input_img = Input(shape=(784, ))\n",
        "\n",
        "# \"encoded\" is the encoded representation of the input\n",
        "encoded = Dense(encoding_dim, activation='relu')(input_img)\n",
        "\n",
        "# \"decoded\" is the lossy reconstruction of the input\n",
        "decoded = Dense(784, activation='sigmoid')(encoded)\n",
        "\n",
        "# this model maps an input to its reconstruction\n",
        "autoencoder = Model(input_img, decoded)\n",
        "\n",
        "# this model maps an input to its encoded representation\n",
        "encoder = Model(input_img, encoded)\n",
        "\n",
        "# create a placeholder for an encoded (32-dimensional) input\n",
        "encoded_input = Input(shape=(encoding_dim, ))\n",
        "\n",
        "# retrieve the last layer of the autoencoder model\n",
        "decoder_layer = autoencoder.layers[-1]\n",
        "\n",
        "# create the decoder model\n",
        "decoder = Model(encoded_input, decoder_layer(encoded_input))\n",
        "\n",
        "# configure our model to use a per-pixel binary crossentropy loss, and the Adadelta optimizer:\n",
        "autoencoder.compile(optimizer='adadelta', loss='binary_crossentropy')"
      ],
      "execution_count": 2,
      "outputs": [
        {
          "output_type": "stream",
          "text": [
            "WARNING:tensorflow:From /usr/local/lib/python3.6/dist-packages/keras/backend/tensorflow_backend.py:66: The name tf.get_default_graph is deprecated. Please use tf.compat.v1.get_default_graph instead.\n",
            "\n",
            "WARNING:tensorflow:From /usr/local/lib/python3.6/dist-packages/keras/backend/tensorflow_backend.py:541: The name tf.placeholder is deprecated. Please use tf.compat.v1.placeholder instead.\n",
            "\n",
            "WARNING:tensorflow:From /usr/local/lib/python3.6/dist-packages/keras/backend/tensorflow_backend.py:4432: The name tf.random_uniform is deprecated. Please use tf.random.uniform instead.\n",
            "\n",
            "WARNING:tensorflow:From /usr/local/lib/python3.6/dist-packages/keras/optimizers.py:793: The name tf.train.Optimizer is deprecated. Please use tf.compat.v1.train.Optimizer instead.\n",
            "\n",
            "WARNING:tensorflow:From /usr/local/lib/python3.6/dist-packages/keras/backend/tensorflow_backend.py:3657: The name tf.log is deprecated. Please use tf.math.log instead.\n",
            "\n",
            "WARNING:tensorflow:From /tensorflow-1.15.0/python3.6/tensorflow_core/python/ops/nn_impl.py:183: where (from tensorflow.python.ops.array_ops) is deprecated and will be removed in a future version.\n",
            "Instructions for updating:\n",
            "Use tf.where in 2.0, which has the same broadcast rule as np.where\n"
          ],
          "name": "stdout"
        }
      ]
    },
    {
      "cell_type": "markdown",
      "metadata": {
        "id": "mwQo5vBMfnyO",
        "colab_type": "text"
      },
      "source": [
        "### Preparing the input data (MNIST Dataset)"
      ]
    },
    {
      "cell_type": "code",
      "metadata": {
        "id": "sDzr9sehfSMv",
        "colab_type": "code",
        "colab": {
          "base_uri": "https://localhost:8080/",
          "height": 83
        },
        "outputId": "d41c3d62-e16e-467a-8b0d-f67778e70ae2"
      },
      "source": [
        "(x_train, _), (x_test, _) = mnist.load_data()\n",
        "\n",
        "# normalize all values between 0 and 1\n",
        "x_train = x_train.astype('float32') / 255.\n",
        "x_test = x_test.astype('float32') / 255.\n",
        "print(x_train.shape)\n",
        "print(x_test.shape)\n",
        "\n",
        "# flatten the 28x28 images into vectors of size 784.\n",
        "x_train = x_train.reshape((len(x_train), np.prod(x_train.shape[1:])))\n",
        "x_test = x_test.reshape((len(x_test), np.prod(x_test.shape[1:])))\n",
        "print(x_train.shape)\n",
        "print(x_test.shape)"
      ],
      "execution_count": 4,
      "outputs": [
        {
          "output_type": "stream",
          "text": [
            "(60000, 28, 28)\n",
            "(10000, 28, 28)\n",
            "(60000, 784)\n",
            "(10000, 784)\n"
          ],
          "name": "stdout"
        }
      ]
    },
    {
      "cell_type": "markdown",
      "metadata": {
        "id": "5jDvWbdphdVQ",
        "colab_type": "text"
      },
      "source": [
        "### Training Autoencoders for 50 epochs"
      ]
    },
    {
      "cell_type": "code",
      "metadata": {
        "id": "Xmx1wmGtgC6S",
        "colab_type": "code",
        "colab": {
          "base_uri": "https://localhost:8080/",
          "height": 1000
        },
        "outputId": "5ff3fed1-e672-468b-f5e7-63e353518db7"
      },
      "source": [
        "autoencoder.fit(x_train, x_train, epochs=50, batch_size=256, shuffle=True, validation_data=(x_test, x_test))"
      ],
      "execution_count": 5,
      "outputs": [
        {
          "output_type": "stream",
          "text": [
            "WARNING:tensorflow:From /usr/local/lib/python3.6/dist-packages/keras/backend/tensorflow_backend.py:1033: The name tf.assign_add is deprecated. Please use tf.compat.v1.assign_add instead.\n",
            "\n",
            "WARNING:tensorflow:From /usr/local/lib/python3.6/dist-packages/keras/backend/tensorflow_backend.py:1020: The name tf.assign is deprecated. Please use tf.compat.v1.assign instead.\n",
            "\n",
            "WARNING:tensorflow:From /usr/local/lib/python3.6/dist-packages/keras/backend/tensorflow_backend.py:3005: The name tf.Session is deprecated. Please use tf.compat.v1.Session instead.\n",
            "\n",
            "Train on 60000 samples, validate on 10000 samples\n",
            "Epoch 1/50\n",
            "WARNING:tensorflow:From /usr/local/lib/python3.6/dist-packages/keras/backend/tensorflow_backend.py:190: The name tf.get_default_session is deprecated. Please use tf.compat.v1.get_default_session instead.\n",
            "\n",
            "WARNING:tensorflow:From /usr/local/lib/python3.6/dist-packages/keras/backend/tensorflow_backend.py:197: The name tf.ConfigProto is deprecated. Please use tf.compat.v1.ConfigProto instead.\n",
            "\n",
            "WARNING:tensorflow:From /usr/local/lib/python3.6/dist-packages/keras/backend/tensorflow_backend.py:207: The name tf.global_variables is deprecated. Please use tf.compat.v1.global_variables instead.\n",
            "\n",
            "WARNING:tensorflow:From /usr/local/lib/python3.6/dist-packages/keras/backend/tensorflow_backend.py:216: The name tf.is_variable_initialized is deprecated. Please use tf.compat.v1.is_variable_initialized instead.\n",
            "\n",
            "WARNING:tensorflow:From /usr/local/lib/python3.6/dist-packages/keras/backend/tensorflow_backend.py:223: The name tf.variables_initializer is deprecated. Please use tf.compat.v1.variables_initializer instead.\n",
            "\n",
            "60000/60000 [==============================] - 4s 67us/step - loss: 0.3564 - val_loss: 0.2698\n",
            "Epoch 2/50\n",
            "60000/60000 [==============================] - 3s 57us/step - loss: 0.2616 - val_loss: 0.2500\n",
            "Epoch 3/50\n",
            "60000/60000 [==============================] - 3s 57us/step - loss: 0.2404 - val_loss: 0.2284\n",
            "Epoch 4/50\n",
            "60000/60000 [==============================] - 3s 57us/step - loss: 0.2209 - val_loss: 0.2112\n",
            "Epoch 5/50\n",
            "60000/60000 [==============================] - 3s 57us/step - loss: 0.2065 - val_loss: 0.1994\n",
            "Epoch 6/50\n",
            "60000/60000 [==============================] - 3s 57us/step - loss: 0.1962 - val_loss: 0.1905\n",
            "Epoch 7/50\n",
            "60000/60000 [==============================] - 3s 57us/step - loss: 0.1882 - val_loss: 0.1832\n",
            "Epoch 8/50\n",
            "60000/60000 [==============================] - 3s 57us/step - loss: 0.1816 - val_loss: 0.1771\n",
            "Epoch 9/50\n",
            "60000/60000 [==============================] - 3s 57us/step - loss: 0.1759 - val_loss: 0.1719\n",
            "Epoch 10/50\n",
            "60000/60000 [==============================] - 3s 57us/step - loss: 0.1709 - val_loss: 0.1671\n",
            "Epoch 11/50\n",
            "60000/60000 [==============================] - 3s 58us/step - loss: 0.1663 - val_loss: 0.1626\n",
            "Epoch 12/50\n",
            "60000/60000 [==============================] - 3s 57us/step - loss: 0.1620 - val_loss: 0.1586\n",
            "Epoch 13/50\n",
            "60000/60000 [==============================] - 4s 59us/step - loss: 0.1580 - val_loss: 0.1548\n",
            "Epoch 14/50\n",
            "60000/60000 [==============================] - 3s 57us/step - loss: 0.1544 - val_loss: 0.1513\n",
            "Epoch 15/50\n",
            "60000/60000 [==============================] - 3s 57us/step - loss: 0.1510 - val_loss: 0.1481\n",
            "Epoch 16/50\n",
            "60000/60000 [==============================] - 3s 57us/step - loss: 0.1480 - val_loss: 0.1451\n",
            "Epoch 17/50\n",
            "60000/60000 [==============================] - 3s 57us/step - loss: 0.1451 - val_loss: 0.1424\n",
            "Epoch 18/50\n",
            "60000/60000 [==============================] - 3s 56us/step - loss: 0.1426 - val_loss: 0.1399\n",
            "Epoch 19/50\n",
            "60000/60000 [==============================] - 3s 56us/step - loss: 0.1402 - val_loss: 0.1376\n",
            "Epoch 20/50\n",
            "60000/60000 [==============================] - 3s 57us/step - loss: 0.1379 - val_loss: 0.1354\n",
            "Epoch 21/50\n",
            "60000/60000 [==============================] - 3s 56us/step - loss: 0.1358 - val_loss: 0.1333\n",
            "Epoch 22/50\n",
            "60000/60000 [==============================] - 3s 56us/step - loss: 0.1338 - val_loss: 0.1314\n",
            "Epoch 23/50\n",
            "60000/60000 [==============================] - 3s 56us/step - loss: 0.1319 - val_loss: 0.1295\n",
            "Epoch 24/50\n",
            "60000/60000 [==============================] - 3s 57us/step - loss: 0.1301 - val_loss: 0.1277\n",
            "Epoch 25/50\n",
            "60000/60000 [==============================] - 3s 56us/step - loss: 0.1283 - val_loss: 0.1260\n",
            "Epoch 26/50\n",
            "60000/60000 [==============================] - 3s 56us/step - loss: 0.1267 - val_loss: 0.1243\n",
            "Epoch 27/50\n",
            "60000/60000 [==============================] - 3s 57us/step - loss: 0.1251 - val_loss: 0.1228\n",
            "Epoch 28/50\n",
            "60000/60000 [==============================] - 3s 56us/step - loss: 0.1236 - val_loss: 0.1213\n",
            "Epoch 29/50\n",
            "60000/60000 [==============================] - 3s 57us/step - loss: 0.1221 - val_loss: 0.1198\n",
            "Epoch 30/50\n",
            "60000/60000 [==============================] - 3s 58us/step - loss: 0.1208 - val_loss: 0.1185\n",
            "Epoch 31/50\n",
            "60000/60000 [==============================] - 3s 57us/step - loss: 0.1195 - val_loss: 0.1172\n",
            "Epoch 32/50\n",
            "60000/60000 [==============================] - 3s 57us/step - loss: 0.1183 - val_loss: 0.1161\n",
            "Epoch 33/50\n",
            "60000/60000 [==============================] - 3s 57us/step - loss: 0.1171 - val_loss: 0.1150\n",
            "Epoch 34/50\n",
            "60000/60000 [==============================] - 3s 56us/step - loss: 0.1160 - val_loss: 0.1139\n",
            "Epoch 35/50\n",
            "60000/60000 [==============================] - 3s 57us/step - loss: 0.1150 - val_loss: 0.1129\n",
            "Epoch 36/50\n",
            "60000/60000 [==============================] - 3s 57us/step - loss: 0.1141 - val_loss: 0.1120\n",
            "Epoch 37/50\n",
            "60000/60000 [==============================] - 3s 57us/step - loss: 0.1132 - val_loss: 0.1111\n",
            "Epoch 38/50\n",
            "60000/60000 [==============================] - 3s 57us/step - loss: 0.1124 - val_loss: 0.1103\n",
            "Epoch 39/50\n",
            "60000/60000 [==============================] - 3s 58us/step - loss: 0.1116 - val_loss: 0.1095\n",
            "Epoch 40/50\n",
            "60000/60000 [==============================] - 3s 58us/step - loss: 0.1108 - val_loss: 0.1088\n",
            "Epoch 41/50\n",
            "60000/60000 [==============================] - 3s 57us/step - loss: 0.1101 - val_loss: 0.1081\n",
            "Epoch 42/50\n",
            "60000/60000 [==============================] - 3s 58us/step - loss: 0.1094 - val_loss: 0.1074\n",
            "Epoch 43/50\n",
            "60000/60000 [==============================] - 3s 58us/step - loss: 0.1088 - val_loss: 0.1068\n",
            "Epoch 44/50\n",
            "60000/60000 [==============================] - 3s 58us/step - loss: 0.1082 - val_loss: 0.1062\n",
            "Epoch 45/50\n",
            "60000/60000 [==============================] - 3s 57us/step - loss: 0.1076 - val_loss: 0.1056\n",
            "Epoch 46/50\n",
            "60000/60000 [==============================] - 3s 57us/step - loss: 0.1070 - val_loss: 0.1051\n",
            "Epoch 47/50\n",
            "60000/60000 [==============================] - 3s 57us/step - loss: 0.1065 - val_loss: 0.1045\n",
            "Epoch 48/50\n",
            "60000/60000 [==============================] - 3s 58us/step - loss: 0.1060 - val_loss: 0.1040\n",
            "Epoch 49/50\n",
            "60000/60000 [==============================] - 3s 56us/step - loss: 0.1055 - val_loss: 0.1036\n",
            "Epoch 50/50\n",
            "60000/60000 [==============================] - 3s 57us/step - loss: 0.1051 - val_loss: 0.1031\n"
          ],
          "name": "stdout"
        },
        {
          "output_type": "execute_result",
          "data": {
            "text/plain": [
              "<keras.callbacks.History at 0x7f6c4ab8d4a8>"
            ]
          },
          "metadata": {
            "tags": []
          },
          "execution_count": 5
        }
      ]
    },
    {
      "cell_type": "code",
      "metadata": {
        "id": "BFTlz-3Zh4wu",
        "colab_type": "code",
        "colab": {}
      },
      "source": [
        "# encode and decode some digits note that we take them from the *test* set\n",
        "encoded_imgs = encoder.predict(x_test)\n",
        "decoded_imgs = decoder.predict(encoded_imgs)"
      ],
      "execution_count": 0,
      "outputs": []
    },
    {
      "cell_type": "markdown",
      "metadata": {
        "id": "-HFFtzx-iOyf",
        "colab_type": "text"
      },
      "source": [
        "### Visualizing the reconstructed inputs and the encoded representations using Matplotlib"
      ]
    },
    {
      "cell_type": "code",
      "metadata": {
        "id": "LSEt_PWbiQGN",
        "colab_type": "code",
        "colab": {
          "base_uri": "https://localhost:8080/",
          "height": 248
        },
        "outputId": "82cbdd5b-3017-44c9-996b-2fbd8da7ed4a"
      },
      "source": [
        "n = 10 # how many digits we will display\n",
        "plt.figure(figsize=(20, 4))\n",
        "for i in range(n):\n",
        "  # display original\n",
        "  ax = plt.subplot(2, n, i + 1)\n",
        "  plt.imshow(x_test[i].reshape(28, 28))\n",
        "  plt.gray()\n",
        "  ax.get_xaxis().set_visible(False)\n",
        "  ax.get_yaxis().set_visible(False)\n",
        "\n",
        "  # display reconstruction\n",
        "  ax = plt.subplot(2, n, i + 1 + n)\n",
        "  plt.imshow(decoded_imgs[i].reshape(28, 28))\n",
        "  plt.gray()\n",
        "  ax.get_xaxis().set_visible(False)\n",
        "  ax.get_yaxis().set_visible(False)\n",
        "\n",
        "plt.show()"
      ],
      "execution_count": 8,
      "outputs": [
        {
          "output_type": "display_data",
          "data": {
            "image/png": "[encoded data removed]",
            "text/plain": [
              "<Figure size 1440x288 with 20 Axes>"
            ]
          },
          "metadata": {
            "tags": []
          }
        }
      ]
    }
  ]
}