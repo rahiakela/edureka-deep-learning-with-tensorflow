{
  "nbformat": 4,
  "nbformat_minor": 0,
  "metadata": {
    "colab": {
      "name": "module_7_assignment.ipynb",
      "provenance": [],
      "toc_visible": true,
      "include_colab_link": true
    },
    "kernelspec": {
      "name": "python3",
      "display_name": "Python 3"
    },
    "accelerator": "GPU"
  },
  "cells": [
    {
      "cell_type": "markdown",
      "metadata": {
        "id": "view-in-github",
        "colab_type": "text"
      },
      "source": [
        "<a href=\"https://colab.research.google.com/github/rahiakela/edureka-deep-learning-with-tensorflow/blob/module-7-restricted-boltzmann-machine-and-autoencoders/module_7_assignment.ipynb\" target=\"_parent\"><img src=\"https://colab.research.google.com/assets/colab-badge.svg\" alt=\"Open In Colab\"/></a>"
      ]
    },
    {
      "cell_type": "markdown",
      "metadata": {
        "id": "Fc9lIVs_1iVE",
        "colab_type": "text"
      },
      "source": [
        "# Module 7: Assignment"
      ]
    },
    {
      "cell_type": "markdown",
      "metadata": {
        "id": "jDbO1ScS1vbK",
        "colab_type": "text"
      },
      "source": [
        "Load the ‘MNIST’ dataset and perform the following tasks:\n",
        "\n",
        "* Create an autoencoder with convolutional layers\n",
        "* Compare the accuracy of the model with the previous model (without the convolutional layers, that me built in module 7 class).\n",
        "\n",
        "Reference: https://www.edureka.co/blog/autoencoders-tutorial/"
      ]
    },
    {
      "cell_type": "markdown",
      "metadata": {
        "id": "aoNod_Qo9Xo8",
        "colab_type": "text"
      },
      "source": [
        "### Convolution Autoencoders"
      ]
    },
    {
      "cell_type": "markdown",
      "metadata": {
        "id": "yvjbDbmpRQal",
        "colab_type": "text"
      },
      "source": [
        "Autoencoders in their traditional formulation does not take into account the fact that a signal can be seen as a sum of other signals. Convolutional Autoencoders use the convolution operator to exploit this observation. They learn to encode the input in a set of simple signals and then try to reconstruct the input from them, modify the geometry or the reflectance of the image.\n",
        "\n",
        "<img src='https://d1jnx9ba8s6j9r.cloudfront.net/blog/wp-content/uploads/2018/10/4-Figure1-1-528x192.png?raw=1' width='800'/>\n",
        "\n",
        "Use cases of CAE:\n",
        "\n",
        "* Image Reconstruction\n",
        "* Image Colorization\n",
        "* latent space clustering\n",
        "* generating higher resolution images"
      ]
    },
    {
      "cell_type": "code",
      "metadata": {
        "id": "VY6HD9FpWusv",
        "colab_type": "code",
        "outputId": "caa64802-b2af-4cd3-a8a9-40fb9b223701",
        "colab": {
          "base_uri": "https://localhost:8080/",
          "height": 79
        }
      },
      "source": [
        "import numpy as np\n",
        "from keras.layers import Input, Dense, Reshape, Conv2D, Flatten, MaxPool2D, Conv2DTranspose\n",
        "from keras.models import Model, Sequential\n",
        "from keras.optimizers import SGD\n",
        "from keras.datasets import mnist\n",
        "import matplotlib.pyplot as plt"
      ],
      "execution_count": 1,
      "outputs": [
        {
          "output_type": "stream",
          "text": [
            "Using TensorFlow backend.\n"
          ],
          "name": "stderr"
        },
        {
          "output_type": "display_data",
          "data": {
            "text/html": [
              "<p style=\"color: red;\">\n",
              "The default version of TensorFlow in Colab will soon switch to TensorFlow 2.x.<br>\n",
              "We recommend you <a href=\"https://www.tensorflow.org/guide/migrate\" target=\"_blank\">upgrade</a> now \n",
              "or ensure your notebook will continue to use TensorFlow 1.x via the <code>%tensorflow_version 1.x</code> magic:\n",
              "<a href=\"https://colab.research.google.com/notebooks/tensorflow_version.ipynb\" target=\"_blank\">more info</a>.</p>\n"
            ],
            "text/plain": [
              "<IPython.core.display.HTML object>"
            ]
          },
          "metadata": {
            "tags": []
          }
        }
      ]
    },
    {
      "cell_type": "markdown",
      "metadata": {
        "id": "0DCG4DYTfkwE",
        "colab_type": "text"
      },
      "source": [
        "Let's load MNIST dataset."
      ]
    },
    {
      "cell_type": "code",
      "metadata": {
        "id": "5RNDw61an5j6",
        "colab_type": "code",
        "colab": {
          "base_uri": "https://localhost:8080/",
          "height": 50
        },
        "outputId": "e6a05d11-6b1a-4d90-da89-027f986a3a33"
      },
      "source": [
        "(X_train_full, y_train_full), (X_test, y_test) = mnist.load_data()\n",
        "X_train_full = X_train_full.astype(np.float32) / 255\n",
        "X_test = X_test.astype(np.float32) / 255\n",
        "\n",
        "X_train, X_valid = X_train_full[:-5000], X_train_full[-5000:]\n",
        "y_train, y_valid = y_train_full[:-5000], y_train_full[-5000:]"
      ],
      "execution_count": 2,
      "outputs": [
        {
          "output_type": "stream",
          "text": [
            "Downloading data from https://s3.amazonaws.com/img-datasets/mnist.npz\n",
            "11493376/11490434 [==============================] - 2s 0us/step\n"
          ],
          "name": "stdout"
        }
      ]
    },
    {
      "cell_type": "code",
      "metadata": {
        "id": "cP4pCXXjW-u-",
        "colab_type": "code",
        "outputId": "404f7c97-5de5-4e70-e893-f9df336c5a9d",
        "colab": {
          "base_uri": "https://localhost:8080/",
          "height": 903
        }
      },
      "source": [
        "# split the autoencoder model into two submodels: the encoder and the decoder.\n",
        "conv_encoder = Sequential([\n",
        "  Reshape([28, 28, 1], input_shape=[28, 28]), # encoder takes 28 × 28–pixel grayscale images, flattens them to vector of size 784\n",
        "  Conv2D(16, kernel_size=3, padding=\"same\", activation=\"relu\"),\n",
        "  MaxPool2D(pool_size=2),\n",
        "  Conv2D(32, kernel_size=3, padding=\"same\", activation=\"relu\"),\n",
        "  MaxPool2D(pool_size=2),\n",
        "  Conv2D(64, kernel_size=3, padding=\"same\", activation=\"relu\"),\n",
        "  MaxPool2D(pool_size=2)\n",
        "])\n",
        "\n",
        "conv_decoder = Sequential([\n",
        "  Conv2DTranspose(32, kernel_size=3, strides=2, padding=\"valid\", activation=\"relu\", input_shape=[3, 3, 64]),\n",
        "  Conv2DTranspose(16, kernel_size=3, strides=2, padding=\"same\", activation=\"relu\"),\n",
        "  Conv2DTranspose(1, kernel_size=3, strides=2, padding=\"same\", activation=\"sigmoid\"),\n",
        "  Reshape([28, 28])\n",
        "])\n",
        "\n",
        "conv_autoencoder = Sequential([conv_encoder, conv_decoder])\n",
        "conv_autoencoder.compile(loss='binary_crossentropy', optimizer=SGD(lr=1.0), metrics=['accuracy'])\n",
        "\n",
        "# Finally, we train the model using X_train as both the inputs and the targets\n",
        "# and similarly, we use X_valid as both the validation inputs and targets\n",
        "history = conv_autoencoder.fit(X_train, X_train, epochs=10, validation_data=[X_valid, X_valid])"
      ],
      "execution_count": 3,
      "outputs": [
        {
          "output_type": "stream",
          "text": [
            "WARNING:tensorflow:From /usr/local/lib/python3.6/dist-packages/keras/backend/tensorflow_backend.py:66: The name tf.get_default_graph is deprecated. Please use tf.compat.v1.get_default_graph instead.\n",
            "\n",
            "WARNING:tensorflow:From /usr/local/lib/python3.6/dist-packages/keras/backend/tensorflow_backend.py:541: The name tf.placeholder is deprecated. Please use tf.compat.v1.placeholder instead.\n",
            "\n",
            "WARNING:tensorflow:From /usr/local/lib/python3.6/dist-packages/keras/backend/tensorflow_backend.py:4432: The name tf.random_uniform is deprecated. Please use tf.random.uniform instead.\n",
            "\n",
            "WARNING:tensorflow:From /usr/local/lib/python3.6/dist-packages/keras/backend/tensorflow_backend.py:4267: The name tf.nn.max_pool is deprecated. Please use tf.nn.max_pool2d instead.\n",
            "\n",
            "WARNING:tensorflow:From /usr/local/lib/python3.6/dist-packages/keras/optimizers.py:793: The name tf.train.Optimizer is deprecated. Please use tf.compat.v1.train.Optimizer instead.\n",
            "\n",
            "WARNING:tensorflow:From /usr/local/lib/python3.6/dist-packages/keras/backend/tensorflow_backend.py:3657: The name tf.log is deprecated. Please use tf.math.log instead.\n",
            "\n",
            "WARNING:tensorflow:From /tensorflow-1.15.0/python3.6/tensorflow_core/python/ops/nn_impl.py:183: where (from tensorflow.python.ops.array_ops) is deprecated and will be removed in a future version.\n",
            "Instructions for updating:\n",
            "Use tf.where in 2.0, which has the same broadcast rule as np.where\n",
            "WARNING:tensorflow:From /usr/local/lib/python3.6/dist-packages/keras/backend/tensorflow_backend.py:1033: The name tf.assign_add is deprecated. Please use tf.compat.v1.assign_add instead.\n",
            "\n",
            "WARNING:tensorflow:From /usr/local/lib/python3.6/dist-packages/keras/backend/tensorflow_backend.py:1020: The name tf.assign is deprecated. Please use tf.compat.v1.assign instead.\n",
            "\n",
            "WARNING:tensorflow:From /usr/local/lib/python3.6/dist-packages/keras/backend/tensorflow_backend.py:3005: The name tf.Session is deprecated. Please use tf.compat.v1.Session instead.\n",
            "\n",
            "Train on 55000 samples, validate on 5000 samples\n",
            "Epoch 1/10\n",
            "WARNING:tensorflow:From /usr/local/lib/python3.6/dist-packages/keras/backend/tensorflow_backend.py:190: The name tf.get_default_session is deprecated. Please use tf.compat.v1.get_default_session instead.\n",
            "\n",
            "WARNING:tensorflow:From /usr/local/lib/python3.6/dist-packages/keras/backend/tensorflow_backend.py:197: The name tf.ConfigProto is deprecated. Please use tf.compat.v1.ConfigProto instead.\n",
            "\n",
            "WARNING:tensorflow:From /usr/local/lib/python3.6/dist-packages/keras/backend/tensorflow_backend.py:207: The name tf.global_variables is deprecated. Please use tf.compat.v1.global_variables instead.\n",
            "\n",
            "WARNING:tensorflow:From /usr/local/lib/python3.6/dist-packages/keras/backend/tensorflow_backend.py:216: The name tf.is_variable_initialized is deprecated. Please use tf.compat.v1.is_variable_initialized instead.\n",
            "\n",
            "WARNING:tensorflow:From /usr/local/lib/python3.6/dist-packages/keras/backend/tensorflow_backend.py:223: The name tf.variables_initializer is deprecated. Please use tf.compat.v1.variables_initializer instead.\n",
            "\n",
            "55000/55000 [==============================] - 25s 456us/step - loss: 0.1538 - acc: 0.8073 - val_loss: 0.1046 - val_acc: 0.8138\n",
            "Epoch 2/10\n",
            "55000/55000 [==============================] - 13s 238us/step - loss: 0.0954 - acc: 0.8131 - val_loss: 0.0920 - val_acc: 0.8129\n",
            "Epoch 3/10\n",
            "55000/55000 [==============================] - 13s 239us/step - loss: 0.0875 - acc: 0.8141 - val_loss: 0.0919 - val_acc: 0.8148\n",
            "Epoch 4/10\n",
            "55000/55000 [==============================] - 13s 240us/step - loss: 0.0835 - acc: 0.8145 - val_loss: 0.0819 - val_acc: 0.8146\n",
            "Epoch 5/10\n",
            "55000/55000 [==============================] - 13s 239us/step - loss: 0.0810 - acc: 0.8147 - val_loss: 0.0801 - val_acc: 0.8149\n",
            "Epoch 6/10\n",
            "55000/55000 [==============================] - 13s 240us/step - loss: 0.0794 - acc: 0.8148 - val_loss: 0.0782 - val_acc: 0.8151\n",
            "Epoch 7/10\n",
            "55000/55000 [==============================] - 13s 240us/step - loss: 0.0782 - acc: 0.8149 - val_loss: 0.0774 - val_acc: 0.8150\n",
            "Epoch 8/10\n",
            "55000/55000 [==============================] - 13s 239us/step - loss: 0.0772 - acc: 0.8150 - val_loss: 0.0773 - val_acc: 0.8152\n",
            "Epoch 9/10\n",
            "55000/55000 [==============================] - 13s 237us/step - loss: 0.0765 - acc: 0.8150 - val_loss: 0.0761 - val_acc: 0.8151\n",
            "Epoch 10/10\n",
            "55000/55000 [==============================] - 13s 237us/step - loss: 0.0758 - acc: 0.8151 - val_loss: 0.0768 - val_acc: 0.8153\n"
          ],
          "name": "stdout"
        }
      ]
    },
    {
      "cell_type": "code",
      "metadata": {
        "id": "BFTlz-3Zh4wu",
        "colab_type": "code",
        "colab": {}
      },
      "source": [
        "# encode and decode some digits note that we take them from the *test* set\n",
        "encoded_imgs = conv_encoder.predict(X_test)\n",
        "decoded_imgs = conv_decoder.predict(encoded_imgs)"
      ],
      "execution_count": 0,
      "outputs": []
    },
    {
      "cell_type": "markdown",
      "metadata": {
        "id": "-HFFtzx-iOyf",
        "colab_type": "text"
      },
      "source": [
        "### Visualizing the reconstructed inputs and the encoded representations using Matplotlib"
      ]
    },
    {
      "cell_type": "code",
      "metadata": {
        "id": "LSEt_PWbiQGN",
        "colab_type": "code",
        "outputId": "adf28de0-e353-4ff6-d7ab-9316140ece47",
        "colab": {
          "base_uri": "https://localhost:8080/",
          "height": 248
        }
      },
      "source": [
        "n = 10 # how many digits we will display\n",
        "plt.figure(figsize=(20, 4))\n",
        "for i in range(n):\n",
        "  # display original\n",
        "  ax = plt.subplot(2, n, i + 1)\n",
        "  plt.imshow(X_test[i].reshape(28, 28))\n",
        "  plt.gray()\n",
        "  ax.get_xaxis().set_visible(False)\n",
        "  ax.get_yaxis().set_visible(False)\n",
        "\n",
        "  # display reconstruction\n",
        "  ax = plt.subplot(2, n, i + 1 + n)\n",
        "  plt.imshow(decoded_imgs[i].reshape(28, 28))\n",
        "  plt.gray()\n",
        "  ax.get_xaxis().set_visible(False)\n",
        "  ax.get_yaxis().set_visible(False)\n",
        "\n",
        "plt.show()"
      ],
      "execution_count": 5,
      "outputs": [
        {
          "output_type": "display_data",
          "data": {
            "image/png": "[encoded data removed]",
            "text/plain": [
              "<Figure size 1440x288 with 20 Axes>"
            ]
          },
          "metadata": {
            "tags": []
          }
        }
      ]
    },
    {
      "cell_type": "code",
      "metadata": {
        "id": "AXxvE066qz3U",
        "colab_type": "code",
        "colab": {}
      },
      "source": [
        ""
      ],
      "execution_count": 0,
      "outputs": []
    }
  ]
}