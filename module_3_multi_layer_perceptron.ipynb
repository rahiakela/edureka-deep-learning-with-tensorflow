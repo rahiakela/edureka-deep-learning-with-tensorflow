{
  "nbformat": 4,
  "nbformat_minor": 0,
  "metadata": {
    "colab": {
      "name": "module-3-multi-layer-perceptron.ipynb",
      "provenance": [],
      "toc_visible": true,
      "authorship_tag": "ABX9TyPzWTmNiSWtJ4Dlzem/DSaU",
      "include_colab_link": true
    },
    "kernelspec": {
      "name": "python3",
      "display_name": "Python 3"
    }
  },
  "cells": [
    {
      "cell_type": "markdown",
      "metadata": {
        "id": "view-in-github",
        "colab_type": "text"
      },
      "source": [
        "<a href=\"https://colab.research.google.com/github/rahiakela/edureka-deep-learning-with-tensorflow/blob/module-3-deep-dive-into-neural-networks-with-tensorFlow/module_3_multi_layer_perceptron.ipynb\" target=\"_parent\"><img src=\"https://colab.research.google.com/assets/colab-badge.svg\" alt=\"Open In Colab\"/></a>"
      ]
    },
    {
      "cell_type": "markdown",
      "metadata": {
        "id": "0CcQfsl1oTlS",
        "colab_type": "text"
      },
      "source": [
        "# Multi Layer Perceptron"
      ]
    },
    {
      "cell_type": "markdown",
      "metadata": {
        "id": "gi-E_iAmoURa",
        "colab_type": "text"
      },
      "source": [
        "In this Neural Network tutorial we will take a step forward and will discuss about the network of Perceptrons called Multi-Layer Perceptron (Artificial Neural Network).\n",
        "\n",
        "We will be discussing the following topics in this Neural Network tutorial:\n",
        "\n",
        "* Limitations of Single-Layer Perceptron\n",
        "* What is Multi-Layer Perceptron (Artificial Neural Network)?\n",
        "* How Artificial Neural Networks Work? \n",
        "* Use-case\n",
        "\n",
        "This blog on Neural Network tutorial will include a use-case in the end. For implementing that use-case, we will be using TensorFlow.\n",
        "\n",
        "Now, I will start by discussing what are the limitations of Single-Layer Perceptron.\n",
        "\n",
        "Reference: https://www.edureka.co/blog/neural-network-tutorial/"
      ]
    },
    {
      "cell_type": "markdown",
      "metadata": {
        "id": "D1VsHxcFoz4m",
        "colab_type": "text"
      },
      "source": [
        "## Limitations of Single-Layer Perceptron"
      ]
    },
    {
      "cell_type": "markdown",
      "metadata": {
        "id": "hx6E9rfXo0r8",
        "colab_type": "text"
      },
      "source": [
        "Well, there are two major problems:\n",
        "\n",
        "* Single-Layer Percpetrons cannot classify non-linearly separable data points. \n",
        "* Complex problems, that involve a lot of parameters cannot be solved by Single-Layer Perceptrons."
      ]
    },
    {
      "cell_type": "markdown",
      "metadata": {
        "id": "dcZxZF4rpBZy",
        "colab_type": "text"
      },
      "source": [
        "**Single-Layer Percpetrons cannot classify non-linearly separable data points**\n",
        "\n",
        "Let us understand this by taking an example of XOR gate. Consider the diagram below:\n",
        "\n",
        "<img src='https://d1jnx9ba8s6j9r.cloudfront.net/blog/wp-content/uploads/2017/09/Limitaions-Of-Single-Layer-Perceptron-Neural-Network-Tutorial-Edureka.png?raw=1' width='800'/>\n",
        "\n",
        "Here, you cannot separate the high and low points with a single straight line. But, we can separate it by two straight lines. Consider the diagram below: \n",
        "\n",
        "<img src='https://d1jnx9ba8s6j9r.cloudfront.net/blog/wp-content/uploads/2017/09/Solution-Single-Layer-Percpetron-Neural-Network-Tutorial-Edureka.png?raw=1' width='800'/>\n",
        "\n",
        "**Complex problems, that involve a lot of parameters cannot be solved by Single-Layer Perceptrons**\n",
        "\n",
        "Here also, I will explain with an example. \n",
        "\n",
        "As an E-commerce firm, you have noticed a decline in your sales. Now, you try to form a marketing team who would market the products for increasing the sales.\n",
        "\n",
        "The marketing team can market your product through various ways, such as:\n",
        "\n",
        "* Google Ads\n",
        "* Personal emails\n",
        "* Sale advertisement on relevant sites\n",
        "* Reference program\n",
        "* Blogs and so on . . .\n",
        "\n",
        "Considering all the factors and options available, marketing team has to decide a strategy to do optimal and efficient marketing, but this task is too complex for a human to analyse, because number of parameters are quite high. This problem will have to be solved using Deep Learning. Consider the diagram below:\n",
        "\n",
        "<img src='https://d1jnx9ba8s6j9r.cloudfront.net/blog/wp-content/uploads/2017/09/Category_02-1.png?raw=1' width='800'/>\n",
        "\n",
        "They can either use just one means to market their products or use a variety of them.\n",
        "\n",
        "Each way would have different advantages and disadvantages as well, they will have to focus on a variety of factors and options such as:\n",
        "\n",
        "<img src='https://d1jnx9ba8s6j9r.cloudfront.net/blog/wp-content/uploads/2017/09/Category.png?raw=1' width='800'/>\n",
        "\n",
        "Number of sales that would happen would be dependent on different categorical inputs, their sub categories and their parameters. However, computing and calculating from so many inputs and their sub parameters is not possible just through one neuron (Perceptron).\n",
        "\n",
        "That is why more than one neuron would be used to solve this problem. Consider the diagram below:\n",
        "\n",
        "<img src='https://d1jnx9ba8s6j9r.cloudfront.net/blog/wp-content/uploads/2017/09/Limitations-of-Single-Layer-Perceptron-Neural-Network-Tutorial-Edureka.png?raw=1' width='800'/>\n",
        "\n",
        "Because of all these reasons, Single-Layer Perceptron cannot be used for complex non-linear problems.\n",
        "\n",
        "Next up, in this Neural Network tutorial I will focus on Multi-Layer Perceptrons (MLP)."
      ]
    },
    {
      "cell_type": "markdown",
      "metadata": {
        "id": "pOih09LZqK0x",
        "colab_type": "text"
      },
      "source": [
        "## What is Multi-Layer Perceptron?"
      ]
    },
    {
      "cell_type": "markdown",
      "metadata": {
        "id": "dDr5FiASqSEZ",
        "colab_type": "text"
      },
      "source": [
        "As you know our brain is made up of millions of neurons, so a Neural Network is really just a composition of Perceptrons, connected in different ways and operating on different activation functions.\n",
        "\n",
        "Consider the diagram below:\n",
        "\n",
        "<img src='https://d1jnx9ba8s6j9r.cloudfront.net/blog/wp-content/uploads/2017/09/Multi-Layer-Perceptron-Neural-Network-Tutorial-Edureka.png?raw=1' width='800'/>\n",
        "\n",
        "* **Input Nodes** – The Input nodes provide information from the outside world to the network and are together referred to as the “Input Layer”. No computation is performed in any of the Input nodes – they just pass on the information to the hidden nodes.\n",
        "\n",
        "* **Hidden Nodes** – The Hidden nodes have no direct connection with the outside world (hence the name “hidden”). They perform computations and transfer information from the input nodes to the output nodes. A collection of hidden nodes forms a “Hidden Layer”. While a network will only have a single input layer and a single output layer, it can have zero or multiple Hidden Layers. A Multi-Layer Perceptron has one or more hidden layers.\n",
        "\n",
        "* **Output Nodes** – The Output nodes are collectively referred to as the “Output Layer” and are responsible for computations and transferring information from the network to the outside world.\n",
        "\n",
        "Yeah, you guessed it right, I will take an example to explain – how an Artificial Neural Network works.\n",
        "\n",
        "Suppose we have data of a football team, Chelsea. The data contains three columns. The last column tells whether Chelsea won the match or they lost it. The other two columns are about, goal lead in the first half and possession in the second half. Possession is the amount of time for which the team has the ball in percentage. So, if I say that a team has 50% possession in one half (45 minutes), it means that, the team had ball for 22.5 minutes out of 45 minutes. \n",
        "\n",
        "<img src='https://github.com/rahiakela/img-repo/blob/master/chelsea-table.png?raw=1' width='800'/>\n",
        "\n",
        "The Final Result column, can have two values 1 or 0 indicating whether Chelsea won the match or not. For example, we can see that if there is a 0 goal lead in the first half and in next half Chelsea has 80% possession, then Chelsea wins the match.\n",
        "\n",
        "Now, suppose, we want to predict whether Chelsea will win the match or not, if the goal lead in the first half is 2 and the possession in the second half is 32%.\n",
        "\n",
        "This is a binary classification problem where a multi layer Perceptron can learn from the given examples (training data) and make an informed prediction given a new data point. We will see below how a multi layer perceptron learns such relationships.\n",
        "\n",
        "The process by which a Multi Layer Perceptron learns is called the Backpropagation algorithm, I would recommend you to go through the [Backpropagation](https://www.edureka.co/blog/backpropagation/) blog.\n",
        "\n",
        "\n",
        "Consider the diagram below:\n",
        "\n",
        "<img src='https://d1jnx9ba8s6j9r.cloudfront.net/blog/wp-content/uploads/2017/09/Multi-Layer-Perceptron-Example-Neural-Network-Tutorial-Edureka.png?raw=1' width='800'/>\n",
        "\n",
        "\n",
        "\n",
        "\n",
        "\n"
      ]
    },
    {
      "cell_type": "markdown",
      "metadata": {
        "id": "GMxujq5vr5A3",
        "colab_type": "text"
      },
      "source": [
        "### Forward Propagation"
      ]
    },
    {
      "cell_type": "markdown",
      "metadata": {
        "id": "iMZibt0Ur6Ik",
        "colab_type": "text"
      },
      "source": [
        "Here, we will propagate forward, i.e. calculate the weighted sum of the inputs and add bias. In the output layer we will use the softmax function to get the probabilities of Chelsea winning or loosing. \n",
        "\n",
        "If you notice the diagram, winning probability is 0.4 and loosing probability is 0.6. But, according to our data, we know that when goal lead in the first half is 1 and possession in the second half is 42% Chelsea will win. Our network has made wrong prediction. \n",
        "\n",
        "If we see the error (Comparing the network output with target), it is 0.6 and -0.6."
      ]
    },
    {
      "cell_type": "markdown",
      "metadata": {
        "id": "orXajLyzr--W",
        "colab_type": "text"
      },
      "source": [
        "### Backward Propagation and Weight Updation"
      ]
    },
    {
      "cell_type": "markdown",
      "metadata": {
        "id": "ApULU2ejsAAW",
        "colab_type": "text"
      },
      "source": [
        "We calculate the total error at the output nodes and propagate these errors back through the network using Backpropagation to calculate the gradients. Then we use an optimization method such as Gradient Descent to ‘adjust’ all weights in the network with an aim of reducing the error at the output layer. \n",
        "\n",
        "Let me explain you how the gradient descent optimizer works:\n",
        "\n",
        "* **Step – 1**: First we calculate the error, consider the equation below:\n",
        "\n",
        "<img src='https://d1jnx9ba8s6j9r.cloudfront.net/blog/wp-content/uploads/2017/09/Error-Neural-Network-Tutorial-Edureka-1-528x200.png?raw=1' width='800'/>\n",
        "\n",
        "* **Step – 2**: Based on the error we got, it will calculate the rate of change of error w.r.t change in the weights.\n",
        "\n",
        "<img src='https://d1jnx9ba8s6j9r.cloudfront.net/blog/wp-content/uploads/2017/09/Gradient-Neural-Network-Tutorial-Edureka-467x300.png?raw=1' width='800'/>\n",
        "\n",
        "* **Step – 3**: Now, based on this change in weight, we will calculate the new weight value.\n",
        "\n",
        "If we now input the same example to the network again, the network should perform better than before since the weights have now have been adjusted to minimize the error in prediction. Consider the example below, As shown in Figure, the errors at the output nodes now reduce to [0.2, -0.2] as compared to [0.6, -0.4] earlier. This means that our network has learnt to correctly classify our first training example. \n",
        "\n",
        "<img src='https://d1jnx9ba8s6j9r.cloudfront.net/blog/wp-content/uploads/2017/09/Neural-Network-Example-Neural-Network-Tutorial-Edureka.png?raw=1' width='800'/>\n",
        "\n",
        "We repeat this process with all other training examples in our dataset. Then, our network is said to have learnt those examples.\n",
        "\n",
        "Now, I can feed in the input to our network. If I feed in goal lead in the first half as 2 and possession in the second half as 32%, our network will predict whether Chelsea will win that match or not.\n",
        "\n",
        "Now in this Neural Network Tutorial, we will some have fun with hands-on. I will be using TensorFlow to model a Multi-Layer Neural Network.\n",
        "\n",
        "\n",
        "\n",
        "\n"
      ]
    },
    {
      "cell_type": "markdown",
      "metadata": {
        "id": "k4sTQWmFsu5h",
        "colab_type": "text"
      },
      "source": [
        "## Use-Case"
      ]
    },
    {
      "cell_type": "markdown",
      "metadata": {
        "id": "WvLGpN4KsxtV",
        "colab_type": "text"
      },
      "source": [
        "Let’s look at our problem statement:\n",
        "\n",
        "<img src='https://d1jnx9ba8s6j9r.cloudfront.net/blog/wp-content/uploads/2017/09/Problem-Statement-Neural-Network-Tutorial-Edureka.png?raw=1' width='800'/>\n",
        "\n",
        "Now, let’s look at the dataset, which we will be using to train our network.\n",
        "\n",
        "<img src='https://d1jnx9ba8s6j9r.cloudfront.net/blog/wp-content/uploads/2017/09/Dataset-Neural-Network-Tutorial-Edureka.png?raw=1' width='800'/>\n",
        "\n",
        "The first four columns are features and the last column is label. \n",
        "\n",
        "Data were extracted from images that were taken from genuine and forged banknote-like specimens. The final images have 400×400 pixels. Due to the object lens and distance to the investigated object gray-scale, pictures with a resolution of about 660 dpi were gained. Wavelet Transform tool were used to extract features from images.\n",
        "\n",
        "To implement this use-case, we will be using the below flow diagram:\n",
        "\n",
        "<img src='https://d1jnx9ba8s6j9r.cloudfront.net/blog/wp-content/uploads/2017/09/Use-Case-Implementation-Neural-Network-Tutorial-Edureka.png?raw=1' width='800'/>\n",
        "\n",
        "Let’s execute it now:\n",
        "\n",
        "\n",
        "\n",
        "\n"
      ]
    },
    {
      "cell_type": "code",
      "metadata": {
        "id": "qk7YGEMDa6IU",
        "colab_type": "code",
        "colab": {
          "base_uri": "https://localhost:8080/",
          "height": 64
        },
        "outputId": "e43041a7-1ac3-4c73-f6a2-235d78aa1cfa"
      },
      "source": [
        "import matplotlib.pyplot as plt\n",
        "import tensorflow as tf\n",
        "import numpy as np\n",
        "import pandas as pd\n",
        "from sklearn.preprocessing import LabelEncoder\n",
        "from sklearn.model_selection import train_test_split"
      ],
      "execution_count": 1,
      "outputs": [
        {
          "output_type": "display_data",
          "data": {
            "text/html": [
              "<p style=\"color: red;\">\n",
              "The default version of TensorFlow in Colab will soon switch to TensorFlow 2.x.<br>\n",
              "We recommend you <a href=\"https://www.tensorflow.org/guide/migrate\" target=\"_blank\">upgrade</a> now \n",
              "or ensure your notebook will continue to use TensorFlow 1.x via the <code>%tensorflow_version 1.x</code> magic:\n",
              "<a href=\"https://colab.research.google.com/notebooks/tensorflow_version.ipynb\" target=\"_blank\">more info</a>.</p>\n"
            ],
            "text/plain": [
              "<IPython.core.display.HTML object>"
            ]
          },
          "metadata": {
            "tags": []
          }
        }
      ]
    },
    {
      "cell_type": "code",
      "metadata": {
        "id": "1Wylpsk3kHQl",
        "colab_type": "code",
        "colab": {
          "base_uri": "https://localhost:8080/",
          "height": 200
        },
        "outputId": "270ab961-af2e-47b5-f981-be73f443c791"
      },
      "source": [
        "df = pd.read_csv('banknote.csv', header=None)\n",
        "df.head()"
      ],
      "execution_count": 29,
      "outputs": [
        {
          "output_type": "execute_result",
          "data": {
            "text/html": [
              "<div>\n",
              "<style scoped>\n",
              "    .dataframe tbody tr th:only-of-type {\n",
              "        vertical-align: middle;\n",
              "    }\n",
              "\n",
              "    .dataframe tbody tr th {\n",
              "        vertical-align: top;\n",
              "    }\n",
              "\n",
              "    .dataframe thead th {\n",
              "        text-align: right;\n",
              "    }\n",
              "</style>\n",
              "<table border=\"1\" class=\"dataframe\">\n",
              "  <thead>\n",
              "    <tr style=\"text-align: right;\">\n",
              "      <th></th>\n",
              "      <th>0</th>\n",
              "      <th>1</th>\n",
              "      <th>2</th>\n",
              "      <th>3</th>\n",
              "      <th>4</th>\n",
              "    </tr>\n",
              "  </thead>\n",
              "  <tbody>\n",
              "    <tr>\n",
              "      <th>0</th>\n",
              "      <td>3.62160</td>\n",
              "      <td>8.6661</td>\n",
              "      <td>-2.8073</td>\n",
              "      <td>-0.44699</td>\n",
              "      <td>1</td>\n",
              "    </tr>\n",
              "    <tr>\n",
              "      <th>1</th>\n",
              "      <td>4.54590</td>\n",
              "      <td>8.1674</td>\n",
              "      <td>-2.4586</td>\n",
              "      <td>-1.46210</td>\n",
              "      <td>1</td>\n",
              "    </tr>\n",
              "    <tr>\n",
              "      <th>2</th>\n",
              "      <td>3.86600</td>\n",
              "      <td>-2.6383</td>\n",
              "      <td>1.9242</td>\n",
              "      <td>0.10645</td>\n",
              "      <td>1</td>\n",
              "    </tr>\n",
              "    <tr>\n",
              "      <th>3</th>\n",
              "      <td>3.45660</td>\n",
              "      <td>9.5228</td>\n",
              "      <td>-4.0112</td>\n",
              "      <td>-3.59440</td>\n",
              "      <td>1</td>\n",
              "    </tr>\n",
              "    <tr>\n",
              "      <th>4</th>\n",
              "      <td>0.32924</td>\n",
              "      <td>-4.4552</td>\n",
              "      <td>4.5718</td>\n",
              "      <td>-0.98880</td>\n",
              "      <td>1</td>\n",
              "    </tr>\n",
              "  </tbody>\n",
              "</table>\n",
              "</div>"
            ],
            "text/plain": [
              "         0       1       2        3  4\n",
              "0  3.62160  8.6661 -2.8073 -0.44699  1\n",
              "1  4.54590  8.1674 -2.4586 -1.46210  1\n",
              "2  3.86600 -2.6383  1.9242  0.10645  1\n",
              "3  3.45660  9.5228 -4.0112 -3.59440  1\n",
              "4  0.32924 -4.4552  4.5718 -0.98880  1"
            ]
          },
          "metadata": {
            "tags": []
          },
          "execution_count": 29
        }
      ]
    },
    {
      "cell_type": "code",
      "metadata": {
        "id": "Nu2R-Hm5kaAK",
        "colab_type": "code",
        "colab": {
          "base_uri": "https://localhost:8080/",
          "height": 195
        },
        "outputId": "e2cd5aa2-e300-44c9-9be5-f80084fa5e12"
      },
      "source": [
        "X = df[df.columns[0:4]].values\n",
        "X[:10]"
      ],
      "execution_count": 31,
      "outputs": [
        {
          "output_type": "execute_result",
          "data": {
            "text/plain": [
              "array([[ 3.6216 ,  8.6661 , -2.8073 , -0.44699],\n",
              "       [ 4.5459 ,  8.1674 , -2.4586 , -1.4621 ],\n",
              "       [ 3.866  , -2.6383 ,  1.9242 ,  0.10645],\n",
              "       [ 3.4566 ,  9.5228 , -4.0112 , -3.5944 ],\n",
              "       [ 0.32924, -4.4552 ,  4.5718 , -0.9888 ],\n",
              "       [ 4.3684 ,  9.6718 , -3.9606 , -3.1625 ],\n",
              "       [ 3.5912 ,  3.0129 ,  0.72888,  0.56421],\n",
              "       [ 2.0922 , -6.81   ,  8.4636 , -0.60216],\n",
              "       [ 3.2032 ,  5.7588 , -0.75345, -0.61251],\n",
              "       [ 1.5356 ,  9.1772 , -2.2718 , -0.73535]])"
            ]
          },
          "metadata": {
            "tags": []
          },
          "execution_count": 31
        }
      ]
    },
    {
      "cell_type": "code",
      "metadata": {
        "id": "310yikuUkgbI",
        "colab_type": "code",
        "colab": {
          "base_uri": "https://localhost:8080/",
          "height": 212
        },
        "outputId": "ade8ce35-8294-447c-95b7-e236a5dd6a04"
      },
      "source": [
        "y = df[df.columns[4]]\n",
        "y[:10]"
      ],
      "execution_count": 32,
      "outputs": [
        {
          "output_type": "execute_result",
          "data": {
            "text/plain": [
              "0    1\n",
              "1    1\n",
              "2    1\n",
              "3    1\n",
              "4    1\n",
              "5    1\n",
              "6    1\n",
              "7    1\n",
              "8    1\n",
              "9    1\n",
              "Name: 4, dtype: int64"
            ]
          },
          "metadata": {
            "tags": []
          },
          "execution_count": 32
        }
      ]
    },
    {
      "cell_type": "code",
      "metadata": {
        "id": "mEOms9jLb_H1",
        "colab_type": "code",
        "colab": {}
      },
      "source": [
        "# Reading the dataset\n",
        "def read_dataset():\n",
        "  df = pd.read_csv('banknote.csv', header=None)\n",
        "  X = df[df.columns[0:4]].values\n",
        "  y = df[df.columns[4]]\n",
        "\n",
        "  # Encode the dependent variable\n",
        "  Y = one_hot_encode(y)\n",
        "  print(X.shape)\n",
        "\n",
        "  return (X, Y)\n",
        "\n",
        "# Define the encoder function.\n",
        "def one_hot_encode(labels):\n",
        "  n_labels = len(labels)\n",
        "  n_unique_labels = len(np.unique(labels))\n",
        "  one_hot_encode = np.zeros((n_labels, n_unique_labels))\n",
        "  one_hot_encode[np.arange(n_labels), labels] = 1\n",
        "\n",
        "  return one_hot_encode"
      ],
      "execution_count": 0,
      "outputs": []
    },
    {
      "cell_type": "code",
      "metadata": {
        "id": "q3U6Yz3xgCbd",
        "colab_type": "code",
        "colab": {
          "base_uri": "https://localhost:8080/",
          "height": 333
        },
        "outputId": "b7db9021-f407-4246-e757-b572a0a43c62"
      },
      "source": [
        "X, Y = read_dataset()\n",
        "X[:10]"
      ],
      "execution_count": 27,
      "outputs": [
        {
          "output_type": "error",
          "ename": "IndexError",
          "evalue": "ignored",
          "traceback": [
            "\u001b[0;31m---------------------------------------------------------------------------\u001b[0m",
            "\u001b[0;31mIndexError\u001b[0m                                Traceback (most recent call last)",
            "\u001b[0;32m<ipython-input-27-45b80e491c18>\u001b[0m in \u001b[0;36m<module>\u001b[0;34m()\u001b[0m\n\u001b[0;32m----> 1\u001b[0;31m \u001b[0mX\u001b[0m\u001b[0;34m,\u001b[0m \u001b[0mY\u001b[0m \u001b[0;34m=\u001b[0m \u001b[0mread_dataset\u001b[0m\u001b[0;34m(\u001b[0m\u001b[0;34m)\u001b[0m\u001b[0;34m\u001b[0m\u001b[0;34m\u001b[0m\u001b[0m\n\u001b[0m\u001b[1;32m      2\u001b[0m \u001b[0mX\u001b[0m\u001b[0;34m[\u001b[0m\u001b[0;34m:\u001b[0m\u001b[0;36m10\u001b[0m\u001b[0;34m]\u001b[0m\u001b[0;34m\u001b[0m\u001b[0;34m\u001b[0m\u001b[0m\n",
            "\u001b[0;32m<ipython-input-26-90076308fbfc>\u001b[0m in \u001b[0;36mread_dataset\u001b[0;34m()\u001b[0m\n\u001b[1;32m      5\u001b[0m \u001b[0;34m\u001b[0m\u001b[0m\n\u001b[1;32m      6\u001b[0m   \u001b[0;31m# Encode the dependent variable\u001b[0m\u001b[0;34m\u001b[0m\u001b[0;34m\u001b[0m\u001b[0;34m\u001b[0m\u001b[0m\n\u001b[0;32m----> 7\u001b[0;31m   \u001b[0mY\u001b[0m \u001b[0;34m=\u001b[0m \u001b[0mone_hot_encode\u001b[0m\u001b[0;34m(\u001b[0m\u001b[0my\u001b[0m\u001b[0;34m)\u001b[0m\u001b[0;34m\u001b[0m\u001b[0;34m\u001b[0m\u001b[0m\n\u001b[0m\u001b[1;32m      8\u001b[0m   \u001b[0mprint\u001b[0m\u001b[0;34m(\u001b[0m\u001b[0mX\u001b[0m\u001b[0;34m.\u001b[0m\u001b[0mshape\u001b[0m\u001b[0;34m)\u001b[0m\u001b[0;34m\u001b[0m\u001b[0;34m\u001b[0m\u001b[0m\n\u001b[1;32m      9\u001b[0m \u001b[0;34m\u001b[0m\u001b[0m\n",
            "\u001b[0;32m<ipython-input-26-90076308fbfc>\u001b[0m in \u001b[0;36mone_hot_encode\u001b[0;34m(labels)\u001b[0m\n\u001b[1;32m     15\u001b[0m   \u001b[0mn_unique_labels\u001b[0m \u001b[0;34m=\u001b[0m \u001b[0mlen\u001b[0m\u001b[0;34m(\u001b[0m\u001b[0mnp\u001b[0m\u001b[0;34m.\u001b[0m\u001b[0munique\u001b[0m\u001b[0;34m(\u001b[0m\u001b[0mlabels\u001b[0m\u001b[0;34m)\u001b[0m\u001b[0;34m)\u001b[0m\u001b[0;34m\u001b[0m\u001b[0;34m\u001b[0m\u001b[0m\n\u001b[1;32m     16\u001b[0m   \u001b[0mone_hot_encode\u001b[0m \u001b[0;34m=\u001b[0m \u001b[0mnp\u001b[0m\u001b[0;34m.\u001b[0m\u001b[0mzeros\u001b[0m\u001b[0;34m(\u001b[0m\u001b[0;34m(\u001b[0m\u001b[0mn_labels\u001b[0m\u001b[0;34m,\u001b[0m \u001b[0mn_unique_labels\u001b[0m\u001b[0;34m)\u001b[0m\u001b[0;34m)\u001b[0m\u001b[0;34m\u001b[0m\u001b[0;34m\u001b[0m\u001b[0m\n\u001b[0;32m---> 17\u001b[0;31m   \u001b[0mone_hot_encode\u001b[0m\u001b[0;34m[\u001b[0m\u001b[0mnp\u001b[0m\u001b[0;34m.\u001b[0m\u001b[0marange\u001b[0m\u001b[0;34m(\u001b[0m\u001b[0mn_labels\u001b[0m\u001b[0;34m)\u001b[0m\u001b[0;34m,\u001b[0m \u001b[0mlabels\u001b[0m\u001b[0;34m]\u001b[0m \u001b[0;34m=\u001b[0m \u001b[0;36m1\u001b[0m\u001b[0;34m\u001b[0m\u001b[0;34m\u001b[0m\u001b[0m\n\u001b[0m\u001b[1;32m     18\u001b[0m \u001b[0;34m\u001b[0m\u001b[0m\n\u001b[1;32m     19\u001b[0m   \u001b[0;32mreturn\u001b[0m \u001b[0mone_hot_encode\u001b[0m\u001b[0;34m\u001b[0m\u001b[0;34m\u001b[0m\u001b[0m\n",
            "\u001b[0;31mIndexError\u001b[0m: index 2 is out of bounds for axis 1 with size 2"
          ]
        }
      ]
    },
    {
      "cell_type": "code",
      "metadata": {
        "id": "CnWwuseigLCD",
        "colab_type": "code",
        "colab": {}
      },
      "source": [
        ""
      ],
      "execution_count": 0,
      "outputs": []
    }
  ]
}