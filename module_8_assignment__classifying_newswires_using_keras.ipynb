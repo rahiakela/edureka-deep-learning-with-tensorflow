{
  "nbformat": 4,
  "nbformat_minor": 0,
  "metadata": {
    "colab": {
      "name": "module_8_assignment__classifying_newswires_using_keras.ipynb",
      "provenance": [],
      "toc_visible": true,
      "include_colab_link": true
    },
    "kernelspec": {
      "name": "python3",
      "display_name": "Python 3"
    }
  },
  "cells": [
    {
      "cell_type": "markdown",
      "metadata": {
        "id": "view-in-github",
        "colab_type": "text"
      },
      "source": [
        "<a href=\"https://colab.research.google.com/github/rahiakela/edureka-deep-learning-with-tensorflow/blob/module-8-keras/module_8_assignment__classifying_newswires_using_keras.ipynb\" target=\"_parent\"><img src=\"https://colab.research.google.com/assets/colab-badge.svg\" alt=\"Open In Colab\"/></a>"
      ]
    },
    {
      "cell_type": "markdown",
      "metadata": {
        "id": "YKwGCsNQ3btw",
        "colab_type": "text"
      },
      "source": [
        "# Module 8 Assignment: Classifying newswires using *Keras*"
      ]
    },
    {
      "cell_type": "markdown",
      "metadata": {
        "id": "rALocsIe3d5O",
        "colab_type": "text"
      },
      "source": [
        "Load the ‘Reuters newswire topics classification’ dataset and\n",
        "perform the following tasks:\n",
        "* Study the Reuters newswire dataset.\n",
        "* Import the dataset from ‘keras.datsets’.\n",
        "* Create an MLP for classification of the dataset.\n",
        "* Print the test accuracy of the model."
      ]
    },
    {
      "cell_type": "markdown",
      "metadata": {
        "id": "dOcX0zSg37kH",
        "colab_type": "text"
      },
      "source": [
        "## Setup"
      ]
    },
    {
      "cell_type": "code",
      "metadata": {
        "id": "aVg2aKsC39NC",
        "colab_type": "code",
        "colab": {}
      },
      "source": [
        "from __future__ import absolute_import, division, print_function, unicode_literals\n",
        "\n",
        "try:\n",
        "  # %tensorflow_version only exists in Colab.\n",
        "  %tensorflow_version 2.x\n",
        "except Exception:\n",
        "  pass\n",
        "import tensorflow as tf\n",
        "from tensorflow import keras\n",
        "import numpy as np\n",
        "import pandas as pd\n",
        "\n",
        "import matplotlib.pyplot as plt"
      ],
      "execution_count": 0,
      "outputs": []
    },
    {
      "cell_type": "markdown",
      "metadata": {
        "id": "iKjuR2ME3kpZ",
        "colab_type": "text"
      },
      "source": [
        "## The Reuters dataset"
      ]
    },
    {
      "cell_type": "markdown",
      "metadata": {
        "id": "RMusJQCo3lrs",
        "colab_type": "text"
      },
      "source": [
        "You’ll work with the Reuters dataset, a set of short newswires and their topics, published\n",
        "by Reuters in 1986. It’s a simple, widely used toy dataset for text classification. There\n",
        "are 46 different topics; some topics are more represented than others, but each topic\n",
        "has at least 10 examples in the training set."
      ]
    },
    {
      "cell_type": "code",
      "metadata": {
        "id": "jz8AARfO4V6H",
        "colab_type": "code",
        "outputId": "c2794ae1-eeb5-484a-e240-10f654f55325",
        "colab": {
          "base_uri": "https://localhost:8080/",
          "height": 67
        }
      },
      "source": [
        "from keras.datasets import reuters\n",
        "\n",
        "(train_data, train_labels), (test_data, test_labels) = reuters.load_data(num_words=10000)"
      ],
      "execution_count": 2,
      "outputs": [
        {
          "output_type": "stream",
          "text": [
            "Using TensorFlow backend.\n"
          ],
          "name": "stderr"
        },
        {
          "output_type": "stream",
          "text": [
            "Downloading data from https://s3.amazonaws.com/text-datasets/reuters.npz\n",
            "2113536/2110848 [==============================] - 0s 0us/step\n"
          ],
          "name": "stdout"
        }
      ]
    },
    {
      "cell_type": "markdown",
      "metadata": {
        "id": "u4ZFD3nD45Fu",
        "colab_type": "text"
      },
      "source": [
        "As with the IMDB dataset, the argument num_words=10000 restricts the data to the\n",
        "10,000 most frequently occurring words found in the data.\n",
        "\n",
        "You have 8,982 training examples and 2,246 test examples:"
      ]
    },
    {
      "cell_type": "code",
      "metadata": {
        "id": "BCCPVNFQ4zBX",
        "colab_type": "code",
        "outputId": "7b2f06af-466e-4b90-a259-7fd85ee82418",
        "colab": {
          "base_uri": "https://localhost:8080/",
          "height": 33
        }
      },
      "source": [
        "len(train_data)"
      ],
      "execution_count": 3,
      "outputs": [
        {
          "output_type": "execute_result",
          "data": {
            "text/plain": [
              "8982"
            ]
          },
          "metadata": {
            "tags": []
          },
          "execution_count": 3
        }
      ]
    },
    {
      "cell_type": "code",
      "metadata": {
        "id": "vLZSO6th4-uV",
        "colab_type": "code",
        "outputId": "b1b4aff9-1f3e-4a93-ad89-b5824fecc742",
        "colab": {
          "base_uri": "https://localhost:8080/",
          "height": 33
        }
      },
      "source": [
        "len(test_data)"
      ],
      "execution_count": 4,
      "outputs": [
        {
          "output_type": "execute_result",
          "data": {
            "text/plain": [
              "2246"
            ]
          },
          "metadata": {
            "tags": []
          },
          "execution_count": 4
        }
      ]
    },
    {
      "cell_type": "markdown",
      "metadata": {
        "id": "1W1qUFyw5G8M",
        "colab_type": "text"
      },
      "source": [
        "As with the IMDB reviews, each example is a list of integers (word indices):"
      ]
    },
    {
      "cell_type": "code",
      "metadata": {
        "id": "_4ligJzZ5CPW",
        "colab_type": "code",
        "outputId": "630eb2ce-bebc-48fc-892d-98e458ad7d01",
        "colab": {
          "base_uri": "https://localhost:8080/",
          "height": 33
        }
      },
      "source": [
        "print(train_data[10])"
      ],
      "execution_count": 5,
      "outputs": [
        {
          "output_type": "stream",
          "text": [
            "[1, 245, 273, 207, 156, 53, 74, 160, 26, 14, 46, 296, 26, 39, 74, 2979, 3554, 14, 46, 4689, 4329, 86, 61, 3499, 4795, 14, 61, 451, 4329, 17, 12]\n"
          ],
          "name": "stdout"
        }
      ]
    },
    {
      "cell_type": "markdown",
      "metadata": {
        "id": "thDcrWwb5b7E",
        "colab_type": "text"
      },
      "source": [
        "Here’s how you can decode it back to words, in case you’re curious."
      ]
    },
    {
      "cell_type": "code",
      "metadata": {
        "id": "EGQf5An95KB8",
        "colab_type": "code",
        "outputId": "05a39965-673b-4f83-9f2d-2a1a8548c061",
        "colab": {
          "base_uri": "https://localhost:8080/",
          "height": 87
        }
      },
      "source": [
        "word_index = reuters.get_word_index()\n",
        "reverse_word_index = dict([(value, key) for (key, value) in word_index.items()])\n",
        "# Note that our indices were offset by 3\n",
        "# because 0, 1 and 2 are reserved indices for \"padding\", \"start of sequence\", and \"unknown\".\n",
        "decoded_newswire = ' '.join([reverse_word_index.get(i - 3, '?') for i in train_data[0]])\n",
        "decoded_newswire"
      ],
      "execution_count": 6,
      "outputs": [
        {
          "output_type": "stream",
          "text": [
            "Downloading data from https://s3.amazonaws.com/text-datasets/reuters_word_index.json\n",
            "557056/550378 [==============================] - 0s 0us/step\n"
          ],
          "name": "stdout"
        },
        {
          "output_type": "execute_result",
          "data": {
            "text/plain": [
              "'? ? ? said as a result of its december acquisition of space co it expects earnings per share in 1987 of 1 15 to 1 30 dlrs per share up from 70 cts in 1986 the company said pretax net should rise to nine to 10 mln dlrs from six mln dlrs in 1986 and rental operation revenues to 19 to 22 mln dlrs from 12 5 mln dlrs it said cash flow per share this year should be 2 50 to three dlrs reuter 3'"
            ]
          },
          "metadata": {
            "tags": []
          },
          "execution_count": 6
        }
      ]
    },
    {
      "cell_type": "markdown",
      "metadata": {
        "id": "-fc1KAwE6NpL",
        "colab_type": "text"
      },
      "source": [
        "The label associated with an example is an integer between 0 and 45: a topic index."
      ]
    },
    {
      "cell_type": "code",
      "metadata": {
        "id": "dfPFhpMq6ELh",
        "colab_type": "code",
        "outputId": "50ce2f63-e649-4780-c6c9-75267c54a3db",
        "colab": {
          "base_uri": "https://localhost:8080/",
          "height": 33
        }
      },
      "source": [
        "train_labels[10]"
      ],
      "execution_count": 7,
      "outputs": [
        {
          "output_type": "execute_result",
          "data": {
            "text/plain": [
              "3"
            ]
          },
          "metadata": {
            "tags": []
          },
          "execution_count": 7
        }
      ]
    },
    {
      "cell_type": "markdown",
      "metadata": {
        "id": "UQFBU7Jw6dDn",
        "colab_type": "text"
      },
      "source": [
        "## Preparing the data"
      ]
    },
    {
      "cell_type": "markdown",
      "metadata": {
        "id": "4dBbFr7p6eBK",
        "colab_type": "text"
      },
      "source": [
        "You can vectorize the data with the exact same code as in the previous example."
      ]
    },
    {
      "cell_type": "code",
      "metadata": {
        "id": "7zsHNZJ-6TVM",
        "colab_type": "code",
        "colab": {}
      },
      "source": [
        "import numpy as np\n",
        "\n",
        "def vectorize_sequences(sequences, dimension=10000):\n",
        "  results = np.zeros((len(sequences), dimension))\n",
        "  for i, sequence in enumerate(sequences):\n",
        "    results[i, sequence] = 1.\n",
        "  return results\n",
        "\n",
        "# Our vectorized training data\n",
        "x_train = vectorize_sequences(train_data)   \n",
        "# Our vectorized test data\n",
        "x_test = vectorize_sequences(test_data)"
      ],
      "execution_count": 0,
      "outputs": []
    },
    {
      "cell_type": "markdown",
      "metadata": {
        "id": "TVwrrrS08MkQ",
        "colab_type": "text"
      },
      "source": [
        "To vectorize the labels, there are two possibilities: you can cast the label list as an integer\n",
        "tensor, or you can use one-hot encoding. One-hot encoding is a widely used format\n",
        "for categorical data, also called categorical encoding."
      ]
    },
    {
      "cell_type": "code",
      "metadata": {
        "id": "-Z2gFGsc8Ffz",
        "colab_type": "code",
        "colab": {}
      },
      "source": [
        "def to_one_hot(labels, dimension=46):\n",
        "  results = np.zeros((len(labels), dimension))\n",
        "  for i, label in enumerate(labels):\n",
        "    results[i, label] = 1.\n",
        "\n",
        "# Our vectorized training labels\n",
        "one_hot_train_labels = to_one_hot(train_labels)\n",
        "# Our vectorized test labels\n",
        "one_hot_test_labels = to_one_hot(test_labels)"
      ],
      "execution_count": 0,
      "outputs": []
    },
    {
      "cell_type": "markdown",
      "metadata": {
        "id": "Oz7x6DuV9F8Z",
        "colab_type": "text"
      },
      "source": [
        "Note that there is a built-in way to do this in Keras, which you have already seen in action in our MNIST example:"
      ]
    },
    {
      "cell_type": "code",
      "metadata": {
        "id": "hiCUGFo_9FU1",
        "colab_type": "code",
        "colab": {}
      },
      "source": [
        "from keras.utils.np_utils import to_categorical\n",
        "\n",
        "one_hot_train_labels = to_categorical(train_labels)\n",
        "one_hot_test_labels = to_categorical(test_labels)"
      ],
      "execution_count": 0,
      "outputs": []
    },
    {
      "cell_type": "markdown",
      "metadata": {
        "id": "L_P8g_ct9egl",
        "colab_type": "text"
      },
      "source": [
        "## Building your network"
      ]
    },
    {
      "cell_type": "code",
      "metadata": {
        "id": "9RonWsFh-Rai",
        "colab_type": "code",
        "colab": {}
      },
      "source": [
        "from tensorflow.keras.models import Sequential\n",
        "from tensorflow.keras.layers import Dense \n",
        "\n",
        "model = Sequential()\n",
        "model.add(Dense(64, activation='relu', input_shape=(10000, )))\n",
        "model.add(Dense(64, activation='relu'))\n",
        "model.add(Dense(46, activation='softmax'))"
      ],
      "execution_count": 0,
      "outputs": []
    },
    {
      "cell_type": "code",
      "metadata": {
        "id": "89CFwybQ-rV8",
        "colab_type": "code",
        "colab": {}
      },
      "source": [
        "# Compiling the model\n",
        "model.compile(optimizer='RMSprop', loss='categorical_crossentropy', metrics=['accuracy'])"
      ],
      "execution_count": 0,
      "outputs": []
    },
    {
      "cell_type": "markdown",
      "metadata": {
        "id": "8OqKSHKSAD-C",
        "colab_type": "text"
      },
      "source": [
        "## Validating our approach"
      ]
    },
    {
      "cell_type": "markdown",
      "metadata": {
        "id": "eerd_pwoAFPs",
        "colab_type": "text"
      },
      "source": [
        "Let’s set apart 1,000 samples in the training data to use as a validation set."
      ]
    },
    {
      "cell_type": "code",
      "metadata": {
        "id": "Fai2ARAb_4gC",
        "colab_type": "code",
        "colab": {}
      },
      "source": [
        "x_val = x_train[:1000]\n",
        "partial_x_train = x_train[1000:]\n",
        "\n",
        "y_val = one_hot_train_labels[:1000]\n",
        "partial_y_train = one_hot_train_labels[1000:]"
      ],
      "execution_count": 0,
      "outputs": []
    },
    {
      "cell_type": "markdown",
      "metadata": {
        "id": "vmQn2mmC_Vjv",
        "colab_type": "text"
      },
      "source": [
        "Now let's train our network for 20 epochs:"
      ]
    },
    {
      "cell_type": "code",
      "metadata": {
        "id": "4SAMxUf2_WF-",
        "colab_type": "code",
        "outputId": "ac139f8a-b199-4c4b-8a92-5f0d0fb54e50",
        "colab": {
          "base_uri": "https://localhost:8080/",
          "height": 683
        }
      },
      "source": [
        "history = model.fit(partial_x_train, partial_y_train, epochs=20, batch_size=512, validation_data=(x_val, y_val))"
      ],
      "execution_count": 14,
      "outputs": [
        {
          "output_type": "stream",
          "text": [
            "Epoch 1/20\n",
            "16/16 [==============================] - 1s 55ms/step - loss: 2.6001 - accuracy: 0.5193 - val_loss: 1.7262 - val_accuracy: 0.6440\n",
            "Epoch 2/20\n",
            "16/16 [==============================] - 1s 45ms/step - loss: 1.4000 - accuracy: 0.7155 - val_loss: 1.3035 - val_accuracy: 0.7170\n",
            "Epoch 3/20\n",
            "16/16 [==============================] - 1s 44ms/step - loss: 1.0435 - accuracy: 0.7781 - val_loss: 1.1430 - val_accuracy: 0.7640\n",
            "Epoch 4/20\n",
            "16/16 [==============================] - 1s 45ms/step - loss: 0.8155 - accuracy: 0.8301 - val_loss: 1.0442 - val_accuracy: 0.7780\n",
            "Epoch 5/20\n",
            "16/16 [==============================] - 1s 42ms/step - loss: 0.6505 - accuracy: 0.8651 - val_loss: 0.9707 - val_accuracy: 0.8040\n",
            "Epoch 6/20\n",
            "16/16 [==============================] - 1s 42ms/step - loss: 0.5146 - accuracy: 0.8911 - val_loss: 0.9389 - val_accuracy: 0.8040\n",
            "Epoch 7/20\n",
            "16/16 [==============================] - 1s 44ms/step - loss: 0.4164 - accuracy: 0.9141 - val_loss: 0.9218 - val_accuracy: 0.8140\n",
            "Epoch 8/20\n",
            "16/16 [==============================] - 1s 45ms/step - loss: 0.3368 - accuracy: 0.9290 - val_loss: 0.9089 - val_accuracy: 0.8170\n",
            "Epoch 9/20\n",
            "16/16 [==============================] - 1s 44ms/step - loss: 0.2780 - accuracy: 0.9371 - val_loss: 0.9234 - val_accuracy: 0.8140\n",
            "Epoch 10/20\n",
            "16/16 [==============================] - 1s 43ms/step - loss: 0.2408 - accuracy: 0.9436 - val_loss: 0.9136 - val_accuracy: 0.8170\n",
            "Epoch 11/20\n",
            "16/16 [==============================] - 1s 44ms/step - loss: 0.2027 - accuracy: 0.9485 - val_loss: 0.9352 - val_accuracy: 0.8230\n",
            "Epoch 12/20\n",
            "16/16 [==============================] - 1s 43ms/step - loss: 0.1856 - accuracy: 0.9513 - val_loss: 0.9528 - val_accuracy: 0.8110\n",
            "Epoch 13/20\n",
            "16/16 [==============================] - 1s 43ms/step - loss: 0.1644 - accuracy: 0.9528 - val_loss: 0.9716 - val_accuracy: 0.8140\n",
            "Epoch 14/20\n",
            "16/16 [==============================] - 1s 44ms/step - loss: 0.1461 - accuracy: 0.9568 - val_loss: 1.1011 - val_accuracy: 0.7850\n",
            "Epoch 15/20\n",
            "16/16 [==============================] - 1s 45ms/step - loss: 0.1435 - accuracy: 0.9554 - val_loss: 1.0361 - val_accuracy: 0.8090\n",
            "Epoch 16/20\n",
            "16/16 [==============================] - 1s 44ms/step - loss: 0.1327 - accuracy: 0.9558 - val_loss: 1.0329 - val_accuracy: 0.8120\n",
            "Epoch 17/20\n",
            "16/16 [==============================] - 1s 43ms/step - loss: 0.1270 - accuracy: 0.9573 - val_loss: 1.0224 - val_accuracy: 0.8150\n",
            "Epoch 18/20\n",
            "16/16 [==============================] - 1s 45ms/step - loss: 0.1206 - accuracy: 0.9574 - val_loss: 1.0676 - val_accuracy: 0.8190\n",
            "Epoch 19/20\n",
            "16/16 [==============================] - 1s 44ms/step - loss: 0.1180 - accuracy: 0.9568 - val_loss: 1.0863 - val_accuracy: 0.8080\n",
            "Epoch 20/20\n",
            "16/16 [==============================] - 1s 44ms/step - loss: 0.1137 - accuracy: 0.9577 - val_loss: 1.0905 - val_accuracy: 0.8100\n"
          ],
          "name": "stdout"
        }
      ]
    },
    {
      "cell_type": "markdown",
      "metadata": {
        "id": "ld7qKq4e_1BZ",
        "colab_type": "text"
      },
      "source": [
        "And finally, let’s display its loss and accuracy curves"
      ]
    },
    {
      "cell_type": "code",
      "metadata": {
        "id": "MavfJJj5_1ma",
        "colab_type": "code",
        "outputId": "28b052b2-4b2f-4598-f922-04466bf7851d",
        "colab": {
          "base_uri": "https://localhost:8080/",
          "height": 295
        }
      },
      "source": [
        "# Plotting the training and validation loss\n",
        "\n",
        "import matplotlib.pyplot as plt\n",
        "\n",
        "loss = history.history['loss']\n",
        "val_loss = history.history['val_loss']\n",
        "\n",
        "epochs = range(1, len(loss) + 1)\n",
        "\n",
        "plt.plot(epochs, loss, 'bo', label='Training loss')\n",
        "plt.plot(epochs, val_loss, 'b', label='Validation loss')\n",
        "plt.title('Training and validation loss')\n",
        "plt.xlabel('Epochs')\n",
        "plt.ylabel('Loss')\n",
        "plt.legend()\n",
        "\n",
        "plt.show()"
      ],
      "execution_count": 15,
      "outputs": [
        {
          "output_type": "display_data",
          "data": {
            "image/png": "[encoded data removed]",
            "text/plain": [
              "<Figure size 432x288 with 1 Axes>"
            ]
          },
          "metadata": {
            "tags": []
          }
        }
      ]
    },
    {
      "cell_type": "code",
      "metadata": {
        "id": "oqXayHRt_qKn",
        "colab_type": "code",
        "outputId": "074f5dfb-782d-437a-8214-015dbdbc5c49",
        "colab": {
          "base_uri": "https://localhost:8080/",
          "height": 295
        }
      },
      "source": [
        "# Plotting the training and validation accuracy\n",
        "plt.clf()  # Clears the figure\n",
        "\n",
        "acc = history.history['accuracy']\n",
        "val_acc = history.history['val_accuracy']\n",
        "\n",
        "plt.plot(epochs, acc, 'bo', label='Training acc')\n",
        "plt.plot(epochs, val_acc, 'b', label='Validation acc')\n",
        "plt.title('Training and validation accuracy')\n",
        "plt.xlabel('Epochs')\n",
        "plt.ylabel('Loss')\n",
        "plt.legend()\n",
        "\n",
        "plt.show()"
      ],
      "execution_count": 16,
      "outputs": [
        {
          "output_type": "display_data",
          "data": {
            "image/png": "[encoded data removed]",
            "text/plain": [
              "<Figure size 432x288 with 1 Axes>"
            ]
          },
          "metadata": {
            "tags": []
          }
        }
      ]
    },
    {
      "cell_type": "markdown",
      "metadata": {
        "id": "_5rdMLUmCKHs",
        "colab_type": "text"
      },
      "source": [
        "It seems that the network starts overfitting after 8 epochs. Let's train a new network from scratch for 8 epochs, then let's evaluate it on the test set:"
      ]
    },
    {
      "cell_type": "code",
      "metadata": {
        "id": "0DpW4kjOB1JD",
        "colab_type": "code",
        "outputId": "d7e4112b-4941-4d5f-983d-d45e23a30dc3",
        "colab": {
          "base_uri": "https://localhost:8080/",
          "height": 317
        }
      },
      "source": [
        "# Retraining a model from scratch\n",
        "model_1 = Sequential()\n",
        "model_1.add(Dense(64, activation='relu', input_shape=(10000,)))\n",
        "model_1.add(Dense(64, activation='relu'))\n",
        "model_1.add(Dense(46, activation='softmax'))\n",
        "\n",
        "# compile the model\n",
        "model_1.compile(optimizer='RMSprop', loss='categorical_crossentropy', metrics=['accuracy'])\n",
        "\n",
        "# train the model\n",
        "model_1.fit(partial_x_train, partial_y_train, epochs=9, batch_size=512, validation_data=(x_val, y_val))\n",
        "\n",
        "# evaluate the model\n",
        "results = model_1.evaluate(x_test, one_hot_test_labels, verbose=0)"
      ],
      "execution_count": 17,
      "outputs": [
        {
          "output_type": "stream",
          "text": [
            "Epoch 1/9\n",
            "16/16 [==============================] - 1s 49ms/step - loss: 2.6957 - accuracy: 0.5219 - val_loss: 1.7559 - val_accuracy: 0.6420\n",
            "Epoch 2/9\n",
            "16/16 [==============================] - 1s 46ms/step - loss: 1.4312 - accuracy: 0.7027 - val_loss: 1.3167 - val_accuracy: 0.7220\n",
            "Epoch 3/9\n",
            "16/16 [==============================] - 1s 44ms/step - loss: 1.0607 - accuracy: 0.7741 - val_loss: 1.1536 - val_accuracy: 0.7560\n",
            "Epoch 4/9\n",
            "16/16 [==============================] - 1s 44ms/step - loss: 0.8317 - accuracy: 0.8237 - val_loss: 1.0499 - val_accuracy: 0.7740\n",
            "Epoch 5/9\n",
            "16/16 [==============================] - 1s 44ms/step - loss: 0.6649 - accuracy: 0.8602 - val_loss: 0.9830 - val_accuracy: 0.7990\n",
            "Epoch 6/9\n",
            "16/16 [==============================] - 1s 45ms/step - loss: 0.5268 - accuracy: 0.8877 - val_loss: 0.9425 - val_accuracy: 0.7970\n",
            "Epoch 7/9\n",
            "16/16 [==============================] - 1s 45ms/step - loss: 0.4287 - accuracy: 0.9077 - val_loss: 0.9180 - val_accuracy: 0.8060\n",
            "Epoch 8/9\n",
            "16/16 [==============================] - 1s 43ms/step - loss: 0.3487 - accuracy: 0.9250 - val_loss: 0.8946 - val_accuracy: 0.8180\n",
            "Epoch 9/9\n",
            "16/16 [==============================] - 1s 44ms/step - loss: 0.2892 - accuracy: 0.9362 - val_loss: 0.8855 - val_accuracy: 0.8160\n"
          ],
          "name": "stdout"
        }
      ]
    },
    {
      "cell_type": "code",
      "metadata": {
        "id": "j41L9id2CoSf",
        "colab_type": "code",
        "outputId": "51c3af44-d0c9-4de3-cbf0-3f578f98fe68",
        "colab": {
          "base_uri": "https://localhost:8080/",
          "height": 33
        }
      },
      "source": [
        "# Here are the final results:\n",
        "results"
      ],
      "execution_count": 18,
      "outputs": [
        {
          "output_type": "execute_result",
          "data": {
            "text/plain": [
              "[0.9994833469390869, 0.7871772050857544]"
            ]
          },
          "metadata": {
            "tags": []
          },
          "execution_count": 18
        }
      ]
    },
    {
      "cell_type": "markdown",
      "metadata": {
        "id": "APbx0EcMELDL",
        "colab_type": "text"
      },
      "source": [
        "Our approach reaches an accuracy of ~79%. With a balanced binary classification problem, the accuracy reached by a purely random classifier would be 50%, but in our case it is closer to 19%, so our results seem pretty good, at least when compared to a random baseline:"
      ]
    },
    {
      "cell_type": "code",
      "metadata": {
        "id": "JdWgjIQID5MP",
        "colab_type": "code",
        "outputId": "74499ba7-1dff-4ad7-dd23-74ccf5259015",
        "colab": {
          "base_uri": "https://localhost:8080/",
          "height": 33
        }
      },
      "source": [
        "import copy\n",
        "\n",
        "test_labels_copy = copy.copy(test_labels)\n",
        "np.random.shuffle(test_labels_copy)\n",
        "float(np.sum(np.array(test_labels) == np.array(test_labels_copy))) / len(test_labels)"
      ],
      "execution_count": 19,
      "outputs": [
        {
          "output_type": "execute_result",
          "data": {
            "text/plain": [
              "0.18076580587711488"
            ]
          },
          "metadata": {
            "tags": []
          },
          "execution_count": 19
        }
      ]
    }
  ]
}