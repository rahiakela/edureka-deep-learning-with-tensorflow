{
  "nbformat": 4,
  "nbformat_minor": 0,
  "metadata": {
    "colab": {
      "name": "module-9-assignment.ipynb",
      "provenance": [],
      "authorship_tag": "ABX9TyMb+TGPo170WATyT4HAdDXe",
      "include_colab_link": true
    },
    "kernelspec": {
      "name": "python3",
      "display_name": "Python 3"
    }
  },
  "cells": [
    {
      "cell_type": "markdown",
      "metadata": {
        "id": "view-in-github",
        "colab_type": "text"
      },
      "source": [
        "<a href=\"https://colab.research.google.com/github/rahiakela/edureka-deep-learning-with-tensorflow/blob/module-9-tflearn/module_9_assignment.ipynb\" target=\"_parent\"><img src=\"https://colab.research.google.com/assets/colab-badge.svg\" alt=\"Open In Colab\"/></a>"
      ]
    },
    {
      "cell_type": "markdown",
      "metadata": {
        "id": "eNkKhV_keDA5",
        "colab_type": "text"
      },
      "source": [
        "# Module 9: Assignment"
      ]
    },
    {
      "cell_type": "markdown",
      "metadata": {
        "id": "r_P5xptUeFXo",
        "colab_type": "text"
      },
      "source": [
        "**Create a feed forward network to solve the XOR problem and perform the following tasks:**\n",
        "\n",
        "* Create a tensor with XOR data.\n",
        "* Create an feed forward network for classification of the data.\n",
        "* Print the test accuracy of the model."
      ]
    },
    {
      "cell_type": "code",
      "metadata": {
        "id": "g2DHPUMfhF8c",
        "colab_type": "code",
        "colab": {}
      },
      "source": [
        "!pip uninstall tensorflow"
      ],
      "execution_count": 0,
      "outputs": []
    },
    {
      "cell_type": "code",
      "metadata": {
        "id": "TryO40uEhmH2",
        "colab_type": "code",
        "colab": {}
      },
      "source": [
        "!pip install tensorflow==1.13.2"
      ],
      "execution_count": 0,
      "outputs": []
    },
    {
      "cell_type": "code",
      "metadata": {
        "id": "sTnesoFCeqKc",
        "colab_type": "code",
        "colab": {}
      },
      "source": [
        "!pip install tflearn"
      ],
      "execution_count": 0,
      "outputs": []
    },
    {
      "cell_type": "code",
      "metadata": {
        "id": "LbYwca5NePNH",
        "colab_type": "code",
        "colab": {}
      },
      "source": [
        "from tflearn import DNN\n",
        "from tflearn.layers.core import input_data, dropout, fully_connected \n",
        "from tflearn.layers.estimator import regression"
      ],
      "execution_count": 0,
      "outputs": []
    },
    {
      "cell_type": "markdown",
      "metadata": {
        "id": "dSlQwewWfBCy",
        "colab_type": "text"
      },
      "source": [
        "We define our input data X and expected results Y as a list of lists."
      ]
    },
    {
      "cell_type": "code",
      "metadata": {
        "id": "YfJr0aLNecOM",
        "colab_type": "code",
        "colab": {}
      },
      "source": [
        "X = [[0,0], [0,1], [1,0], [1,1]]\n",
        "Y = [[0], [1], [1], [0]]"
      ],
      "execution_count": 0,
      "outputs": []
    },
    {
      "cell_type": "markdown",
      "metadata": {
        "id": "8Qr1SxMWfD27",
        "colab_type": "text"
      },
      "source": [
        "We define the input, hidden and the output layers."
      ]
    },
    {
      "cell_type": "code",
      "metadata": {
        "id": "W_r8S0HRfHcm",
        "colab_type": "code",
        "colab": {}
      },
      "source": [
        "input_layer = input_data(shape=[None, 2])\n",
        "hidden_layer = fully_connected(input_layer , 2, activation='tanh') \n",
        "output_layer = fully_connected(hidden_layer, 1, activation='tanh') "
      ],
      "execution_count": 0,
      "outputs": []
    },
    {
      "cell_type": "code",
      "metadata": {
        "id": "oVCgGkpDfQMb",
        "colab_type": "code",
        "colab": {}
      },
      "source": [
        "regression = regression(output_layer , optimizer='sgd', loss='binary_crossentropy', learning_rate=5)\n",
        "model = DNN(regression)"
      ],
      "execution_count": 0,
      "outputs": []
    },
    {
      "cell_type": "markdown",
      "metadata": {
        "id": "bDFF4MIafJvF",
        "colab_type": "text"
      },
      "source": [
        "Training"
      ]
    },
    {
      "cell_type": "code",
      "metadata": {
        "id": "nFpy8KApfYOU",
        "colab_type": "code",
        "colab": {}
      },
      "source": [
        "model.fit(X, Y, n_epoch=5000, show_metric=True)"
      ],
      "execution_count": 0,
      "outputs": []
    },
    {
      "cell_type": "markdown",
      "metadata": {
        "id": "9gb_RCdDfaIB",
        "colab_type": "text"
      },
      "source": [
        "Prediction"
      ]
    },
    {
      "cell_type": "code",
      "metadata": {
        "id": "EbnVCHOAffoY",
        "colab_type": "code",
        "colab": {
          "base_uri": "https://localhost:8080/",
          "height": 34
        },
        "outputId": "fe9d3f91-8d13-482c-9df7-14e79cf0dd8b"
      },
      "source": [
        "[i[0] > 0 for i in model.predict(X)]"
      ],
      "execution_count": 7,
      "outputs": [
        {
          "output_type": "execute_result",
          "data": {
            "text/plain": [
              "[False, True, True, False]"
            ]
          },
          "metadata": {
            "tags": []
          },
          "execution_count": 7
        }
      ]
    }
  ]
}