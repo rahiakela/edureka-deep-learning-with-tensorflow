{
  "nbformat": 4,
  "nbformat_minor": 0,
  "metadata": {
    "colab": {
      "name": "module-4-assignment.ipynb",
      "provenance": [],
      "toc_visible": true,
      "authorship_tag": "ABX9TyMidAM+DAgh7CqxBkcULu+k",
      "include_colab_link": true
    },
    "kernelspec": {
      "name": "python3",
      "display_name": "Python 3"
    }
  },
  "cells": [
    {
      "cell_type": "markdown",
      "metadata": {
        "id": "view-in-github",
        "colab_type": "text"
      },
      "source": [
        "<a href=\"https://colab.research.google.com/github/rahiakela/edureka-deep-learning-with-tensorflow/blob/module-4-master-deep-networks/module_4_assignment.ipynb\" target=\"_parent\"><img src=\"https://colab.research.google.com/assets/colab-badge.svg\" alt=\"Open In Colab\"/></a>"
      ]
    },
    {
      "cell_type": "markdown",
      "metadata": {
        "id": "RHRs6swoGkVa",
        "colab_type": "text"
      },
      "source": [
        "# Module 4 Assignment: Deep dive into Neural Networks with Tensorflow"
      ]
    },
    {
      "cell_type": "markdown",
      "metadata": {
        "id": "Fp1LPMtEGl4y",
        "colab_type": "text"
      },
      "source": [
        "**Analyse the information given in the following ‘Wines’ dataset and classify the wine based on their place of origin.**\n",
        "\n",
        "This data contains the results of a chemical analysis of wines grown in the same region in Italy but derived from three different cultivars. The analysis determined the quantities of 13 constituents found in each of the three types of wines.\n",
        "\n",
        "Data variables:\n",
        "* Alcohol\n",
        "* Malic acid\n",
        "* Ash\n",
        "* Alkalinity of ash\n",
        "* Magnesium\n",
        "* Total phenols\n",
        "* Flavanoids\n",
        "* Nonflavanoid phenols\n",
        "* Proanthocyanins\n",
        "* Color intensity\n",
        "* Hue\n",
        "* OD280/OD315 of diluted wines\n",
        "* Proline\n",
        "\n",
        "The dataset for the ‘Wines’ looks like this:\n",
        "\n",
        "<img src='https://github.com/rahiakela/img-repo/blob/master/wine-dataset.png?raw=1' width='800'/>\n",
        "\n",
        "\n",
        "Dataset download link:\n",
        "https://www.edureka.co/medias/giu1bur0kw/download?media_file_id=254929809\n",
        "\n",
        "## Task\n",
        "\n",
        "1.   Create a model with minimum three hidden layers\n",
        "2.   Compare the accuracy of the model with the previous model built in module 3\n",
        "\n"
      ]
    },
    {
      "cell_type": "markdown",
      "metadata": {
        "id": "Ry2_svlGGsln",
        "colab_type": "text"
      },
      "source": [
        "## Setup"
      ]
    },
    {
      "cell_type": "code",
      "metadata": {
        "id": "l-P5bxusGtvy",
        "colab_type": "code",
        "colab": {
          "base_uri": "https://localhost:8080/",
          "height": 64
        },
        "outputId": "7ea2f651-e560-4ad8-b54f-7d4bb8279a90"
      },
      "source": [
        "import pandas as pd\n",
        "import numpy as np\n",
        "\n",
        "from sklearn.preprocessing import OneHotEncoder\n",
        "from sklearn.preprocessing import LabelEncoder\n",
        "from sklearn.utils import shuffle\n",
        "from sklearn.model_selection import train_test_split\n",
        "\n",
        "import tensorflow as tf\n",
        "\n",
        "import matplotlib.pyplot as plt"
      ],
      "execution_count": 1,
      "outputs": [
        {
          "output_type": "display_data",
          "data": {
            "text/html": [
              "<p style=\"color: red;\">\n",
              "The default version of TensorFlow in Colab will soon switch to TensorFlow 2.x.<br>\n",
              "We recommend you <a href=\"https://www.tensorflow.org/guide/migrate\" target=\"_blank\">upgrade</a> now \n",
              "or ensure your notebook will continue to use TensorFlow 1.x via the <code>%tensorflow_version 1.x</code> magic:\n",
              "<a href=\"https://colab.research.google.com/notebooks/tensorflow_version.ipynb\" target=\"_blank\">more info</a>.</p>\n"
            ],
            "text/plain": [
              "<IPython.core.display.HTML object>"
            ]
          },
          "metadata": {
            "tags": []
          }
        }
      ]
    },
    {
      "cell_type": "code",
      "metadata": {
        "id": "4RlkAzwpG6KC",
        "colab_type": "code",
        "colab": {
          "base_uri": "https://localhost:8080/",
          "height": 200
        },
        "outputId": "03e8a074-f7fa-450b-a3fc-fc9e731fde17"
      },
      "source": [
        "df = pd.read_csv('wine.csv')\n",
        "df.head()"
      ],
      "execution_count": 2,
      "outputs": [
        {
          "output_type": "execute_result",
          "data": {
            "text/html": [
              "<div>\n",
              "<style scoped>\n",
              "    .dataframe tbody tr th:only-of-type {\n",
              "        vertical-align: middle;\n",
              "    }\n",
              "\n",
              "    .dataframe tbody tr th {\n",
              "        vertical-align: top;\n",
              "    }\n",
              "\n",
              "    .dataframe thead th {\n",
              "        text-align: right;\n",
              "    }\n",
              "</style>\n",
              "<table border=\"1\" class=\"dataframe\">\n",
              "  <thead>\n",
              "    <tr style=\"text-align: right;\">\n",
              "      <th></th>\n",
              "      <th>Wine</th>\n",
              "      <th>Alcohol</th>\n",
              "      <th>Malic.acid</th>\n",
              "      <th>Ash</th>\n",
              "      <th>Acl</th>\n",
              "      <th>Mg</th>\n",
              "      <th>Phenols</th>\n",
              "      <th>Flavanoids</th>\n",
              "      <th>Nonflavanoid.phenols</th>\n",
              "      <th>Proanth</th>\n",
              "      <th>Color.int</th>\n",
              "      <th>Hue</th>\n",
              "      <th>OD</th>\n",
              "      <th>Proline</th>\n",
              "    </tr>\n",
              "  </thead>\n",
              "  <tbody>\n",
              "    <tr>\n",
              "      <th>0</th>\n",
              "      <td>1</td>\n",
              "      <td>14.23</td>\n",
              "      <td>1.71</td>\n",
              "      <td>2.43</td>\n",
              "      <td>15.6</td>\n",
              "      <td>127</td>\n",
              "      <td>2.80</td>\n",
              "      <td>3.06</td>\n",
              "      <td>0.28</td>\n",
              "      <td>2.29</td>\n",
              "      <td>5.64</td>\n",
              "      <td>1.04</td>\n",
              "      <td>3.92</td>\n",
              "      <td>1065</td>\n",
              "    </tr>\n",
              "    <tr>\n",
              "      <th>1</th>\n",
              "      <td>1</td>\n",
              "      <td>13.20</td>\n",
              "      <td>1.78</td>\n",
              "      <td>2.14</td>\n",
              "      <td>11.2</td>\n",
              "      <td>100</td>\n",
              "      <td>2.65</td>\n",
              "      <td>2.76</td>\n",
              "      <td>0.26</td>\n",
              "      <td>1.28</td>\n",
              "      <td>4.38</td>\n",
              "      <td>1.05</td>\n",
              "      <td>3.40</td>\n",
              "      <td>1050</td>\n",
              "    </tr>\n",
              "    <tr>\n",
              "      <th>2</th>\n",
              "      <td>1</td>\n",
              "      <td>13.16</td>\n",
              "      <td>2.36</td>\n",
              "      <td>2.67</td>\n",
              "      <td>18.6</td>\n",
              "      <td>101</td>\n",
              "      <td>2.80</td>\n",
              "      <td>3.24</td>\n",
              "      <td>0.30</td>\n",
              "      <td>2.81</td>\n",
              "      <td>5.68</td>\n",
              "      <td>1.03</td>\n",
              "      <td>3.17</td>\n",
              "      <td>1185</td>\n",
              "    </tr>\n",
              "    <tr>\n",
              "      <th>3</th>\n",
              "      <td>1</td>\n",
              "      <td>14.37</td>\n",
              "      <td>1.95</td>\n",
              "      <td>2.50</td>\n",
              "      <td>16.8</td>\n",
              "      <td>113</td>\n",
              "      <td>3.85</td>\n",
              "      <td>3.49</td>\n",
              "      <td>0.24</td>\n",
              "      <td>2.18</td>\n",
              "      <td>7.80</td>\n",
              "      <td>0.86</td>\n",
              "      <td>3.45</td>\n",
              "      <td>1480</td>\n",
              "    </tr>\n",
              "    <tr>\n",
              "      <th>4</th>\n",
              "      <td>1</td>\n",
              "      <td>13.24</td>\n",
              "      <td>2.59</td>\n",
              "      <td>2.87</td>\n",
              "      <td>21.0</td>\n",
              "      <td>118</td>\n",
              "      <td>2.80</td>\n",
              "      <td>2.69</td>\n",
              "      <td>0.39</td>\n",
              "      <td>1.82</td>\n",
              "      <td>4.32</td>\n",
              "      <td>1.04</td>\n",
              "      <td>2.93</td>\n",
              "      <td>735</td>\n",
              "    </tr>\n",
              "  </tbody>\n",
              "</table>\n",
              "</div>"
            ],
            "text/plain": [
              "   Wine  Alcohol  Malic.acid   Ash  ...  Color.int   Hue    OD  Proline\n",
              "0     1    14.23        1.71  2.43  ...       5.64  1.04  3.92     1065\n",
              "1     1    13.20        1.78  2.14  ...       4.38  1.05  3.40     1050\n",
              "2     1    13.16        2.36  2.67  ...       5.68  1.03  3.17     1185\n",
              "3     1    14.37        1.95  2.50  ...       7.80  0.86  3.45     1480\n",
              "4     1    13.24        2.59  2.87  ...       4.32  1.04  2.93      735\n",
              "\n",
              "[5 rows x 14 columns]"
            ]
          },
          "metadata": {
            "tags": []
          },
          "execution_count": 2
        }
      ]
    },
    {
      "cell_type": "code",
      "metadata": {
        "id": "o9qWO3AZHnfB",
        "colab_type": "code",
        "colab": {
          "base_uri": "https://localhost:8080/",
          "height": 35
        },
        "outputId": "e52e5d81-6078-4d83-ae31-598988f88f06"
      },
      "source": [
        "df.shape"
      ],
      "execution_count": 3,
      "outputs": [
        {
          "output_type": "execute_result",
          "data": {
            "text/plain": [
              "(178, 14)"
            ]
          },
          "metadata": {
            "tags": []
          },
          "execution_count": 3
        }
      ]
    },
    {
      "cell_type": "code",
      "metadata": {
        "id": "ZVY68a_xHpiZ",
        "colab_type": "code",
        "colab": {
          "base_uri": "https://localhost:8080/",
          "height": 35
        },
        "outputId": "63406db1-bfaf-4632-d960-ebac20e192da"
      },
      "source": [
        "# slice out featuers and labels from dataset\n",
        "X = df[df.columns[1:13]]\n",
        "y = df[df.columns[0]]\n",
        "print(X.shape, y.shape)"
      ],
      "execution_count": 5,
      "outputs": [
        {
          "output_type": "stream",
          "text": [
            "(178, 12) (178,)\n"
          ],
          "name": "stdout"
        }
      ]
    },
    {
      "cell_type": "code",
      "metadata": {
        "id": "KGlI3BL6H-nt",
        "colab_type": "code",
        "colab": {
          "base_uri": "https://localhost:8080/",
          "height": 220
        },
        "outputId": "596c810d-2f23-4f53-9469-305ccf9bced9"
      },
      "source": [
        "# normize the feature column\n",
        "def feature_normalize(dataset):\n",
        "  mu = np.mean(dataset,axis=0)\n",
        "  sigma = np.std(dataset,axis=0)\n",
        "  return (dataset - mu)/sigma\n",
        "X = feature_normalize(X)\n",
        "X.head()"
      ],
      "execution_count": 6,
      "outputs": [
        {
          "output_type": "execute_result",
          "data": {
            "text/html": [
              "<div>\n",
              "<style scoped>\n",
              "    .dataframe tbody tr th:only-of-type {\n",
              "        vertical-align: middle;\n",
              "    }\n",
              "\n",
              "    .dataframe tbody tr th {\n",
              "        vertical-align: top;\n",
              "    }\n",
              "\n",
              "    .dataframe thead th {\n",
              "        text-align: right;\n",
              "    }\n",
              "</style>\n",
              "<table border=\"1\" class=\"dataframe\">\n",
              "  <thead>\n",
              "    <tr style=\"text-align: right;\">\n",
              "      <th></th>\n",
              "      <th>Alcohol</th>\n",
              "      <th>Malic.acid</th>\n",
              "      <th>Ash</th>\n",
              "      <th>Acl</th>\n",
              "      <th>Mg</th>\n",
              "      <th>Phenols</th>\n",
              "      <th>Flavanoids</th>\n",
              "      <th>Nonflavanoid.phenols</th>\n",
              "      <th>Proanth</th>\n",
              "      <th>Color.int</th>\n",
              "      <th>Hue</th>\n",
              "      <th>OD</th>\n",
              "    </tr>\n",
              "  </thead>\n",
              "  <tbody>\n",
              "    <tr>\n",
              "      <th>0</th>\n",
              "      <td>1.518613</td>\n",
              "      <td>-0.562250</td>\n",
              "      <td>0.232053</td>\n",
              "      <td>-1.169593</td>\n",
              "      <td>1.913905</td>\n",
              "      <td>0.808997</td>\n",
              "      <td>1.034819</td>\n",
              "      <td>-0.659563</td>\n",
              "      <td>1.224884</td>\n",
              "      <td>0.251717</td>\n",
              "      <td>0.362177</td>\n",
              "      <td>1.847920</td>\n",
              "    </tr>\n",
              "    <tr>\n",
              "      <th>1</th>\n",
              "      <td>0.246290</td>\n",
              "      <td>-0.499413</td>\n",
              "      <td>-0.827996</td>\n",
              "      <td>-2.490847</td>\n",
              "      <td>0.018145</td>\n",
              "      <td>0.568648</td>\n",
              "      <td>0.733629</td>\n",
              "      <td>-0.820719</td>\n",
              "      <td>-0.544721</td>\n",
              "      <td>-0.293321</td>\n",
              "      <td>0.406051</td>\n",
              "      <td>1.113449</td>\n",
              "    </tr>\n",
              "    <tr>\n",
              "      <th>2</th>\n",
              "      <td>0.196879</td>\n",
              "      <td>0.021231</td>\n",
              "      <td>1.109334</td>\n",
              "      <td>-0.268738</td>\n",
              "      <td>0.088358</td>\n",
              "      <td>0.808997</td>\n",
              "      <td>1.215533</td>\n",
              "      <td>-0.498407</td>\n",
              "      <td>2.135968</td>\n",
              "      <td>0.269020</td>\n",
              "      <td>0.318304</td>\n",
              "      <td>0.788587</td>\n",
              "    </tr>\n",
              "    <tr>\n",
              "      <th>3</th>\n",
              "      <td>1.691550</td>\n",
              "      <td>-0.346811</td>\n",
              "      <td>0.487926</td>\n",
              "      <td>-0.809251</td>\n",
              "      <td>0.930918</td>\n",
              "      <td>2.491446</td>\n",
              "      <td>1.466525</td>\n",
              "      <td>-0.981875</td>\n",
              "      <td>1.032155</td>\n",
              "      <td>1.186068</td>\n",
              "      <td>-0.427544</td>\n",
              "      <td>1.184071</td>\n",
              "    </tr>\n",
              "    <tr>\n",
              "      <th>4</th>\n",
              "      <td>0.295700</td>\n",
              "      <td>0.227694</td>\n",
              "      <td>1.840403</td>\n",
              "      <td>0.451946</td>\n",
              "      <td>1.281985</td>\n",
              "      <td>0.808997</td>\n",
              "      <td>0.663351</td>\n",
              "      <td>0.226796</td>\n",
              "      <td>0.401404</td>\n",
              "      <td>-0.319276</td>\n",
              "      <td>0.362177</td>\n",
              "      <td>0.449601</td>\n",
              "    </tr>\n",
              "  </tbody>\n",
              "</table>\n",
              "</div>"
            ],
            "text/plain": [
              "    Alcohol  Malic.acid       Ash  ...  Color.int       Hue        OD\n",
              "0  1.518613   -0.562250  0.232053  ...   0.251717  0.362177  1.847920\n",
              "1  0.246290   -0.499413 -0.827996  ...  -0.293321  0.406051  1.113449\n",
              "2  0.196879    0.021231  1.109334  ...   0.269020  0.318304  0.788587\n",
              "3  1.691550   -0.346811  0.487926  ...   1.186068 -0.427544  1.184071\n",
              "4  0.295700    0.227694  1.840403  ...  -0.319276  0.362177  0.449601\n",
              "\n",
              "[5 rows x 12 columns]"
            ]
          },
          "metadata": {
            "tags": []
          },
          "execution_count": 6
        }
      ]
    },
    {
      "cell_type": "code",
      "metadata": {
        "id": "h902ujRBIJgd",
        "colab_type": "code",
        "colab": {
          "base_uri": "https://localhost:8080/",
          "height": 301
        },
        "outputId": "a3038c23-e3b7-4de3-a39b-a5e70cbc9137"
      },
      "source": [
        "# do one-hot encoding for label\n",
        "print(len(np.unique(y)))\n",
        "\n",
        "# integer encode\n",
        "label_encoder = LabelEncoder()\n",
        "integer_encoded = label_encoder.fit_transform(y)\n",
        "print(integer_encoded)\n",
        "\n",
        "# binary encode\n",
        "onehot_encoder = OneHotEncoder(sparse=False)\n",
        "integer_encoded = integer_encoded.reshape(len(integer_encoded), 1)\n",
        "onehot_encoded = onehot_encoder.fit_transform(integer_encoded)\n",
        "print(onehot_encoded[:10])"
      ],
      "execution_count": 7,
      "outputs": [
        {
          "output_type": "stream",
          "text": [
            "3\n",
            "[0 0 0 0 0 0 0 0 0 0 0 0 0 0 0 0 0 0 0 0 0 0 0 0 0 0 0 0 0 0 0 0 0 0 0 0 0\n",
            " 0 0 0 0 0 0 0 0 0 0 0 0 0 0 0 0 0 0 0 0 0 0 1 1 1 1 1 1 1 1 1 1 1 1 1 1 1\n",
            " 1 1 1 1 1 1 1 1 1 1 1 1 1 1 1 1 1 1 1 1 1 1 1 1 1 1 1 1 1 1 1 1 1 1 1 1 1\n",
            " 1 1 1 1 1 1 1 1 1 1 1 1 1 1 1 1 1 1 1 2 2 2 2 2 2 2 2 2 2 2 2 2 2 2 2 2 2\n",
            " 2 2 2 2 2 2 2 2 2 2 2 2 2 2 2 2 2 2 2 2 2 2 2 2 2 2 2 2 2 2]\n",
            "[[1. 0. 0.]\n",
            " [1. 0. 0.]\n",
            " [1. 0. 0.]\n",
            " [1. 0. 0.]\n",
            " [1. 0. 0.]\n",
            " [1. 0. 0.]\n",
            " [1. 0. 0.]\n",
            " [1. 0. 0.]\n",
            " [1. 0. 0.]\n",
            " [1. 0. 0.]]\n"
          ],
          "name": "stdout"
        }
      ]
    },
    {
      "cell_type": "code",
      "metadata": {
        "id": "uWz3jzgMIirV",
        "colab_type": "code",
        "colab": {
          "base_uri": "https://localhost:8080/",
          "height": 88
        },
        "outputId": "3ecfdb9c-4041-4844-8586-178b699f0200"
      },
      "source": [
        "# Shuffle the dataset to mix up the rows.\n",
        "X, Y = shuffle(X, onehot_encoded, random_state=1)\n",
        "\n",
        "# Convert the dataset into train and test part\n",
        "train_x, test_x, train_y, test_y = train_test_split(X, Y, test_size=0.20, random_state=415)\n",
        "print(train_x.shape)\n",
        "print(train_y.shape)\n",
        "print(test_x.shape)\n",
        "print(test_y.shape)"
      ],
      "execution_count": 8,
      "outputs": [
        {
          "output_type": "stream",
          "text": [
            "(142, 12)\n",
            "(142, 3)\n",
            "(36, 12)\n",
            "(36, 3)\n"
          ],
          "name": "stdout"
        }
      ]
    },
    {
      "cell_type": "code",
      "metadata": {
        "id": "Yn1KpImrInva",
        "colab_type": "code",
        "colab": {
          "base_uri": "https://localhost:8080/",
          "height": 35
        },
        "outputId": "f9c8f987-befc-4310-be2f-a9c28c39004a"
      },
      "source": [
        "# Define the important parameters and variable to work with the tensors\n",
        "learning_rate = 0.3\n",
        "training_epochs = 100\n",
        "cost_history = np.empty(shape=[1], dtype=float)\n",
        "n_dim = X.shape[1]\n",
        "print(\"n_dim\", n_dim)\n",
        "n_class = 3\n",
        "\n",
        "# Define the number of hidden layers and number of neurons for each layer\n",
        "n_hidden_0 = 4\n",
        "n_hidden_1 = 4\n",
        "n_hidden_2 = 4\n",
        "n_hidden_3 = 4\n",
        "\n",
        "x = tf.placeholder(tf.float32, [None, n_dim])\n",
        "W = tf.Variable(tf.zeros([n_dim, n_class]))\n",
        "b = tf.Variable(tf.zeros([n_class]))\n",
        "y_hat = tf.placeholder(tf.float32, [None, n_class])"
      ],
      "execution_count": 14,
      "outputs": [
        {
          "output_type": "stream",
          "text": [
            "n_dim 12\n"
          ],
          "name": "stdout"
        }
      ]
    },
    {
      "cell_type": "code",
      "metadata": {
        "id": "v_FKIBMOKSdW",
        "colab_type": "code",
        "colab": {}
      },
      "source": [
        "# Define the weights and the biases for each layer\n",
        "weights = {\n",
        "    'h0': tf.Variable(tf.truncated_normal([n_dim, n_hidden_0])),\n",
        "    'h1': tf.Variable(tf.truncated_normal([n_hidden_0, n_hidden_1])),\n",
        "    'h2': tf.Variable(tf.truncated_normal([n_hidden_1, n_hidden_2])),\n",
        "    'h3': tf.Variable(tf.truncated_normal([n_hidden_2, n_hidden_3])),\n",
        "    'out': tf.Variable(tf.truncated_normal([n_hidden_3, n_class]))\n",
        "}\n",
        "biases = {\n",
        "    'b0': tf.Variable(tf.truncated_normal([n_hidden_0])),\n",
        "    'b1': tf.Variable(tf.truncated_normal([n_hidden_1])),\n",
        "    'b2': tf.Variable(tf.truncated_normal([n_hidden_2])),\n",
        "    'b3': tf.Variable(tf.truncated_normal([n_hidden_3])),\n",
        "    'out': tf.Variable(tf.truncated_normal([n_class]))\n",
        "}\n",
        "\n",
        "# Define the model\n",
        "def create_model(x, weights, biases):\n",
        "\n",
        "  # 0- Input layer with RELU activationed\n",
        "  layer_0 = tf.nn.relu(tf.add(tf.matmul(x, weights['h0']), biases['b0']))\n",
        "\n",
        "  # 1- Hidden layer with RELU activationed\n",
        "  layer_1 = tf.nn.relu(tf.add(tf.matmul(layer_0, weights['h1']), biases['b1']))\n",
        "\n",
        "  # 2- Hidden layer with RELU activationed\n",
        "  layer_2 = tf.nn.relu(tf.add(tf.matmul(layer_1, weights['h2']), biases['b2']))\n",
        "\n",
        "  # 3- Hidden layer with softmax activationed\n",
        "  layer_3 = tf.nn.softmax(tf.add(tf.matmul(layer_2, weights['h3']), biases['b3']))\n",
        "\n",
        "  # Output layer with linear activation\n",
        "  output_layer = tf.matmul(layer_3, weights['out']) + biases['out']\n",
        "\n",
        "  return output_layer\n",
        "\n",
        "  \n",
        "# Initialize all the variables\n",
        "init = tf.global_variables_initializer()\n",
        "\n",
        "# create the model\n",
        "y = create_model(x, weights, biases)"
      ],
      "execution_count": 0,
      "outputs": []
    },
    {
      "cell_type": "code",
      "metadata": {
        "id": "xhAJuRX5N0E8",
        "colab_type": "code",
        "colab": {}
      },
      "source": [
        "# Define the cost function and optimizer\n",
        "cost_function = tf.reduce_mean(tf.nn.softmax_cross_entropy_with_logits_v2(logits=y, labels=y))\n",
        "training_step = tf.train.GradientDescentOptimizer(learning_rate).minimize(cost_function)\n",
        "\n",
        "# create session\n",
        "sess = tf.Session()\n",
        "sess.run(init)"
      ],
      "execution_count": 0,
      "outputs": []
    },
    {
      "cell_type": "code",
      "metadata": {
        "id": "mXqm5Q7dPR1R",
        "colab_type": "code",
        "colab": {
          "base_uri": "https://localhost:8080/",
          "height": 1000
        },
        "outputId": "2a5b1aee-b921-41a9-849d-8e6624459a62"
      },
      "source": [
        "# Calculate the cost and the accuracy for each epoch\n",
        "mse_history = []\n",
        "accuracy_history = []\n",
        "\n",
        "for epoch in range(training_epochs):\n",
        "  sess.run(training_step, feed_dict={x: train_x, y_hat: train_y})\n",
        "  cost = sess.run(cost_function, feed_dict={x: train_x, y_hat: train_y})\n",
        "\n",
        "  cost_history = np.append(cost_history, cost)\n",
        "  correct_prediction = tf.equal(tf.argmax(y, 1), tf.argmax(y_hat, 1))\n",
        "  accuracy = tf.reduce_mean(tf.cast(correct_prediction, tf.float32))\n",
        "\n",
        "  pred_y = sess.run(y, feed_dict={x: test_x})\n",
        "  mse = tf.reduce_mean(tf.square(pred_y - test_y))\n",
        "  mse_ = sess.run(mse)\n",
        "  mse_history.append(mse_)\n",
        "\n",
        "  accuracy = (sess.run(accuracy, feed_dict={x: train_x, y_hat: train_y}))\n",
        "  accuracy_history.append(accuracy)\n",
        "\n",
        "  print(f'epoch: {str(epoch)} - cost: {str(cost)} - MSE: {str(mse_)} - Train Accuracy: {str(accuracy)}')"
      ],
      "execution_count": 19,
      "outputs": [
        {
          "output_type": "stream",
          "text": [
            "epoch: 0 - cost: -42.613537 - MSE: 13.683124104733857 - Train Accuracy: 0.26056337\n",
            "epoch: 1 - cost: -143.69301 - MSE: 45.515401646798196 - Train Accuracy: 0.26056337\n",
            "epoch: 2 - cost: -577.20844 - MSE: 178.9610891626658 - Train Accuracy: 0.26056337\n",
            "epoch: 3 - cost: -2775.388 - MSE: 872.6638840699464 - Train Accuracy: 0.26056337\n",
            "epoch: 4 - cost: -13647.438 - MSE: 4364.802849994914 - Train Accuracy: 0.26056337\n",
            "epoch: 5 - cost: -66790.76 - MSE: 21618.02985176721 - Train Accuracy: 0.26056337\n",
            "epoch: 6 - cost: -325836.16 - MSE: 106348.68976381265 - Train Accuracy: 0.26056337\n",
            "epoch: 7 - cost: -1586051.5 - MSE: 520734.21163976775 - Train Accuracy: 0.26056337\n",
            "epoch: 8 - cost: -7708120.5 - MSE: 2541415.480430316 - Train Accuracy: 0.26056337\n",
            "epoch: 9 - cost: -37418532.0 - MSE: 12374437.178676872 - Train Accuracy: 0.26056337\n",
            "epoch: 10 - cost: -181497070.0 - MSE: 60152478.83736488 - Train Accuracy: 0.26056337\n",
            "epoch: 11 - cost: -879823940.0 - MSE: 292054183.5155289 - Train Accuracy: 0.26056337\n",
            "epoch: 12 - cost: -4263195600.0 - MSE: 1416766814.1555645 - Train Accuracy: 0.26056337\n",
            "epoch: 13 - cost: -20650928000.0 - MSE: 6868504197.490711 - Train Accuracy: 0.26056337\n",
            "epoch: 14 - cost: -100010600000.0 - MSE: 33283559143.8142 - Train Accuracy: 0.26056337\n",
            "epoch: 15 - cost: -484263000000.0 - MSE: 161233269883.2525 - Train Accuracy: 0.26056337\n",
            "epoch: 16 - cost: -2344578000000.0 - MSE: 780864849933.9165 - Train Accuracy: 0.26056337\n",
            "epoch: 17 - cost: -11350374000000.0 - MSE: 3781130142156.1445 - Train Accuracy: 0.26056337\n",
            "epoch: 18 - cost: -54945040000000.0 - MSE: 18306814151362.5 - Train Accuracy: 0.26056337\n",
            "epoch: 19 - cost: -265966640000000.0 - MSE: 88626681328082.67 - Train Accuracy: 0.26056337\n",
            "epoch: 20 - cost: -1287391300000000.0 - MSE: 429028941581615.56 - Train Accuracy: 0.26056337\n",
            "epoch: 21 - cost: -6231385000000000.0 - MSE: 2076770289475316.2 - Train Accuracy: 0.26056337\n",
            "epoch: 22 - cost: -3.0161313e+16 - MSE: 1.005251186769e+16 - Train Accuracy: 0.26056337\n",
            "epoch: 23 - cost: -1.4598561e+17 - MSE: 4.865744500864899e+16 - Train Accuracy: 0.26056337\n",
            "epoch: 24 - cost: -7.06588e+17 - MSE: 2.3551375818718026e+17 - Train Accuracy: 0.26056337\n",
            "epoch: 25 - cost: -3.4199504e+18 - MSE: 1.1399283672910143e+18 - Train Accuracy: 0.26056337\n",
            "epoch: 26 - cost: -1.6552766e+19 - MSE: 5.517394715584557e+18 - Train Accuracy: 0.26056337\n",
            "epoch: 27 - cost: -8.011617e+19 - MSE: 2.670471044157628e+19 - Train Accuracy: 0.26056337\n",
            "epoch: 28 - cost: -3.877652e+20 - MSE: 1.2925269391970748e+20 - Train Accuracy: 0.26056337\n",
            "epoch: 29 - cost: -1.8767935e+21 - MSE: 6.255893394590398e+20 - Train Accuracy: 0.26056337\n",
            "epoch: 30 - cost: -9.083708e+21 - MSE: 3.027873503603951e+21 - Train Accuracy: 0.26056337\n",
            "epoch: 31 - cost: -4.3965265e+22 - MSE: 1.4654983783219747e+22 - Train Accuracy: 0.26056337\n",
            "epoch: 32 - cost: -2.1279222e+23 - MSE: 7.0930373981392414e+22 - Train Accuracy: 0.26056337\n",
            "epoch: 33 - cost: -1.02991544e+24 - MSE: 3.4330390486486185e+23 - Train Accuracy: 0.26056337\n",
            "epoch: 34 - cost: -4.9847985e+24 - MSE: 1.6615948797335356e+24 - Train Accuracy: 0.26056337\n",
            "epoch: 35 - cost: -2.4126423e+25 - MSE: 8.042124879316388e+24 - Train Accuracy: 0.26056337\n",
            "epoch: 36 - cost: -1.1677197e+26 - MSE: 3.892392602478146e+25 - Train Accuracy: 0.26056337\n",
            "epoch: 37 - cost: -5.651763e+26 - MSE: 1.8839185695386925e+26 - Train Accuracy: 0.26056337\n",
            "epoch: 38 - cost: -2.7354544e+27 - MSE: 9.118174280955165e+26 - Train Accuracy: 0.26056337\n",
            "epoch: 39 - cost: -1.3239608e+28 - MSE: 4.413200384228586e+27 - Train Accuracy: 0.26056337\n",
            "epoch: 40 - cost: -6.40797e+28 - MSE: 2.13598867818661e+28 - Train Accuracy: 0.26056337\n",
            "epoch: 41 - cost: -3.1014573e+29 - MSE: 1.0338188619895559e+29 - Train Accuracy: 0.26056337\n",
            "epoch: 42 - cost: -1.501105e+30 - MSE: 5.0036824160914946e+29 - Train Accuracy: 0.26056337\n",
            "epoch: 43 - cost: -7.265345e+30 - MSE: 2.4217814012565858e+30 - Train Accuracy: 0.26056337\n",
            "epoch: 44 - cost: -3.5164265e+31 - MSE: 1.1721420128927125e+31 - Train Accuracy: 0.26056337\n",
            "epoch: 45 - cost: -1.7019511e+32 - MSE: 5.673170144805226e+31 - Train Accuracy: 0.26056337\n",
            "epoch: 46 - cost: -8.2374395e+32 - MSE: 2.7458128337371155e+32 - Train Accuracy: 0.26056337\n",
            "epoch: 47 - cost: -3.986918e+33 - MSE: 1.328972269286999e+33 - Train Accuracy: 0.26056337\n",
            "epoch: 48 - cost: -1.929667e+34 - MSE: 6.432223342578915e+33 - Train Accuracy: 0.26056337\n",
            "epoch: 49 - cost: -9.3396e+34 - MSE: 3.113199813766015e+34 - Train Accuracy: 0.26056337\n",
            "epoch: 50 - cost: -4.520368e+35 - MSE: 1.5067895704199563e+35 - Train Accuracy: 0.26056337\n",
            "epoch: 51 - cost: -2.1878558e+36 - MSE: 7.292852230188269e+35 - Train Accuracy: 0.26056337\n",
            "epoch: 52 - cost: -inf - MSE: 3.5297422930059176e+36 - Train Accuracy: 0.26056337\n",
            "epoch: 53 - cost: -inf - MSE: 1.7083948534524273e+37 - Train Accuracy: 0.26056337\n",
            "epoch: 54 - cost: -inf - MSE: 8.268628429401203e+37 - Train Accuracy: 0.26056337\n",
            "epoch: 55 - cost: -inf - MSE: 4.002018743481945e+38 - Train Accuracy: 0.26056337\n",
            "epoch: 56 - cost: -inf - MSE: 1.936977013309552e+39 - Train Accuracy: 0.26056337\n",
            "epoch: 57 - cost: -inf - MSE: 9.374972990508546e+39 - Train Accuracy: 0.26056337\n",
            "epoch: 58 - cost: -inf - MSE: 4.537485191657004e+40 - Train Accuracy: 0.26056337\n",
            "epoch: 59 - cost: nan - MSE: nan - Train Accuracy: 0.3309859\n",
            "epoch: 60 - cost: nan - MSE: nan - Train Accuracy: 0.3309859\n",
            "epoch: 61 - cost: nan - MSE: nan - Train Accuracy: 0.3309859\n",
            "epoch: 62 - cost: nan - MSE: nan - Train Accuracy: 0.3309859\n",
            "epoch: 63 - cost: nan - MSE: nan - Train Accuracy: 0.3309859\n",
            "epoch: 64 - cost: nan - MSE: nan - Train Accuracy: 0.3309859\n",
            "epoch: 65 - cost: nan - MSE: nan - Train Accuracy: 0.3309859\n",
            "epoch: 66 - cost: nan - MSE: nan - Train Accuracy: 0.3309859\n",
            "epoch: 67 - cost: nan - MSE: nan - Train Accuracy: 0.3309859\n",
            "epoch: 68 - cost: nan - MSE: nan - Train Accuracy: 0.3309859\n",
            "epoch: 69 - cost: nan - MSE: nan - Train Accuracy: 0.3309859\n",
            "epoch: 70 - cost: nan - MSE: nan - Train Accuracy: 0.3309859\n",
            "epoch: 71 - cost: nan - MSE: nan - Train Accuracy: 0.3309859\n",
            "epoch: 72 - cost: nan - MSE: nan - Train Accuracy: 0.3309859\n",
            "epoch: 73 - cost: nan - MSE: nan - Train Accuracy: 0.3309859\n",
            "epoch: 74 - cost: nan - MSE: nan - Train Accuracy: 0.3309859\n",
            "epoch: 75 - cost: nan - MSE: nan - Train Accuracy: 0.3309859\n",
            "epoch: 76 - cost: nan - MSE: nan - Train Accuracy: 0.3309859\n",
            "epoch: 77 - cost: nan - MSE: nan - Train Accuracy: 0.3309859\n",
            "epoch: 78 - cost: nan - MSE: nan - Train Accuracy: 0.3309859\n",
            "epoch: 79 - cost: nan - MSE: nan - Train Accuracy: 0.3309859\n",
            "epoch: 80 - cost: nan - MSE: nan - Train Accuracy: 0.3309859\n",
            "epoch: 81 - cost: nan - MSE: nan - Train Accuracy: 0.3309859\n",
            "epoch: 82 - cost: nan - MSE: nan - Train Accuracy: 0.3309859\n",
            "epoch: 83 - cost: nan - MSE: nan - Train Accuracy: 0.3309859\n",
            "epoch: 84 - cost: nan - MSE: nan - Train Accuracy: 0.3309859\n",
            "epoch: 85 - cost: nan - MSE: nan - Train Accuracy: 0.3309859\n",
            "epoch: 86 - cost: nan - MSE: nan - Train Accuracy: 0.3309859\n",
            "epoch: 87 - cost: nan - MSE: nan - Train Accuracy: 0.3309859\n",
            "epoch: 88 - cost: nan - MSE: nan - Train Accuracy: 0.3309859\n",
            "epoch: 89 - cost: nan - MSE: nan - Train Accuracy: 0.3309859\n",
            "epoch: 90 - cost: nan - MSE: nan - Train Accuracy: 0.3309859\n",
            "epoch: 91 - cost: nan - MSE: nan - Train Accuracy: 0.3309859\n",
            "epoch: 92 - cost: nan - MSE: nan - Train Accuracy: 0.3309859\n",
            "epoch: 93 - cost: nan - MSE: nan - Train Accuracy: 0.3309859\n",
            "epoch: 94 - cost: nan - MSE: nan - Train Accuracy: 0.3309859\n",
            "epoch: 95 - cost: nan - MSE: nan - Train Accuracy: 0.3309859\n",
            "epoch: 96 - cost: nan - MSE: nan - Train Accuracy: 0.3309859\n",
            "epoch: 97 - cost: nan - MSE: nan - Train Accuracy: 0.3309859\n",
            "epoch: 98 - cost: nan - MSE: nan - Train Accuracy: 0.3309859\n",
            "epoch: 99 - cost: nan - MSE: nan - Train Accuracy: 0.3309859\n"
          ],
          "name": "stdout"
        }
      ]
    },
    {
      "cell_type": "code",
      "metadata": {
        "id": "2c9a8S3uRmM9",
        "colab_type": "code",
        "colab": {
          "base_uri": "https://localhost:8080/",
          "height": 279
        },
        "outputId": "8fc19424-0725-4bb2-f500-4dfe5eb8b6b0"
      },
      "source": [
        "# Plot Accuracy Graph\n",
        "plt.plot(accuracy_history)\n",
        "plt.xlabel('Epoch')\n",
        "plt.ylabel('Accuracy')\n",
        "plt.show()"
      ],
      "execution_count": 20,
      "outputs": [
        {
          "output_type": "display_data",
          "data": {
            "image/png": "[encoded data removed]",
            "text/plain": [
              "<Figure size 432x288 with 1 Axes>"
            ]
          },
          "metadata": {
            "tags": []
          }
        }
      ]
    },
    {
      "cell_type": "code",
      "metadata": {
        "id": "B7FwFIpKSFtS",
        "colab_type": "code",
        "colab": {
          "base_uri": "https://localhost:8080/",
          "height": 35
        },
        "outputId": "fce5dfe0-408d-4216-b836-b2bd2e0e937c"
      },
      "source": [
        "# final accuracy\n",
        "correct_prediction = tf.equal(tf.argmax(y, 1), tf.argmax(y_hat, 1))\n",
        "accuracy = tf.reduce_mean(tf.cast(correct_prediction, tf.float32))\n",
        "print(\"Test Accuracy: \", (sess.run(accuracy, feed_dict={x: test_x, y_hat: test_y})))"
      ],
      "execution_count": 23,
      "outputs": [
        {
          "output_type": "stream",
          "text": [
            "Test Accuracy:  0.33333334\n"
          ],
          "name": "stdout"
        }
      ]
    }
  ]
}