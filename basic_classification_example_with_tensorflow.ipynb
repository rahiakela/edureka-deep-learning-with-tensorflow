{
  "nbformat": 4,
  "nbformat_minor": 0,
  "metadata": {
    "colab": {
      "name": "basic-classification-example-with-tensorflow.ipynb",
      "provenance": [],
      "toc_visible": true,
      "authorship_tag": "ABX9TyM4p8LVzE1Y/MXONkT0iDNe",
      "include_colab_link": true
    },
    "kernelspec": {
      "name": "python3",
      "display_name": "Python 3"
    }
  },
  "cells": [
    {
      "cell_type": "markdown",
      "metadata": {
        "id": "view-in-github",
        "colab_type": "text"
      },
      "source": [
        "<a href=\"https://colab.research.google.com/github/rahiakela/edureka-deep-learning-with-tensorflow/blob/master/basic_classification_example_with_tensorflow.ipynb\" target=\"_parent\"><img src=\"https://colab.research.google.com/assets/colab-badge.svg\" alt=\"Open In Colab\"/></a>"
      ]
    },
    {
      "cell_type": "markdown",
      "metadata": {
        "id": "sFrbPzOaqoJ0",
        "colab_type": "text"
      },
      "source": [
        "# Basic Classification Example with TensorFlow"
      ]
    },
    {
      "cell_type": "markdown",
      "metadata": {
        "id": "gnz1i4ybqpE5",
        "colab_type": "text"
      },
      "source": [
        "This notebook is a companion of [A Visual and Interactive Guide to the Basics of Neural Networks](https://jalammar.github.io/visual-interactive-guide-basics-neural-networks/).\n",
        "\n",
        "This is an example of how to do classification on a simple dataset in TensorFlow. Basically, we're building a model to help a friend choose a house to buy. She has given us the table below of houses and whether she likes them or not. We're to build a model that takes a house area and number of bathrooms as input, and outputs a prediction of whether she would like the house or not.\n",
        "\n",
        "\n",
        "| Area (sq ft) | Bathrooms (x2) | Label (y) |\n",
        "| --- | --- | --- |\n",
        "| 2,104\t| 3\t| Good\n",
        "| 1,600\t| 3\t| Good\n",
        "| 2,400\t| 3\t| Good\n",
        "| 1,416\t| 2\t| Bad\n",
        "| 3,000\t| 4\t| Bad\n",
        "| 1,985\t| 4\t| Good\n",
        "| 1,534\t| 3\t| Bad\n",
        "| 1,427\t| 3\t| Good\n",
        "| 1,380\t| 3\t| Good\n",
        "| 1,494\t| 3\t| Good\n",
        "\n",
        "We'll start by loading our favorite libraries\n"
      ]
    },
    {
      "cell_type": "code",
      "metadata": {
        "id": "s5Fhp9FjsJBv",
        "colab_type": "code",
        "colab": {
          "base_uri": "https://localhost:8080/",
          "height": 64
        },
        "outputId": "ed0e9bbc-df56-43a2-fb8c-444af749f1c7"
      },
      "source": [
        "%matplotlib inline               \n",
        "import pandas as pd              # A beautiful library to help us work with data as tables\n",
        "import numpy as np               # So we can use number matrices. Both pandas and TensorFlow need it. \n",
        "import matplotlib.pyplot as plt  # Visualize the things\n",
        "import tensorflow as tf          # Fire from the gods"
      ],
      "execution_count": 1,
      "outputs": [
        {
          "output_type": "display_data",
          "data": {
            "text/html": [
              "<p style=\"color: red;\">\n",
              "The default version of TensorFlow in Colab will soon switch to TensorFlow 2.x.<br>\n",
              "We recommend you <a href=\"https://www.tensorflow.org/guide/migrate\" target=\"_blank\">upgrade</a> now \n",
              "or ensure your notebook will continue to use TensorFlow 1.x via the <code>%tensorflow_version 1.x</code> magic:\n",
              "<a href=\"https://colab.research.google.com/notebooks/tensorflow_version.ipynb\" target=\"_blank\">more info</a>.</p>\n"
            ],
            "text/plain": [
              "<IPython.core.display.HTML object>"
            ]
          },
          "metadata": {
            "tags": []
          }
        }
      ]
    },
    {
      "cell_type": "markdown",
      "metadata": {
        "id": "0vwV_0brsP7m",
        "colab_type": "text"
      },
      "source": [
        "We'll then load the house data CSV. Pandas is an incredible library that gives us great flexibility in dealing with table-like data. We load tables (or csv files, or excel sheets) into a \"data frame\", and process it however we like. You can think of it as a programatic way to do a lot of the things you previously did with Excel."
      ]
    },
    {
      "cell_type": "code",
      "metadata": {
        "id": "GaVQ0FXmsNW0",
        "colab_type": "code",
        "colab": {
          "base_uri": "https://localhost:8080/",
          "height": 352
        },
        "outputId": "abaf90af-e97f-4a12-96cc-644d180c97df"
      },
      "source": [
        "dataframe = pd.read_csv(\"data.csv\") # Let's have Pandas load our dataset as a dataframe\n",
        "dataframe = dataframe.drop([\"index\", \"price\", \"sq_price\"], axis=1) # Remove columns we don't care about\n",
        "dataframe = dataframe[0:10] # We'll only use the first 10 rows of the dataset in this example\n",
        "dataframe # Let's have the notebook show us how the dataframe looks now"
      ],
      "execution_count": 2,
      "outputs": [
        {
          "output_type": "execute_result",
          "data": {
            "text/html": [
              "<div>\n",
              "<style scoped>\n",
              "    .dataframe tbody tr th:only-of-type {\n",
              "        vertical-align: middle;\n",
              "    }\n",
              "\n",
              "    .dataframe tbody tr th {\n",
              "        vertical-align: top;\n",
              "    }\n",
              "\n",
              "    .dataframe thead th {\n",
              "        text-align: right;\n",
              "    }\n",
              "</style>\n",
              "<table border=\"1\" class=\"dataframe\">\n",
              "  <thead>\n",
              "    <tr style=\"text-align: right;\">\n",
              "      <th></th>\n",
              "      <th>area</th>\n",
              "      <th>bathrooms</th>\n",
              "    </tr>\n",
              "  </thead>\n",
              "  <tbody>\n",
              "    <tr>\n",
              "      <th>0</th>\n",
              "      <td>2104.0</td>\n",
              "      <td>3.0</td>\n",
              "    </tr>\n",
              "    <tr>\n",
              "      <th>1</th>\n",
              "      <td>1600.0</td>\n",
              "      <td>3.0</td>\n",
              "    </tr>\n",
              "    <tr>\n",
              "      <th>2</th>\n",
              "      <td>2400.0</td>\n",
              "      <td>3.0</td>\n",
              "    </tr>\n",
              "    <tr>\n",
              "      <th>3</th>\n",
              "      <td>1416.0</td>\n",
              "      <td>2.0</td>\n",
              "    </tr>\n",
              "    <tr>\n",
              "      <th>4</th>\n",
              "      <td>3000.0</td>\n",
              "      <td>4.0</td>\n",
              "    </tr>\n",
              "    <tr>\n",
              "      <th>5</th>\n",
              "      <td>1985.0</td>\n",
              "      <td>4.0</td>\n",
              "    </tr>\n",
              "    <tr>\n",
              "      <th>6</th>\n",
              "      <td>1534.0</td>\n",
              "      <td>3.0</td>\n",
              "    </tr>\n",
              "    <tr>\n",
              "      <th>7</th>\n",
              "      <td>1427.0</td>\n",
              "      <td>3.0</td>\n",
              "    </tr>\n",
              "    <tr>\n",
              "      <th>8</th>\n",
              "      <td>1380.0</td>\n",
              "      <td>3.0</td>\n",
              "    </tr>\n",
              "    <tr>\n",
              "      <th>9</th>\n",
              "      <td>1494.0</td>\n",
              "      <td>3.0</td>\n",
              "    </tr>\n",
              "  </tbody>\n",
              "</table>\n",
              "</div>"
            ],
            "text/plain": [
              "     area  bathrooms\n",
              "0  2104.0        3.0\n",
              "1  1600.0        3.0\n",
              "2  2400.0        3.0\n",
              "3  1416.0        2.0\n",
              "4  3000.0        4.0\n",
              "5  1985.0        4.0\n",
              "6  1534.0        3.0\n",
              "7  1427.0        3.0\n",
              "8  1380.0        3.0\n",
              "9  1494.0        3.0"
            ]
          },
          "metadata": {
            "tags": []
          },
          "execution_count": 2
        }
      ]
    },
    {
      "cell_type": "markdown",
      "metadata": {
        "id": "KBoLTNqtsr4-",
        "colab_type": "text"
      },
      "source": [
        "The dataframe now only has the features. Let's introduce the labels."
      ]
    },
    {
      "cell_type": "code",
      "metadata": {
        "id": "PoUqtjvosldM",
        "colab_type": "code",
        "colab": {
          "base_uri": "https://localhost:8080/",
          "height": 352
        },
        "outputId": "d04d1cb1-3b81-4cf6-ed5c-b69a4fd79d87"
      },
      "source": [
        "# This is our friend's list of which houses she liked\n",
        "dataframe.loc[:, ('y1')] = [1, 1, 1, 0, 0, 1, 0, 1, 1, 1]\n",
        "\n",
        "# 1 = good, 0 = bad; y2 is the negation of y1\n",
        "dataframe.loc[:, ('y2')] = dataframe['y1'] == 0\n",
        "\n",
        "# convert TRUE/FALSE values into 1/0\n",
        "dataframe.loc[:, ('y2')] = dataframe['y2'].astype(int)\n",
        "\n",
        "#  y2 means we don't like a house\n",
        "# (Yes, it's redundant. But learning to do it this way opens the door to Multiclass classification)\n",
        "\n",
        "# How is our dataframe looking now?\n",
        "dataframe"
      ],
      "execution_count": 3,
      "outputs": [
        {
          "output_type": "execute_result",
          "data": {
            "text/html": [
              "<div>\n",
              "<style scoped>\n",
              "    .dataframe tbody tr th:only-of-type {\n",
              "        vertical-align: middle;\n",
              "    }\n",
              "\n",
              "    .dataframe tbody tr th {\n",
              "        vertical-align: top;\n",
              "    }\n",
              "\n",
              "    .dataframe thead th {\n",
              "        text-align: right;\n",
              "    }\n",
              "</style>\n",
              "<table border=\"1\" class=\"dataframe\">\n",
              "  <thead>\n",
              "    <tr style=\"text-align: right;\">\n",
              "      <th></th>\n",
              "      <th>area</th>\n",
              "      <th>bathrooms</th>\n",
              "      <th>y1</th>\n",
              "      <th>y2</th>\n",
              "    </tr>\n",
              "  </thead>\n",
              "  <tbody>\n",
              "    <tr>\n",
              "      <th>0</th>\n",
              "      <td>2104.0</td>\n",
              "      <td>3.0</td>\n",
              "      <td>1</td>\n",
              "      <td>0</td>\n",
              "    </tr>\n",
              "    <tr>\n",
              "      <th>1</th>\n",
              "      <td>1600.0</td>\n",
              "      <td>3.0</td>\n",
              "      <td>1</td>\n",
              "      <td>0</td>\n",
              "    </tr>\n",
              "    <tr>\n",
              "      <th>2</th>\n",
              "      <td>2400.0</td>\n",
              "      <td>3.0</td>\n",
              "      <td>1</td>\n",
              "      <td>0</td>\n",
              "    </tr>\n",
              "    <tr>\n",
              "      <th>3</th>\n",
              "      <td>1416.0</td>\n",
              "      <td>2.0</td>\n",
              "      <td>0</td>\n",
              "      <td>1</td>\n",
              "    </tr>\n",
              "    <tr>\n",
              "      <th>4</th>\n",
              "      <td>3000.0</td>\n",
              "      <td>4.0</td>\n",
              "      <td>0</td>\n",
              "      <td>1</td>\n",
              "    </tr>\n",
              "    <tr>\n",
              "      <th>5</th>\n",
              "      <td>1985.0</td>\n",
              "      <td>4.0</td>\n",
              "      <td>1</td>\n",
              "      <td>0</td>\n",
              "    </tr>\n",
              "    <tr>\n",
              "      <th>6</th>\n",
              "      <td>1534.0</td>\n",
              "      <td>3.0</td>\n",
              "      <td>0</td>\n",
              "      <td>1</td>\n",
              "    </tr>\n",
              "    <tr>\n",
              "      <th>7</th>\n",
              "      <td>1427.0</td>\n",
              "      <td>3.0</td>\n",
              "      <td>1</td>\n",
              "      <td>0</td>\n",
              "    </tr>\n",
              "    <tr>\n",
              "      <th>8</th>\n",
              "      <td>1380.0</td>\n",
              "      <td>3.0</td>\n",
              "      <td>1</td>\n",
              "      <td>0</td>\n",
              "    </tr>\n",
              "    <tr>\n",
              "      <th>9</th>\n",
              "      <td>1494.0</td>\n",
              "      <td>3.0</td>\n",
              "      <td>1</td>\n",
              "      <td>0</td>\n",
              "    </tr>\n",
              "  </tbody>\n",
              "</table>\n",
              "</div>"
            ],
            "text/plain": [
              "     area  bathrooms  y1  y2\n",
              "0  2104.0        3.0   1   0\n",
              "1  1600.0        3.0   1   0\n",
              "2  2400.0        3.0   1   0\n",
              "3  1416.0        2.0   0   1\n",
              "4  3000.0        4.0   0   1\n",
              "5  1985.0        4.0   1   0\n",
              "6  1534.0        3.0   0   1\n",
              "7  1427.0        3.0   1   0\n",
              "8  1380.0        3.0   1   0\n",
              "9  1494.0        3.0   1   0"
            ]
          },
          "metadata": {
            "tags": []
          },
          "execution_count": 3
        }
      ]
    },
    {
      "cell_type": "markdown",
      "metadata": {
        "id": "nt9_6A-YuXzj",
        "colab_type": "text"
      },
      "source": [
        "Now that we have all our data in the dataframe, we'll need to shape it in matrices to feed it to TensorFlow."
      ]
    },
    {
      "cell_type": "code",
      "metadata": {
        "id": "oILfCnzat5Kc",
        "colab_type": "code",
        "colab": {
          "base_uri": "https://localhost:8080/",
          "height": 108
        },
        "outputId": "cc18e8ab-8ca4-447c-a882-a4bf5a13598a"
      },
      "source": [
        "X = dataframe.loc[:, ['area', 'bathrooms']].as_matrix()\n",
        "Y = dataframe.loc[:, ['y1', 'y2']].as_matrix()"
      ],
      "execution_count": 4,
      "outputs": [
        {
          "output_type": "stream",
          "text": [
            "/usr/local/lib/python3.6/dist-packages/ipykernel_launcher.py:1: FutureWarning: Method .as_matrix will be removed in a future version. Use .values instead.\n",
            "  \"\"\"Entry point for launching an IPython kernel.\n",
            "/usr/local/lib/python3.6/dist-packages/ipykernel_launcher.py:2: FutureWarning: Method .as_matrix will be removed in a future version. Use .values instead.\n",
            "  \n"
          ],
          "name": "stderr"
        }
      ]
    },
    {
      "cell_type": "markdown",
      "metadata": {
        "id": "evE2JEGyuvwu",
        "colab_type": "text"
      },
      "source": [
        "So now our input matrix looks like this:"
      ]
    },
    {
      "cell_type": "code",
      "metadata": {
        "id": "nnVb8yssuwmP",
        "colab_type": "code",
        "colab": {
          "base_uri": "https://localhost:8080/",
          "height": 195
        },
        "outputId": "e63cba65-3c2b-4e8e-99af-5ad719683903"
      },
      "source": [
        "X"
      ],
      "execution_count": 5,
      "outputs": [
        {
          "output_type": "execute_result",
          "data": {
            "text/plain": [
              "array([[2.104e+03, 3.000e+00],\n",
              "       [1.600e+03, 3.000e+00],\n",
              "       [2.400e+03, 3.000e+00],\n",
              "       [1.416e+03, 2.000e+00],\n",
              "       [3.000e+03, 4.000e+00],\n",
              "       [1.985e+03, 4.000e+00],\n",
              "       [1.534e+03, 3.000e+00],\n",
              "       [1.427e+03, 3.000e+00],\n",
              "       [1.380e+03, 3.000e+00],\n",
              "       [1.494e+03, 3.000e+00]])"
            ]
          },
          "metadata": {
            "tags": []
          },
          "execution_count": 5
        }
      ]
    },
    {
      "cell_type": "markdown",
      "metadata": {
        "id": "1gk1io1Nu-Ho",
        "colab_type": "text"
      },
      "source": [
        "And our labels matrix looks like this:"
      ]
    },
    {
      "cell_type": "code",
      "metadata": {
        "id": "8uoS_oY5uyBY",
        "colab_type": "code",
        "colab": {
          "base_uri": "https://localhost:8080/",
          "height": 195
        },
        "outputId": "512bdf30-5f44-4a94-e111-f9829317ef4c"
      },
      "source": [
        "Y"
      ],
      "execution_count": 6,
      "outputs": [
        {
          "output_type": "execute_result",
          "data": {
            "text/plain": [
              "array([[1, 0],\n",
              "       [1, 0],\n",
              "       [1, 0],\n",
              "       [0, 1],\n",
              "       [0, 1],\n",
              "       [1, 0],\n",
              "       [0, 1],\n",
              "       [1, 0],\n",
              "       [1, 0],\n",
              "       [1, 0]])"
            ]
          },
          "metadata": {
            "tags": []
          },
          "execution_count": 6
        }
      ]
    },
    {
      "cell_type": "markdown",
      "metadata": {
        "id": "djt16g5UvBz5",
        "colab_type": "text"
      },
      "source": [
        "Let's prepare some parameters for the training process."
      ]
    },
    {
      "cell_type": "code",
      "metadata": {
        "id": "o3R5pURHuy4J",
        "colab_type": "code",
        "colab": {}
      },
      "source": [
        "# Parameters\n",
        "learning_rate = 0.000001\n",
        "training_epochs = 2000\n",
        "display_step = 50\n",
        "n_samples = Y.size"
      ],
      "execution_count": 0,
      "outputs": []
    },
    {
      "cell_type": "markdown",
      "metadata": {
        "id": "lI-YLAJ4vF3k",
        "colab_type": "text"
      },
      "source": [
        "And now to define the TensorFlow operations. Notice that this is a declaration step where we tell TensorFlow how the prediction is calculated. If we execute it, no calculation would be made. It would just acknowledge that it now knows how to do the operation."
      ]
    },
    {
      "cell_type": "code",
      "metadata": {
        "id": "gkjAQ8C2vPPA",
        "colab_type": "code",
        "colab": {}
      },
      "source": [
        "'''\n",
        "Okay TensorFlow, we'll feed you an array of examples. Each example will be an array of two float \n",
        "values (area, and number of bathrooms).\n",
        "\"None\" means we can feed you any number of examples.\n",
        "Notice we haven't fed it the values yet\n",
        "'''\n",
        "x = tf.placeholder(tf.float32, [None, 2])\n",
        "\n",
        "'''\n",
        "Maintain a 2 x 2 float matrix for the weights that we'll keep updating\n",
        "through the training process (make them all zero to begin with)\n",
        "'''\n",
        "W = tf.Variable(tf.zeros([2, 2]))\n",
        "\n",
        "'''Also maintain two bias values'''\n",
        "b = tf.Variable(tf.zeros([2]))\n",
        "\n",
        "'''\n",
        "The first step in calculating the prediction would be to multiply \n",
        "the inputs matrix by the weights matrix then add the biases.\n",
        "'''\n",
        "y_values = tf.add(tf.matmul(x, W), b)\n",
        "\n",
        "'''\n",
        "Then we use softmax as an \"activation function\" that translates the numbers outputted by the previous layer\n",
        "into probability form.\n",
        "'''\n",
        "y = tf.nn.softmax(y_values)\n",
        "\n",
        "'''For training purposes, we'll also feed you a matrix of labels'''\n",
        "y_hat = tf.placeholder(tf.float32, [None, 2])"
      ],
      "execution_count": 0,
      "outputs": []
    },
    {
      "cell_type": "markdown",
      "metadata": {
        "id": "ze-YEW_BxatX",
        "colab_type": "text"
      },
      "source": [
        "Let's specify our cost function and use Gradient Descent."
      ]
    },
    {
      "cell_type": "code",
      "metadata": {
        "id": "XGJbNnPJxe-p",
        "colab_type": "code",
        "colab": {
          "base_uri": "https://localhost:8080/",
          "height": 90
        },
        "outputId": "e19fd19c-2399-4bb1-f43c-0976268573fe"
      },
      "source": [
        "# Cost function: Mean squared error\n",
        "cost = tf.reduce_sum(tf.pow(y_hat - y, 2)) / (2 * n_samples)\n",
        "\n",
        "# Gradient descent\n",
        "optimizer = tf.train.GradientDescentOptimizer(learning_rate).minimize(cost)"
      ],
      "execution_count": 10,
      "outputs": [
        {
          "output_type": "stream",
          "text": [
            "WARNING:tensorflow:From /usr/local/lib/python3.6/dist-packages/tensorflow_core/python/ops/math_grad.py:1375: where (from tensorflow.python.ops.array_ops) is deprecated and will be removed in a future version.\n",
            "Instructions for updating:\n",
            "Use tf.where in 2.0, which has the same broadcast rule as np.where\n"
          ],
          "name": "stdout"
        }
      ]
    },
    {
      "cell_type": "code",
      "metadata": {
        "id": "v6wHqFUCz6Dp",
        "colab_type": "code",
        "colab": {
          "base_uri": "https://localhost:8080/",
          "height": 90
        },
        "outputId": "9903059c-8285-4469-b538-c4fbdc8b3983"
      },
      "source": [
        "# Initialize variabls and tensorflow session\n",
        "init = tf.initialize_all_variables()\n",
        "sess= tf.Session()\n",
        "sess.run(init)"
      ],
      "execution_count": 11,
      "outputs": [
        {
          "output_type": "stream",
          "text": [
            "WARNING:tensorflow:From /usr/local/lib/python3.6/dist-packages/tensorflow_core/python/util/tf_should_use.py:198: initialize_all_variables (from tensorflow.python.ops.variables) is deprecated and will be removed after 2017-03-02.\n",
            "Instructions for updating:\n",
            "Use `tf.global_variables_initializer` instead.\n"
          ],
          "name": "stdout"
        }
      ]
    },
    {
      "cell_type": "markdown",
      "metadata": {
        "id": "EIhZbTrp0I7M",
        "colab_type": "text"
      },
      "source": [
        "Drum roll\n",
        "\n",
        "And now for the actual training"
      ]
    },
    {
      "cell_type": "code",
      "metadata": {
        "id": "TFRgv4SX0Mgm",
        "colab_type": "code",
        "colab": {
          "base_uri": "https://localhost:8080/",
          "height": 799
        },
        "outputId": "39c4a3d1-e0c3-4d38-e90d-004b8b45315c"
      },
      "source": [
        "for i in range(training_epochs):\n",
        "  # Take a gradient descent step using our inputs and labels\n",
        "  sess.run(optimizer, feed_dict={x: X, y_hat: Y})\n",
        "\n",
        "  # That's all! The rest of the cell just outputs debug messages.\n",
        "  # Display logs per epoch step\n",
        "  if (i) % display_step == 0:\n",
        "    cc = sess.run(cost, feed_dict={x: X, y_hat: Y})\n",
        "    print(f'Training step: {str(i)}, cost= {str(cc)}')\n",
        "print('Optimization Finished!')\n",
        "training_cost = sess.run(cost, feed_dict={x: X, y_hat: Y})\n",
        "print(f'Training cost={str(training_cost)}, W={sess.run(W)}, b={sess.run(b)}\\n')"
      ],
      "execution_count": 12,
      "outputs": [
        {
          "output_type": "stream",
          "text": [
            "Training step: 0, cost= 0.114958666\n",
            "Training step: 50, cost= 0.10953995\n",
            "Training step: 100, cost= 0.10953988\n",
            "Training step: 150, cost= 0.10953981\n",
            "Training step: 200, cost= 0.10953974\n",
            "Training step: 250, cost= 0.109539665\n",
            "Training step: 300, cost= 0.10953959\n",
            "Training step: 350, cost= 0.10953953\n",
            "Training step: 400, cost= 0.109539464\n",
            "Training step: 450, cost= 0.10953939\n",
            "Training step: 500, cost= 0.10953933\n",
            "Training step: 550, cost= 0.10953926\n",
            "Training step: 600, cost= 0.10953919\n",
            "Training step: 650, cost= 0.10953913\n",
            "Training step: 700, cost= 0.109539054\n",
            "Training step: 750, cost= 0.10953899\n",
            "Training step: 800, cost= 0.10953891\n",
            "Training step: 850, cost= 0.10953885\n",
            "Training step: 900, cost= 0.109538786\n",
            "Training step: 950, cost= 0.10953871\n",
            "Training step: 1000, cost= 0.10953865\n",
            "Training step: 1050, cost= 0.10953857\n",
            "Training step: 1100, cost= 0.10953851\n",
            "Training step: 1150, cost= 0.109538436\n",
            "Training step: 1200, cost= 0.10953839\n",
            "Training step: 1250, cost= 0.10953831\n",
            "Training step: 1300, cost= 0.109538235\n",
            "Training step: 1350, cost= 0.109538175\n",
            "Training step: 1400, cost= 0.1095381\n",
            "Training step: 1450, cost= 0.10953803\n",
            "Training step: 1500, cost= 0.10953796\n",
            "Training step: 1550, cost= 0.10953789\n",
            "Training step: 1600, cost= 0.10953783\n",
            "Training step: 1650, cost= 0.10953777\n",
            "Training step: 1700, cost= 0.10953768\n",
            "Training step: 1750, cost= 0.109537624\n",
            "Training step: 1800, cost= 0.10953756\n",
            "Training step: 1850, cost= 0.10953748\n",
            "Training step: 1900, cost= 0.10953742\n",
            "Training step: 1950, cost= 0.109537356\n",
            "Optimization Finished!\n",
            "Training cost=0.109537296, W=[[ 2.1414946e-04 -2.1415004e-04]\n",
            " [ 5.1274812e-05 -5.1274797e-05]], b=[ 1.1915521e-05 -1.1915531e-05]\n",
            "\n"
          ],
          "name": "stdout"
        }
      ]
    },
    {
      "cell_type": "markdown",
      "metadata": {
        "id": "ybFpR-Zq2xMx",
        "colab_type": "text"
      },
      "source": [
        "Now the training is done. TensorFlow is now holding on to our trained model (Which is basically just the defined operations, plus the variables W and b that resulted from the training process).\n",
        "\n",
        "Is a cost value of 0.109537 good or bad? I have no idea. At least it's better than the first cost value of 0.114958666. Let's use the model on our dataset to see how it does, though:"
      ]
    },
    {
      "cell_type": "code",
      "metadata": {
        "id": "Ps85BsQB2oC1",
        "colab_type": "code",
        "colab": {
          "base_uri": "https://localhost:8080/",
          "height": 195
        },
        "outputId": "3a78a597-738a-45ed-c41e-e05545630784"
      },
      "source": [
        "sess.run(y, feed_dict={x: X})"
      ],
      "execution_count": 13,
      "outputs": [
        {
          "output_type": "execute_result",
          "data": {
            "text/plain": [
              "array([[0.7112523 , 0.28874776],\n",
              "       [0.66498977, 0.33501023],\n",
              "       [0.73657656, 0.26342347],\n",
              "       [0.6471879 , 0.3528121 ],\n",
              "       [0.78335613, 0.21664388],\n",
              "       [0.7006948 , 0.29930523],\n",
              "       [0.6586633 , 0.34133676],\n",
              "       [0.6482863 , 0.35171372],\n",
              "       [0.6436828 , 0.35631716],\n",
              "       [0.6548012 , 0.34519887]], dtype=float32)"
            ]
          },
          "metadata": {
            "tags": []
          },
          "execution_count": 13
        }
      ]
    },
    {
      "cell_type": "markdown",
      "metadata": {
        "id": "kB1_LxdP3Tta",
        "colab_type": "text"
      },
      "source": [
        "So It's guessing they're all good houses. That makes it get 7/10 correct. Not terribly impressive. A model with a hidden layer should do better, I guess.\n",
        "\n",
        "Btw, this is how I calculated the softmax values in the post:"
      ]
    },
    {
      "cell_type": "code",
      "metadata": {
        "id": "d_SRRGpn3I3X",
        "colab_type": "code",
        "colab": {
          "base_uri": "https://localhost:8080/",
          "height": 35
        },
        "outputId": "c9257902-9277-4cf8-e77d-5f8d4ea8b791"
      },
      "source": [
        "sess.run(tf.nn.softmax([1., 2.]))"
      ],
      "execution_count": 14,
      "outputs": [
        {
          "output_type": "execute_result",
          "data": {
            "text/plain": [
              "array([0.26894143, 0.7310586 ], dtype=float32)"
            ]
          },
          "metadata": {
            "tags": []
          },
          "execution_count": 14
        }
      ]
    }
  ]
}