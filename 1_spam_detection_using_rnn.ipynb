{
  "nbformat": 4,
  "nbformat_minor": 0,
  "metadata": {
    "colab": {
      "name": "1-spam-detection-using-rnn.ipynb",
      "provenance": [],
      "toc_visible": true,
      "authorship_tag": "ABX9TyN4Ij4hAqOdGzLVMHG39B5B",
      "include_colab_link": true
    },
    "kernelspec": {
      "name": "python3",
      "display_name": "Python 3"
    }
  },
  "cells": [
    {
      "cell_type": "markdown",
      "metadata": {
        "id": "view-in-github",
        "colab_type": "text"
      },
      "source": [
        "<a href=\"https://colab.research.google.com/github/rahiakela/edureka-deep-learning-with-tensorflow/blob/module-6-recurrent-neural-networks/1_spam_detection_using_rnn.ipynb\" target=\"_parent\"><img src=\"https://colab.research.google.com/assets/colab-badge.svg\" alt=\"Open In Colab\"/></a>"
      ]
    },
    {
      "cell_type": "markdown",
      "metadata": {
        "id": "C55ZgTk6prvt",
        "colab_type": "text"
      },
      "source": [
        "# Implementing an RNN in TensorFlow"
      ]
    },
    {
      "cell_type": "markdown",
      "metadata": {
        "id": "mJoewcxipssL",
        "colab_type": "text"
      },
      "source": [
        "We implement an RNN in TensorFlow to predict spam/ham from texts"
      ]
    },
    {
      "cell_type": "code",
      "metadata": {
        "id": "eW7IcB10pvHc",
        "colab_type": "code",
        "colab": {
          "base_uri": "https://localhost:8080/",
          "height": 62
        },
        "outputId": "d09aa3e0-514e-410f-c74d-b39a3674e8a9"
      },
      "source": [
        "import os\n",
        "import re\n",
        "import io\n",
        "import requests\n",
        "import numpy as np\n",
        "import matplotlib.pyplot as plt\n",
        "import tensorflow as tf\n",
        "from zipfile import ZipFile\n",
        "from tensorflow.python.framework import ops"
      ],
      "execution_count": 1,
      "outputs": [
        {
          "output_type": "display_data",
          "data": {
            "text/html": [
              "<p style=\"color: red;\">\n",
              "The default version of TensorFlow in Colab will soon switch to TensorFlow 2.x.<br>\n",
              "We recommend you <a href=\"https://www.tensorflow.org/guide/migrate\" target=\"_blank\">upgrade</a> now \n",
              "or ensure your notebook will continue to use TensorFlow 1.x via the <code>%tensorflow_version 1.x</code> magic:\n",
              "<a href=\"https://colab.research.google.com/notebooks/tensorflow_version.ipynb\" target=\"_blank\">more info</a>.</p>\n"
            ],
            "text/plain": [
              "<IPython.core.display.HTML object>"
            ]
          },
          "metadata": {
            "tags": []
          }
        }
      ]
    },
    {
      "cell_type": "code",
      "metadata": {
        "id": "q8t4B3Imp5vO",
        "colab_type": "code",
        "colab": {}
      },
      "source": [
        "ops.reset_default_graph()\n",
        "\n",
        "# Start a graph\n",
        "sess = tf.Session()\n",
        "\n",
        "# Set RNN parameters\n",
        "epochs = 20\n",
        "batch_size = 250\n",
        "max_sequence_length = 25\n",
        "rnn_size = 10\n",
        "embedding_size = 50\n",
        "min_word_frequency = 10\n",
        "learning_rate = 0.0005\n",
        "dropout_keep_prob = tf.placeholder(tf.float32)\n",
        "\n",
        "# Download or open data\n",
        "data_dir = 'temp'\n",
        "data_file = 'text_data.txt'\n",
        "if not os.path.exists(data_dir):\n",
        "    os.makedirs(data_dir)"
      ],
      "execution_count": 0,
      "outputs": []
    },
    {
      "cell_type": "code",
      "metadata": {
        "id": "I5ax-eeXp6ZQ",
        "colab_type": "code",
        "colab": {}
      },
      "source": [
        "if not os.path.isfile(os.path.join(data_dir, data_file)):\n",
        "    zip_url = 'http://archive.ics.uci.edu/ml/machine-learning-databases/00228/smsspamcollection.zip'\n",
        "    r = requests.get(zip_url)\n",
        "    z = ZipFile(io.BytesIO(r.content))\n",
        "    file = z.read('SMSSpamCollection')\n",
        "    # Format Data\n",
        "    text_data = file.decode()\n",
        "    text_data = text_data.encode('ascii', errors='ignore')\n",
        "    text_data = text_data.decode().split('\\n')\n",
        "\n",
        "    print('text_',text_data)\n",
        "    # Save data to text file\n",
        "    with open(os.path.join(data_dir, data_file), 'w') as file_conn:\n",
        "        for text in text_data:\n",
        "            file_conn.write(\"{}\\n\".format(text))\n",
        "else:\n",
        "    # Open data from text file\n",
        "    text_data = []\n",
        "    with open(os.path.join(data_dir, data_file), 'r') as file_conn:\n",
        "        for row in file_conn:\n",
        "            text_data.append(row)\n",
        "    text_data = text_data[:-1]\n",
        "\n",
        "print(len(text_data))"
      ],
      "execution_count": 0,
      "outputs": []
    },
    {
      "cell_type": "code",
      "metadata": {
        "id": "KU7GPvLVqDHV",
        "colab_type": "code",
        "colab": {}
      },
      "source": [
        "text_data = [x.split('\\t') for x in text_data if len(x) >= 1]\n",
        "print(text_data)\n",
        "[text_data_target, text_data_train] = [list(x) for x in zip(*text_data)]\n",
        "print(text_data_target)\n",
        "print(text_data_train)"
      ],
      "execution_count": 0,
      "outputs": []
    },
    {
      "cell_type": "code",
      "metadata": {
        "id": "xDF1zc2PqH9Y",
        "colab_type": "code",
        "colab": {}
      },
      "source": [
        "# Create a text cleaning function\n",
        "def clean_text(text_string):\n",
        "    text_string = re.sub(r'([^\\s\\w]|_|[0-9])+', '', text_string)\n",
        "    text_string = \" \".join(text_string.split())\n",
        "    text_string = text_string.lower()\n",
        "    return (text_string)\n",
        "\n",
        "\n",
        "# Clean texts\n",
        "text_data_train = [clean_text(x) for x in text_data_train]"
      ],
      "execution_count": 0,
      "outputs": []
    },
    {
      "cell_type": "code",
      "metadata": {
        "id": "qnjoilf4qNlk",
        "colab_type": "code",
        "colab": {}
      },
      "source": [
        "# Change texts into numeric vectors\n",
        "vocab_processor = tf.contrib.learn.preprocessing.VocabularyProcessor(max_sequence_length,\n",
        "                                                                     min_frequency=min_word_frequency)\n",
        "text_processed = np.array(list(vocab_processor.fit_transform(text_data_train)))\n",
        "\n",
        "# Shuffle and split data\n",
        "text_processed = np.array(text_processed)\n",
        "text_data_target = np.array([1 if x == 'ham' else 0 for x in text_data_target])\n",
        "shuffled_ix = np.random.permutation(np.arange(len(text_data_target)))\n",
        "x_shuffled = text_processed[shuffled_ix]\n",
        "y_shuffled = text_data_target[shuffled_ix]\n",
        "\n",
        "# Split train/test set\n",
        "ix_cutoff = int(len(y_shuffled) * 0.80)\n",
        "x_train, x_test = x_shuffled[:ix_cutoff], x_shuffled[ix_cutoff:]\n",
        "y_train, y_test = y_shuffled[:ix_cutoff], y_shuffled[ix_cutoff:]\n",
        "vocab_size = len(vocab_processor.vocabulary_)\n",
        "print(\"Vocabulary Size: {:d}\".format(vocab_size))\n",
        "print(\"80-20 Train Test split: {:d} -- {:d}\".format(len(y_train), len(y_test)))"
      ],
      "execution_count": 0,
      "outputs": []
    },
    {
      "cell_type": "code",
      "metadata": {
        "id": "xjW3xjS1qXbq",
        "colab_type": "code",
        "colab": {}
      },
      "source": [
        "# Create placeholders\n",
        "x_data = tf.placeholder(tf.int32, [None, max_sequence_length])\n",
        "y_output = tf.placeholder(tf.int32, [None])\n",
        "\n",
        "# Create embedding\n",
        "embedding_mat = tf.Variable(tf.random_uniform([vocab_size, embedding_size], -1.0, 1.0))\n",
        "embedding_output = tf.nn.embedding_lookup(embedding_mat, x_data)\n",
        "# embedding_output_expanded = tf.expand_dims(embedding_output, -1)"
      ],
      "execution_count": 0,
      "outputs": []
    },
    {
      "cell_type": "code",
      "metadata": {
        "id": "Ah5D6BY4qg55",
        "colab_type": "code",
        "colab": {}
      },
      "source": [
        "# Define the RNN cell\n",
        "# tensorflow change >= 1.0, rnn is put into tensorflow.contrib directory. Prior version not test.\n",
        "if tf.__version__[0] >= '1':\n",
        "    cell = tf.contrib.rnn.BasicRNNCell(num_units=rnn_size)\n",
        "else:\n",
        "    cell = tf.nn.rnn_cell.BasicRNNCell(num_units=rnn_size)\n",
        "\n",
        "output, state = tf.nn.dynamic_rnn(cell, embedding_output, dtype=tf.float32)\n",
        "output = tf.nn.dropout(output, dropout_keep_prob)\n",
        "\n",
        "# Get output of RNN sequence\n",
        "output = tf.transpose(output, [1, 0, 2])\n",
        "last = tf.gather(output, int(output.get_shape()[0]) - 1)\n",
        "\n",
        "weight = tf.Variable(tf.truncated_normal([rnn_size, 2], stddev=0.1))\n",
        "bias = tf.Variable(tf.constant(0.1, shape=[2]))\n",
        "logits_out = tf.nn.softmax(tf.matmul(last, weight) + bias)"
      ],
      "execution_count": 0,
      "outputs": []
    },
    {
      "cell_type": "code",
      "metadata": {
        "id": "aHi8QZQtqlcM",
        "colab_type": "code",
        "colab": {}
      },
      "source": [
        "# Loss function\n",
        "losses = tf.nn.sparse_softmax_cross_entropy_with_logits(logits=logits_out,\n",
        "                                                        labels=y_output)  # logits=float32, labels=int32\n",
        "loss = tf.reduce_mean(losses)\n",
        "\n",
        "accuracy = tf.reduce_mean(tf.cast(tf.equal(tf.argmax(logits_out, 1), tf.cast(y_output, tf.int64)), tf.float32))\n",
        "\n",
        "optimizer = tf.train.RMSPropOptimizer(learning_rate)\n",
        "train_step = optimizer.minimize(loss)\n",
        "\n",
        "saver = tf.train.Saver()\n",
        "\n",
        "init = tf.global_variables_initializer()\n",
        "sess.run(init)\n",
        "\n",
        "train_loss = []\n",
        "test_loss = []\n",
        "train_accuracy = []\n",
        "test_accuracy = []\n",
        "model_path = \"/home/rakesh/MachineLearning/Tensorflow\""
      ],
      "execution_count": 0,
      "outputs": []
    },
    {
      "cell_type": "code",
      "metadata": {
        "id": "kpiQQTxwquxh",
        "colab_type": "code",
        "colab": {
          "base_uri": "https://localhost:8080/",
          "height": 350
        },
        "outputId": "8dff6974-1b56-4cd1-d619-80b217294aa1"
      },
      "source": [
        "# Start training\n",
        "for epoch in range(epochs):\n",
        "\n",
        "    # Shuffle training data\n",
        "    shuffled_ix = np.random.permutation(np.arange(len(x_train)))\n",
        "    x_train = x_train[shuffled_ix]\n",
        "    y_train = y_train[shuffled_ix]\n",
        "    num_batches = int(len(x_train) / batch_size) + 1\n",
        "    # TO DO CALCULATE GENERATIONS ExACTLY\n",
        "    for i in range(num_batches):\n",
        "        # Select train data\n",
        "        min_ix = i * batch_size\n",
        "        max_ix = np.min([len(x_train), ((i + 1) * batch_size)])\n",
        "        x_train_batch = x_train[min_ix:max_ix]\n",
        "        y_train_batch = y_train[min_ix:max_ix]\n",
        "\n",
        "        # Run train step\n",
        "        train_dict = {x_data: x_train_batch, y_output: y_train_batch, dropout_keep_prob: 0.5}\n",
        "        sess.run(train_step, feed_dict=train_dict)\n",
        "\n",
        "    # Run loss and accuracy for training\n",
        "    temp_train_loss, temp_train_acc = sess.run([loss, accuracy], feed_dict=train_dict)\n",
        "    train_loss.append(temp_train_loss)\n",
        "    train_accuracy.append(temp_train_acc)\n",
        "\n",
        "    # Run Eval Step\n",
        "    test_dict = {x_data: x_test, y_output: y_test, dropout_keep_prob: 1.0}\n",
        "    temp_test_loss, temp_test_acc = sess.run([loss, accuracy], feed_dict=test_dict)\n",
        "    test_loss.append(temp_test_loss)\n",
        "    test_accuracy.append(temp_test_acc)\n",
        "    print('Epoch: {}, Test Loss: {:.2}, Test Acc: {:.2}'.format(epoch + 1, temp_test_loss, temp_test_acc))\n",
        "\n",
        "    save_path = saver.save(sess,'my_model',global_step=1000)"
      ],
      "execution_count": 10,
      "outputs": [
        {
          "output_type": "stream",
          "text": [
            "Epoch: 1, Test Loss: 0.69, Test Acc: 0.81\n",
            "Epoch: 2, Test Loss: 0.69, Test Acc: 0.81\n",
            "Epoch: 3, Test Loss: 0.67, Test Acc: 0.81\n",
            "Epoch: 4, Test Loss: 0.65, Test Acc: 0.83\n",
            "Epoch: 5, Test Loss: 0.62, Test Acc: 0.83\n",
            "Epoch: 6, Test Loss: 0.59, Test Acc: 0.83\n",
            "Epoch: 7, Test Loss: 0.56, Test Acc: 0.84\n",
            "Epoch: 8, Test Loss: 0.54, Test Acc: 0.84\n",
            "Epoch: 9, Test Loss: 0.53, Test Acc: 0.84\n",
            "Epoch: 10, Test Loss: 0.51, Test Acc: 0.85\n",
            "Epoch: 11, Test Loss: 0.5, Test Acc: 0.85\n",
            "Epoch: 12, Test Loss: 0.49, Test Acc: 0.85\n",
            "Epoch: 13, Test Loss: 0.49, Test Acc: 0.85\n",
            "Epoch: 14, Test Loss: 0.48, Test Acc: 0.85\n",
            "Epoch: 15, Test Loss: 0.48, Test Acc: 0.86\n",
            "Epoch: 16, Test Loss: 0.47, Test Acc: 0.86\n",
            "Epoch: 17, Test Loss: 0.47, Test Acc: 0.86\n",
            "Epoch: 18, Test Loss: 0.47, Test Acc: 0.86\n",
            "Epoch: 19, Test Loss: 0.46, Test Acc: 0.86\n",
            "Epoch: 20, Test Loss: 0.46, Test Acc: 0.86\n"
          ],
          "name": "stdout"
        }
      ]
    },
    {
      "cell_type": "code",
      "metadata": {
        "id": "pPrB_p0pqzrC",
        "colab_type": "code",
        "colab": {
          "base_uri": "https://localhost:8080/",
          "height": 295
        },
        "outputId": "7a8e3104-65dc-48de-a570-ee99cad5772a"
      },
      "source": [
        "# Plot loss over time\n",
        "epoch_seq = np.arange(1, epochs + 1)\n",
        "plt.plot(epoch_seq, train_loss, 'k--', label='Train Set')\n",
        "plt.plot(epoch_seq, test_loss, 'r-', label='Test Set')\n",
        "plt.title('Softmax Loss')\n",
        "plt.xlabel('Epochs')\n",
        "plt.ylabel('Softmax Loss')\n",
        "plt.legend(loc='upper left')\n",
        "plt.show()"
      ],
      "execution_count": 11,
      "outputs": [
        {
          "output_type": "display_data",
          "data": {
            "image/png": "[encoded data removed]",
            "text/plain": [
              "<Figure size 432x288 with 1 Axes>"
            ]
          },
          "metadata": {
            "tags": []
          }
        }
      ]
    },
    {
      "cell_type": "code",
      "metadata": {
        "id": "kiIujhD5q2bD",
        "colab_type": "code",
        "colab": {
          "base_uri": "https://localhost:8080/",
          "height": 295
        },
        "outputId": "779e22d3-e741-4fc1-82eb-687e19283b53"
      },
      "source": [
        "# Plot accuracy over time\n",
        "plt.plot(epoch_seq, train_accuracy, 'k--', label='Train Set')\n",
        "plt.plot(epoch_seq, test_accuracy, 'r-', label='Test Set')\n",
        "plt.title('Test Accuracy')\n",
        "plt.xlabel('Epochs')\n",
        "plt.ylabel('Accuracy')\n",
        "plt.legend(loc='upper left')\n",
        "plt.show()"
      ],
      "execution_count": 12,
      "outputs": [
        {
          "output_type": "display_data",
          "data": {
            "image/png": "[encoded data removed]",
            "text/plain": [
              "<Figure size 432x288 with 1 Axes>"
            ]
          },
          "metadata": {
            "tags": []
          }
        }
      ]
    },
    {
      "cell_type": "code",
      "metadata": {
        "id": "rFqWUIJZq5fi",
        "colab_type": "code",
        "colab": {}
      },
      "source": [
        ""
      ],
      "execution_count": 0,
      "outputs": []
    }
  ]
}