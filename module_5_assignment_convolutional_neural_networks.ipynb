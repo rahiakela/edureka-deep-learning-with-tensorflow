{
  "nbformat": 4,
  "nbformat_minor": 0,
  "metadata": {
    "colab": {
      "name": "module-5-assignment-convolutional-neural-networks.ipynb",
      "provenance": [],
      "toc_visible": true,
      "authorship_tag": "ABX9TyP1C3OPWfIMIuZigmPczOUk",
      "include_colab_link": true
    },
    "kernelspec": {
      "name": "python3",
      "display_name": "Python 3"
    },
    "accelerator": "GPU"
  },
  "cells": [
    {
      "cell_type": "markdown",
      "metadata": {
        "id": "view-in-github",
        "colab_type": "text"
      },
      "source": [
        "<a href=\"https://colab.research.google.com/github/rahiakela/edureka-deep-learning-with-tensorflow/blob/module-5-convolutional-neural-networks/module_5_assignment_convolutional_neural_networks.ipynb\" target=\"_parent\"><img src=\"https://colab.research.google.com/assets/colab-badge.svg\" alt=\"Open In Colab\"/></a>"
      ]
    },
    {
      "cell_type": "markdown",
      "metadata": {
        "id": "8aWtBVdSDrxi",
        "colab_type": "text"
      },
      "source": [
        "# Module 5: Convolutional Neural Networks"
      ]
    },
    {
      "cell_type": "markdown",
      "metadata": {
        "id": "xJb45EdPD2vb",
        "colab_type": "text"
      },
      "source": [
        "**Implement convolutional neural-network (CNN) for MNIST Dataset**\n",
        "\n",
        "Network architecture - CNN with 4 layers has following architecture.\n",
        "\n",
        "* Input layer : 784 nodes (MNIST images size)\n",
        "* First convolution layer : 5x5x32\n",
        "* First max-pooling layer\n",
        "* Second convolution layer : 5x5x64\n",
        "* Second max-pooling layer\n",
        "* Third fully-connected layer : 1024 nodes\n",
        "* Output layer : 10 nodes (number of class for MNIST)"
      ]
    },
    {
      "cell_type": "markdown",
      "metadata": {
        "id": "4c1Z3GFhEHq1",
        "colab_type": "text"
      },
      "source": [
        "## Setup"
      ]
    },
    {
      "cell_type": "code",
      "metadata": {
        "id": "Z-hpxfZ8PKKS",
        "colab_type": "code",
        "colab": {
          "base_uri": "https://localhost:8080/",
          "height": 81
        },
        "outputId": "5acb3cea-276a-4461-cbee-02a006293e93"
      },
      "source": [
        "import tensorflow as tf\n",
        "import numpy as np\n",
        "import pandas as pd\n",
        "\n",
        "import matplotlib.pyplot as plt\n",
        "\n",
        "from keras.datasets import mnist\n",
        "from keras import backend as keras_backend\n",
        "from keras.utils import to_categorical\n",
        "\n",
        "from keras.models import Sequential\n",
        "from keras.layers import Dense, Dropout, Activation, Flatten, Conv2D, MaxPooling2D, BatchNormalization\n",
        "from keras.constraints import max_norm\n",
        "from keras.optimizers import Adam, SGD, RMSprop\n",
        "from keras.preprocessing.image import ImageDataGenerator\n",
        "\n",
        "keras_backend.set_image_data_format('channels_last')"
      ],
      "execution_count": 1,
      "outputs": [
        {
          "output_type": "display_data",
          "data": {
            "text/html": [
              "<p style=\"color: red;\">\n",
              "The default version of TensorFlow in Colab will soon switch to TensorFlow 2.x.<br>\n",
              "We recommend you <a href=\"https://www.tensorflow.org/guide/migrate\" target=\"_blank\">upgrade</a> now \n",
              "or ensure your notebook will continue to use TensorFlow 1.x via the <code>%tensorflow_version 1.x</code> magic:\n",
              "<a href=\"https://colab.research.google.com/notebooks/tensorflow_version.ipynb\" target=\"_blank\">more info</a>.</p>\n"
            ],
            "text/plain": [
              "<IPython.core.display.HTML object>"
            ]
          },
          "metadata": {
            "tags": []
          }
        },
        {
          "output_type": "stream",
          "text": [
            "Using TensorFlow backend.\n"
          ],
          "name": "stderr"
        }
      ]
    },
    {
      "cell_type": "markdown",
      "metadata": {
        "id": "q60oZ1-gQnP8",
        "colab_type": "text"
      },
      "source": [
        "## Load and prepare dataset"
      ]
    },
    {
      "cell_type": "code",
      "metadata": {
        "id": "ZZR47opqPQcU",
        "colab_type": "code",
        "colab": {
          "base_uri": "https://localhost:8080/",
          "height": 52
        },
        "outputId": "1aa9f90e-6545-494a-cc11-5ec9b5158763"
      },
      "source": [
        "random_seed = 42\n",
        "np.random.seed(random_seed)\n",
        "\n",
        "# load MNIST data and save sizes\n",
        "(X_train, y_train), (X_test, y_test) = mnist.load_data()\n",
        "image_height = X_train.shape[1]\n",
        "image_width = X_train.shape[2]\n",
        "number_of_pixels = image_height * image_width\n",
        "\n",
        "# convert to floating-point\n",
        "X_train = keras_backend.cast_to_floatx(X_train)\n",
        "X_test = keras_backend.cast_to_floatx(X_test)\n",
        "\n",
        "# scale data to range [-1, 1]\n",
        "X_train = np.interp(X_train, [0, 255], [-1,1])\n",
        "X_test = np.interp(X_test, [0, 255], [-1,1])\n",
        "\n",
        "# save original y_train and y_test\n",
        "original_y_train = y_train\n",
        "original_y_test = y_test\n",
        "\n",
        "# replace label data with one-hot encoded versions\n",
        "number_of_classes = 1 + max(np.append(y_train, y_test))\n",
        "y_train = to_categorical(y_train, num_classes=number_of_classes)\n",
        "y_test = to_categorical(y_test, num_classes=number_of_classes)\n",
        "\n",
        "# reshape sample data to 4D tensor using channels_last convention \n",
        "X_train = X_train.reshape(X_train.shape[0], image_height, image_width, 1)\n",
        "X_test = X_test.reshape(X_test.shape[0], image_height, image_width, 1)"
      ],
      "execution_count": 2,
      "outputs": [
        {
          "output_type": "stream",
          "text": [
            "Downloading data from https://s3.amazonaws.com/img-datasets/mnist.npz\n",
            "11493376/11490434 [==============================] - 1s 0us/step\n"
          ],
          "name": "stdout"
        }
      ]
    },
    {
      "cell_type": "markdown",
      "metadata": {
        "id": "cHK9jAZ-QsWT",
        "colab_type": "text"
      },
      "source": [
        "## Create and train CNN model"
      ]
    },
    {
      "cell_type": "code",
      "metadata": {
        "id": "g5zjyy-UPjqq",
        "colab_type": "code",
        "colab": {}
      },
      "source": [
        "# define the model\n",
        "def make_cnn_model():\n",
        "  model = Sequential()\n",
        "  model.add(Conv2D(32, (5, 5), activation='relu', padding='same', input_shape=(image_height, image_width, 1)))\n",
        "  model.add(MaxPooling2D((2, 2)))\n",
        "  model.add(Conv2D(64, (5, 5), activation='relu'))\n",
        "  model.add(MaxPooling2D((2, 2)))\n",
        "  model.add(Flatten())\n",
        "  model.add(Dense(1024, activation='relu'))\n",
        "  model.add(Dense(number_of_classes, activation='softmax'))\n",
        "\n",
        "  model.compile(loss='categorical_crossentropy', optimizer='adam', metrics=['accuracy'])\n",
        "\n",
        "  return model"
      ],
      "execution_count": 0,
      "outputs": []
    },
    {
      "cell_type": "code",
      "metadata": {
        "id": "mIFJp4fiPsRf",
        "colab_type": "code",
        "colab": {
          "base_uri": "https://localhost:8080/",
          "height": 641
        },
        "outputId": "a88d3fa3-608d-49e1-b1f2-e4494414a3ef"
      },
      "source": [
        "# create the model and print it structure\n",
        "cnn_model = make_cnn_model()\n",
        "cnn_model.summary()"
      ],
      "execution_count": 4,
      "outputs": [
        {
          "output_type": "stream",
          "text": [
            "WARNING:tensorflow:From /usr/local/lib/python3.6/dist-packages/keras/backend/tensorflow_backend.py:66: The name tf.get_default_graph is deprecated. Please use tf.compat.v1.get_default_graph instead.\n",
            "\n",
            "WARNING:tensorflow:From /usr/local/lib/python3.6/dist-packages/keras/backend/tensorflow_backend.py:541: The name tf.placeholder is deprecated. Please use tf.compat.v1.placeholder instead.\n",
            "\n",
            "WARNING:tensorflow:From /usr/local/lib/python3.6/dist-packages/keras/backend/tensorflow_backend.py:4432: The name tf.random_uniform is deprecated. Please use tf.random.uniform instead.\n",
            "\n",
            "WARNING:tensorflow:From /usr/local/lib/python3.6/dist-packages/keras/backend/tensorflow_backend.py:4267: The name tf.nn.max_pool is deprecated. Please use tf.nn.max_pool2d instead.\n",
            "\n",
            "WARNING:tensorflow:From /usr/local/lib/python3.6/dist-packages/keras/optimizers.py:793: The name tf.train.Optimizer is deprecated. Please use tf.compat.v1.train.Optimizer instead.\n",
            "\n",
            "WARNING:tensorflow:From /usr/local/lib/python3.6/dist-packages/keras/backend/tensorflow_backend.py:3576: The name tf.log is deprecated. Please use tf.math.log instead.\n",
            "\n",
            "Model: \"sequential_1\"\n",
            "_________________________________________________________________\n",
            "Layer (type)                 Output Shape              Param #   \n",
            "=================================================================\n",
            "conv2d_1 (Conv2D)            (None, 28, 28, 32)        832       \n",
            "_________________________________________________________________\n",
            "max_pooling2d_1 (MaxPooling2 (None, 14, 14, 32)        0         \n",
            "_________________________________________________________________\n",
            "conv2d_2 (Conv2D)            (None, 10, 10, 64)        51264     \n",
            "_________________________________________________________________\n",
            "max_pooling2d_2 (MaxPooling2 (None, 5, 5, 64)          0         \n",
            "_________________________________________________________________\n",
            "flatten_1 (Flatten)          (None, 1600)              0         \n",
            "_________________________________________________________________\n",
            "dense_1 (Dense)              (None, 1024)              1639424   \n",
            "_________________________________________________________________\n",
            "dense_2 (Dense)              (None, 10)                10250     \n",
            "=================================================================\n",
            "Total params: 1,701,770\n",
            "Trainable params: 1,701,770\n",
            "Non-trainable params: 0\n",
            "_________________________________________________________________\n"
          ],
          "name": "stdout"
        }
      ]
    },
    {
      "cell_type": "code",
      "metadata": {
        "id": "E93mKECJRYke",
        "colab_type": "code",
        "colab": {
          "base_uri": "https://localhost:8080/",
          "height": 1000
        },
        "outputId": "b73c6821-5925-4d60-bee9-43a4c4dc88f4"
      },
      "source": [
        "# train the model\n",
        "cnn_history = cnn_model.fit(X_train, y_train, validation_data=(X_test, y_test), epochs=100, batch_size=256)"
      ],
      "execution_count": 5,
      "outputs": [
        {
          "output_type": "stream",
          "text": [
            "WARNING:tensorflow:From /usr/local/lib/python3.6/dist-packages/tensorflow_core/python/ops/math_grad.py:1424: where (from tensorflow.python.ops.array_ops) is deprecated and will be removed in a future version.\n",
            "Instructions for updating:\n",
            "Use tf.where in 2.0, which has the same broadcast rule as np.where\n",
            "WARNING:tensorflow:From /usr/local/lib/python3.6/dist-packages/keras/backend/tensorflow_backend.py:1033: The name tf.assign_add is deprecated. Please use tf.compat.v1.assign_add instead.\n",
            "\n",
            "WARNING:tensorflow:From /usr/local/lib/python3.6/dist-packages/keras/backend/tensorflow_backend.py:1020: The name tf.assign is deprecated. Please use tf.compat.v1.assign instead.\n",
            "\n",
            "WARNING:tensorflow:From /usr/local/lib/python3.6/dist-packages/keras/backend/tensorflow_backend.py:3005: The name tf.Session is deprecated. Please use tf.compat.v1.Session instead.\n",
            "\n",
            "Train on 60000 samples, validate on 10000 samples\n",
            "Epoch 1/100\n",
            "WARNING:tensorflow:From /usr/local/lib/python3.6/dist-packages/keras/backend/tensorflow_backend.py:190: The name tf.get_default_session is deprecated. Please use tf.compat.v1.get_default_session instead.\n",
            "\n",
            "WARNING:tensorflow:From /usr/local/lib/python3.6/dist-packages/keras/backend/tensorflow_backend.py:197: The name tf.ConfigProto is deprecated. Please use tf.compat.v1.ConfigProto instead.\n",
            "\n",
            "WARNING:tensorflow:From /usr/local/lib/python3.6/dist-packages/keras/backend/tensorflow_backend.py:207: The name tf.global_variables is deprecated. Please use tf.compat.v1.global_variables instead.\n",
            "\n",
            "WARNING:tensorflow:From /usr/local/lib/python3.6/dist-packages/keras/backend/tensorflow_backend.py:216: The name tf.is_variable_initialized is deprecated. Please use tf.compat.v1.is_variable_initialized instead.\n",
            "\n",
            "WARNING:tensorflow:From /usr/local/lib/python3.6/dist-packages/keras/backend/tensorflow_backend.py:223: The name tf.variables_initializer is deprecated. Please use tf.compat.v1.variables_initializer instead.\n",
            "\n",
            "60000/60000 [==============================] - 18s 295us/step - loss: 0.1832 - acc: 0.9464 - val_loss: 0.0480 - val_acc: 0.9844\n",
            "Epoch 2/100\n",
            "60000/60000 [==============================] - 3s 42us/step - loss: 0.0439 - acc: 0.9864 - val_loss: 0.0343 - val_acc: 0.9886\n",
            "Epoch 3/100\n",
            "60000/60000 [==============================] - 3s 42us/step - loss: 0.0285 - acc: 0.9908 - val_loss: 0.0275 - val_acc: 0.9905\n",
            "Epoch 4/100\n",
            "60000/60000 [==============================] - 3s 42us/step - loss: 0.0210 - acc: 0.9935 - val_loss: 0.0235 - val_acc: 0.9915\n",
            "Epoch 5/100\n",
            "60000/60000 [==============================] - 2s 41us/step - loss: 0.0178 - acc: 0.9942 - val_loss: 0.0277 - val_acc: 0.9907\n",
            "Epoch 6/100\n",
            "60000/60000 [==============================] - 3s 42us/step - loss: 0.0130 - acc: 0.9959 - val_loss: 0.0288 - val_acc: 0.9903\n",
            "Epoch 7/100\n",
            "60000/60000 [==============================] - 3s 42us/step - loss: 0.0095 - acc: 0.9970 - val_loss: 0.0233 - val_acc: 0.9926\n",
            "Epoch 8/100\n",
            "60000/60000 [==============================] - 3s 42us/step - loss: 0.0087 - acc: 0.9973 - val_loss: 0.0240 - val_acc: 0.9916\n",
            "Epoch 9/100\n",
            "60000/60000 [==============================] - 3s 42us/step - loss: 0.0084 - acc: 0.9972 - val_loss: 0.0295 - val_acc: 0.9919\n",
            "Epoch 10/100\n",
            "60000/60000 [==============================] - 3s 43us/step - loss: 0.0069 - acc: 0.9980 - val_loss: 0.0293 - val_acc: 0.9914\n",
            "Epoch 11/100\n",
            "60000/60000 [==============================] - 3s 42us/step - loss: 0.0066 - acc: 0.9978 - val_loss: 0.0400 - val_acc: 0.9884\n",
            "Epoch 12/100\n",
            "60000/60000 [==============================] - 3s 43us/step - loss: 0.0068 - acc: 0.9977 - val_loss: 0.0331 - val_acc: 0.9915\n",
            "Epoch 13/100\n",
            "60000/60000 [==============================] - 3s 43us/step - loss: 0.0059 - acc: 0.9980 - val_loss: 0.0324 - val_acc: 0.9921\n",
            "Epoch 14/100\n",
            "60000/60000 [==============================] - 3s 42us/step - loss: 0.0083 - acc: 0.9972 - val_loss: 0.0378 - val_acc: 0.9895\n",
            "Epoch 15/100\n",
            "60000/60000 [==============================] - 2s 41us/step - loss: 0.0050 - acc: 0.9985 - val_loss: 0.0275 - val_acc: 0.9921\n",
            "Epoch 16/100\n",
            "60000/60000 [==============================] - 3s 42us/step - loss: 0.0031 - acc: 0.9991 - val_loss: 0.0435 - val_acc: 0.9905\n",
            "Epoch 17/100\n",
            "60000/60000 [==============================] - 2s 42us/step - loss: 0.0031 - acc: 0.9990 - val_loss: 0.0317 - val_acc: 0.9929\n",
            "Epoch 18/100\n",
            "60000/60000 [==============================] - 2s 41us/step - loss: 0.0051 - acc: 0.9983 - val_loss: 0.0368 - val_acc: 0.9918\n",
            "Epoch 19/100\n",
            "60000/60000 [==============================] - 2s 41us/step - loss: 0.0042 - acc: 0.9988 - val_loss: 0.0428 - val_acc: 0.9918\n",
            "Epoch 20/100\n",
            "60000/60000 [==============================] - 2s 42us/step - loss: 0.0025 - acc: 0.9993 - val_loss: 0.0424 - val_acc: 0.9910\n",
            "Epoch 21/100\n",
            "60000/60000 [==============================] - 2s 41us/step - loss: 0.0039 - acc: 0.9990 - val_loss: 0.0363 - val_acc: 0.9924\n",
            "Epoch 22/100\n",
            "60000/60000 [==============================] - 3s 42us/step - loss: 0.0044 - acc: 0.9988 - val_loss: 0.0363 - val_acc: 0.9923\n",
            "Epoch 23/100\n",
            "60000/60000 [==============================] - 3s 42us/step - loss: 0.0044 - acc: 0.9989 - val_loss: 0.0393 - val_acc: 0.9910\n",
            "Epoch 24/100\n",
            "60000/60000 [==============================] - 3s 42us/step - loss: 0.0063 - acc: 0.9981 - val_loss: 0.0414 - val_acc: 0.9920\n",
            "Epoch 25/100\n",
            "60000/60000 [==============================] - 2s 41us/step - loss: 0.0030 - acc: 0.9990 - val_loss: 0.0317 - val_acc: 0.9938\n",
            "Epoch 26/100\n",
            "60000/60000 [==============================] - 3s 42us/step - loss: 8.2262e-04 - acc: 0.9999 - val_loss: 0.0350 - val_acc: 0.9931\n",
            "Epoch 27/100\n",
            "60000/60000 [==============================] - 2s 41us/step - loss: 0.0017 - acc: 0.9995 - val_loss: 0.0375 - val_acc: 0.9923\n",
            "Epoch 28/100\n",
            "60000/60000 [==============================] - 2s 41us/step - loss: 0.0026 - acc: 0.9993 - val_loss: 0.0405 - val_acc: 0.9921\n",
            "Epoch 29/100\n",
            "60000/60000 [==============================] - 2s 41us/step - loss: 0.0067 - acc: 0.9980 - val_loss: 0.0504 - val_acc: 0.9888\n",
            "Epoch 30/100\n",
            "60000/60000 [==============================] - 3s 42us/step - loss: 0.0053 - acc: 0.9984 - val_loss: 0.0406 - val_acc: 0.9937\n",
            "Epoch 31/100\n",
            "60000/60000 [==============================] - 3s 42us/step - loss: 0.0018 - acc: 0.9994 - val_loss: 0.0393 - val_acc: 0.9930\n",
            "Epoch 32/100\n",
            "60000/60000 [==============================] - 3s 42us/step - loss: 0.0011 - acc: 0.9998 - val_loss: 0.0380 - val_acc: 0.9936\n",
            "Epoch 33/100\n",
            "60000/60000 [==============================] - 2s 41us/step - loss: 3.8938e-04 - acc: 1.0000 - val_loss: 0.0384 - val_acc: 0.9940\n",
            "Epoch 34/100\n",
            "60000/60000 [==============================] - 2s 41us/step - loss: 2.7783e-04 - acc: 1.0000 - val_loss: 0.0383 - val_acc: 0.9939\n",
            "Epoch 35/100\n",
            "60000/60000 [==============================] - 2s 41us/step - loss: 2.7400e-04 - acc: 1.0000 - val_loss: 0.0384 - val_acc: 0.9939\n",
            "Epoch 36/100\n",
            "60000/60000 [==============================] - 2s 41us/step - loss: 2.7299e-04 - acc: 1.0000 - val_loss: 0.0385 - val_acc: 0.9938\n",
            "Epoch 37/100\n",
            "60000/60000 [==============================] - 3s 43us/step - loss: 2.7230e-04 - acc: 1.0000 - val_loss: 0.0386 - val_acc: 0.9938\n",
            "Epoch 38/100\n",
            "60000/60000 [==============================] - 3s 42us/step - loss: 2.7177e-04 - acc: 1.0000 - val_loss: 0.0387 - val_acc: 0.9938\n",
            "Epoch 39/100\n",
            "60000/60000 [==============================] - 2s 42us/step - loss: 2.7135e-04 - acc: 1.0000 - val_loss: 0.0388 - val_acc: 0.9938\n",
            "Epoch 40/100\n",
            "60000/60000 [==============================] - 3s 42us/step - loss: 2.7101e-04 - acc: 1.0000 - val_loss: 0.0389 - val_acc: 0.9938\n",
            "Epoch 41/100\n",
            "60000/60000 [==============================] - 2s 41us/step - loss: 2.7071e-04 - acc: 1.0000 - val_loss: 0.0390 - val_acc: 0.9938\n",
            "Epoch 42/100\n",
            "60000/60000 [==============================] - 2s 41us/step - loss: 2.7048e-04 - acc: 1.0000 - val_loss: 0.0391 - val_acc: 0.9938\n",
            "Epoch 43/100\n",
            "60000/60000 [==============================] - 2s 40us/step - loss: 2.7026e-04 - acc: 1.0000 - val_loss: 0.0392 - val_acc: 0.9938\n",
            "Epoch 44/100\n",
            "60000/60000 [==============================] - 2s 41us/step - loss: 2.7008e-04 - acc: 1.0000 - val_loss: 0.0393 - val_acc: 0.9938\n",
            "Epoch 45/100\n",
            "60000/60000 [==============================] - 2s 41us/step - loss: 2.6992e-04 - acc: 1.0000 - val_loss: 0.0394 - val_acc: 0.9938\n",
            "Epoch 46/100\n",
            "60000/60000 [==============================] - 2s 41us/step - loss: 2.6979e-04 - acc: 1.0000 - val_loss: 0.0394 - val_acc: 0.9938\n",
            "Epoch 47/100\n",
            "60000/60000 [==============================] - 3s 42us/step - loss: 2.6967e-04 - acc: 1.0000 - val_loss: 0.0395 - val_acc: 0.9938\n",
            "Epoch 48/100\n",
            "60000/60000 [==============================] - 3s 42us/step - loss: 2.6956e-04 - acc: 1.0000 - val_loss: 0.0396 - val_acc: 0.9938\n",
            "Epoch 49/100\n",
            "60000/60000 [==============================] - 2s 41us/step - loss: 2.6947e-04 - acc: 1.0000 - val_loss: 0.0397 - val_acc: 0.9938\n",
            "Epoch 50/100\n",
            "60000/60000 [==============================] - 3s 42us/step - loss: 2.6939e-04 - acc: 1.0000 - val_loss: 0.0398 - val_acc: 0.9938\n",
            "Epoch 51/100\n",
            "60000/60000 [==============================] - 2s 41us/step - loss: 2.6932e-04 - acc: 1.0000 - val_loss: 0.0399 - val_acc: 0.9938\n",
            "Epoch 52/100\n",
            "60000/60000 [==============================] - 3s 42us/step - loss: 2.6925e-04 - acc: 1.0000 - val_loss: 0.0400 - val_acc: 0.9937\n",
            "Epoch 53/100\n",
            "60000/60000 [==============================] - 2s 41us/step - loss: 2.6920e-04 - acc: 1.0000 - val_loss: 0.0401 - val_acc: 0.9937\n",
            "Epoch 54/100\n",
            "60000/60000 [==============================] - 2s 41us/step - loss: 2.6915e-04 - acc: 1.0000 - val_loss: 0.0402 - val_acc: 0.9937\n",
            "Epoch 55/100\n",
            "60000/60000 [==============================] - 2s 41us/step - loss: 2.6910e-04 - acc: 1.0000 - val_loss: 0.0403 - val_acc: 0.9937\n",
            "Epoch 56/100\n",
            "60000/60000 [==============================] - 2s 42us/step - loss: 2.6907e-04 - acc: 1.0000 - val_loss: 0.0404 - val_acc: 0.9937\n",
            "Epoch 57/100\n",
            "60000/60000 [==============================] - 2s 41us/step - loss: 2.6903e-04 - acc: 1.0000 - val_loss: 0.0405 - val_acc: 0.9938\n",
            "Epoch 58/100\n",
            "60000/60000 [==============================] - 2s 41us/step - loss: 2.6900e-04 - acc: 1.0000 - val_loss: 0.0406 - val_acc: 0.9937\n",
            "Epoch 59/100\n",
            "60000/60000 [==============================] - 2s 41us/step - loss: 2.6897e-04 - acc: 1.0000 - val_loss: 0.0407 - val_acc: 0.9937\n",
            "Epoch 60/100\n",
            "60000/60000 [==============================] - 3s 42us/step - loss: 2.6895e-04 - acc: 1.0000 - val_loss: 0.0408 - val_acc: 0.9938\n",
            "Epoch 61/100\n",
            "60000/60000 [==============================] - 3s 42us/step - loss: 2.6893e-04 - acc: 1.0000 - val_loss: 0.0409 - val_acc: 0.9937\n",
            "Epoch 62/100\n",
            "60000/60000 [==============================] - 2s 42us/step - loss: 2.6891e-04 - acc: 1.0000 - val_loss: 0.0410 - val_acc: 0.9939\n",
            "Epoch 63/100\n",
            "60000/60000 [==============================] - 3s 42us/step - loss: 2.6889e-04 - acc: 1.0000 - val_loss: 0.0410 - val_acc: 0.9940\n",
            "Epoch 64/100\n",
            "60000/60000 [==============================] - 3s 42us/step - loss: 2.6887e-04 - acc: 1.0000 - val_loss: 0.0412 - val_acc: 0.9940\n",
            "Epoch 65/100\n",
            "60000/60000 [==============================] - 2s 41us/step - loss: 2.6886e-04 - acc: 1.0000 - val_loss: 0.0413 - val_acc: 0.9940\n",
            "Epoch 66/100\n",
            "60000/60000 [==============================] - 2s 40us/step - loss: 2.6885e-04 - acc: 1.0000 - val_loss: 0.0414 - val_acc: 0.9941\n",
            "Epoch 67/100\n",
            "60000/60000 [==============================] - 2s 41us/step - loss: 2.6884e-04 - acc: 1.0000 - val_loss: 0.0415 - val_acc: 0.9940\n",
            "Epoch 68/100\n",
            "60000/60000 [==============================] - 2s 41us/step - loss: 2.6883e-04 - acc: 1.0000 - val_loss: 0.0416 - val_acc: 0.9941\n",
            "Epoch 69/100\n",
            "60000/60000 [==============================] - 2s 42us/step - loss: 2.6882e-04 - acc: 1.0000 - val_loss: 0.0417 - val_acc: 0.9940\n",
            "Epoch 70/100\n",
            "60000/60000 [==============================] - 2s 41us/step - loss: 2.6881e-04 - acc: 1.0000 - val_loss: 0.0418 - val_acc: 0.9940\n",
            "Epoch 71/100\n",
            "60000/60000 [==============================] - 3s 42us/step - loss: 2.6881e-04 - acc: 1.0000 - val_loss: 0.0419 - val_acc: 0.9940\n",
            "Epoch 72/100\n",
            "60000/60000 [==============================] - 3s 42us/step - loss: 2.6880e-04 - acc: 1.0000 - val_loss: 0.0420 - val_acc: 0.9940\n",
            "Epoch 73/100\n",
            "60000/60000 [==============================] - 2s 42us/step - loss: 2.6879e-04 - acc: 1.0000 - val_loss: 0.0421 - val_acc: 0.9940\n",
            "Epoch 74/100\n",
            "60000/60000 [==============================] - 2s 41us/step - loss: 2.6879e-04 - acc: 1.0000 - val_loss: 0.0422 - val_acc: 0.9940\n",
            "Epoch 75/100\n",
            "60000/60000 [==============================] - 3s 42us/step - loss: 2.6879e-04 - acc: 1.0000 - val_loss: 0.0423 - val_acc: 0.9940\n",
            "Epoch 76/100\n",
            "60000/60000 [==============================] - 3s 42us/step - loss: 2.6878e-04 - acc: 1.0000 - val_loss: 0.0424 - val_acc: 0.9940\n",
            "Epoch 77/100\n",
            "60000/60000 [==============================] - 2s 41us/step - loss: 2.6878e-04 - acc: 1.0000 - val_loss: 0.0425 - val_acc: 0.9939\n",
            "Epoch 78/100\n",
            "60000/60000 [==============================] - 2s 41us/step - loss: 2.6878e-04 - acc: 1.0000 - val_loss: 0.0427 - val_acc: 0.9940\n",
            "Epoch 79/100\n",
            "60000/60000 [==============================] - 2s 41us/step - loss: 2.6877e-04 - acc: 1.0000 - val_loss: 0.0428 - val_acc: 0.9940\n",
            "Epoch 80/100\n",
            "60000/60000 [==============================] - 2s 41us/step - loss: 2.6877e-04 - acc: 1.0000 - val_loss: 0.0429 - val_acc: 0.9939\n",
            "Epoch 81/100\n",
            "60000/60000 [==============================] - 2s 40us/step - loss: 2.6877e-04 - acc: 1.0000 - val_loss: 0.0430 - val_acc: 0.9939\n",
            "Epoch 82/100\n",
            "60000/60000 [==============================] - 2s 42us/step - loss: 2.6877e-04 - acc: 1.0000 - val_loss: 0.0431 - val_acc: 0.9939\n",
            "Epoch 83/100\n",
            "60000/60000 [==============================] - 3s 42us/step - loss: 2.6877e-04 - acc: 1.0000 - val_loss: 0.0432 - val_acc: 0.9940\n",
            "Epoch 84/100\n",
            "60000/60000 [==============================] - 2s 41us/step - loss: 2.6876e-04 - acc: 1.0000 - val_loss: 0.0433 - val_acc: 0.9939\n",
            "Epoch 85/100\n",
            "60000/60000 [==============================] - 3s 43us/step - loss: 2.6876e-04 - acc: 1.0000 - val_loss: 0.0434 - val_acc: 0.9940\n",
            "Epoch 86/100\n",
            "60000/60000 [==============================] - 2s 41us/step - loss: 2.6876e-04 - acc: 1.0000 - val_loss: 0.0435 - val_acc: 0.9940\n",
            "Epoch 87/100\n",
            "60000/60000 [==============================] - 2s 41us/step - loss: 2.6876e-04 - acc: 1.0000 - val_loss: 0.0436 - val_acc: 0.9940\n",
            "Epoch 88/100\n",
            "60000/60000 [==============================] - 2s 41us/step - loss: 2.6876e-04 - acc: 1.0000 - val_loss: 0.0437 - val_acc: 0.9940\n",
            "Epoch 89/100\n",
            "60000/60000 [==============================] - 3s 42us/step - loss: 2.6876e-04 - acc: 1.0000 - val_loss: 0.0439 - val_acc: 0.9940\n",
            "Epoch 90/100\n",
            "60000/60000 [==============================] - 2s 41us/step - loss: 2.6876e-04 - acc: 1.0000 - val_loss: 0.0440 - val_acc: 0.9940\n",
            "Epoch 91/100\n",
            "60000/60000 [==============================] - 2s 41us/step - loss: 2.6876e-04 - acc: 1.0000 - val_loss: 0.0441 - val_acc: 0.9940\n",
            "Epoch 92/100\n",
            "60000/60000 [==============================] - 2s 41us/step - loss: 2.6876e-04 - acc: 1.0000 - val_loss: 0.0442 - val_acc: 0.9940\n",
            "Epoch 93/100\n",
            "60000/60000 [==============================] - 2s 41us/step - loss: 2.6876e-04 - acc: 1.0000 - val_loss: 0.0443 - val_acc: 0.9941\n",
            "Epoch 94/100\n",
            "60000/60000 [==============================] - 3s 42us/step - loss: 2.6876e-04 - acc: 1.0000 - val_loss: 0.0444 - val_acc: 0.9942\n",
            "Epoch 95/100\n",
            "60000/60000 [==============================] - 2s 41us/step - loss: 2.6876e-04 - acc: 1.0000 - val_loss: 0.0445 - val_acc: 0.9940\n",
            "Epoch 96/100\n",
            "60000/60000 [==============================] - 3s 42us/step - loss: 2.6876e-04 - acc: 1.0000 - val_loss: 0.0446 - val_acc: 0.9942\n",
            "Epoch 97/100\n",
            "60000/60000 [==============================] - 3s 42us/step - loss: 2.6876e-04 - acc: 1.0000 - val_loss: 0.0447 - val_acc: 0.9942\n",
            "Epoch 98/100\n",
            "60000/60000 [==============================] - 2s 42us/step - loss: 2.6876e-04 - acc: 1.0000 - val_loss: 0.0449 - val_acc: 0.9942\n",
            "Epoch 99/100\n",
            "60000/60000 [==============================] - 3s 43us/step - loss: 2.6876e-04 - acc: 1.0000 - val_loss: 0.0450 - val_acc: 0.9942\n",
            "Epoch 100/100\n",
            "60000/60000 [==============================] - 2s 41us/step - loss: 2.6876e-04 - acc: 1.0000 - val_loss: 0.0451 - val_acc: 0.9942\n"
          ],
          "name": "stdout"
        }
      ]
    },
    {
      "cell_type": "code",
      "metadata": {
        "id": "xS53eaRDPyM5",
        "colab_type": "code",
        "colab": {}
      },
      "source": [
        "# A little utility to draw accuracy and loss plots\n",
        "def plot_accuracy_and_loss(history, plot_title):\n",
        "    xs = range(len(history.history['acc']))\n",
        "\n",
        "    plt.figure(figsize=(10,3))\n",
        "    plt.subplot(1, 2, 1)\n",
        "    plt.plot(xs, history.history['acc'], label='train')\n",
        "    plt.plot(xs, history.history['val_acc'], label='validation')\n",
        "    plt.legend(loc='lower left')\n",
        "    plt.xlabel('epochs')\n",
        "    plt.ylabel('accuracy')\n",
        "    plt.title(plot_title+', Accuracy')\n",
        "\n",
        "    plt.subplot(1, 2, 2)\n",
        "    plt.plot(xs, history.history['loss'], label='train')\n",
        "    plt.plot(xs, history.history['val_loss'], label='validation')\n",
        "    plt.legend(loc='upper left')\n",
        "    plt.xlabel('epochs')\n",
        "    plt.ylabel('loss')\n",
        "    plt.title(plot_title+', Loss')\n",
        "\n",
        "    #plt.tight_layout()\n",
        "    plt.show()"
      ],
      "execution_count": 0,
      "outputs": []
    },
    {
      "cell_type": "code",
      "metadata": {
        "id": "FXwaRg1FP5nL",
        "colab_type": "code",
        "colab": {
          "base_uri": "https://localhost:8080/",
          "height": 241
        },
        "outputId": "0104eb41-c46c-4405-c815-4f6d90958677"
      },
      "source": [
        "# plot the validation accuracy and loss\n",
        "plot_accuracy_and_loss(cnn_history, 'Module 5 Assignment CNN')"
      ],
      "execution_count": 11,
      "outputs": [
        {
          "output_type": "display_data",
          "data": {
            "image/png": "[encoded data removed]",
            "text/plain": [
              "<Figure size 720x216 with 2 Axes>"
            ]
          },
          "metadata": {
            "tags": []
          }
        }
      ]
    }
  ]
}