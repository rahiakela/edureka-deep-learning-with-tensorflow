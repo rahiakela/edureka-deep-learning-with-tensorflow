{
  "nbformat": 4,
  "nbformat_minor": 0,
  "metadata": {
    "colab": {
      "name": "module-5-assignment-convolutional-neural-networks.ipynb",
      "provenance": [],
      "toc_visible": true,
      "authorship_tag": "ABX9TyPDi8xW2n9stR3m2tLj40TF",
      "include_colab_link": true
    },
    "kernelspec": {
      "name": "python3",
      "display_name": "Python 3"
    }
  },
  "cells": [
    {
      "cell_type": "markdown",
      "metadata": {
        "id": "view-in-github",
        "colab_type": "text"
      },
      "source": [
        "<a href=\"https://colab.research.google.com/github/rahiakela/edureka-deep-learning-with-tensorflow/blob/module-5-convolutional-neural-networks/module_5_assignment_convolutional_neural_networks.ipynb\" target=\"_parent\"><img src=\"https://colab.research.google.com/assets/colab-badge.svg\" alt=\"Open In Colab\"/></a>"
      ]
    },
    {
      "cell_type": "markdown",
      "metadata": {
        "id": "8aWtBVdSDrxi",
        "colab_type": "text"
      },
      "source": [
        "# Module 5: Convolutional Neural Networks"
      ]
    },
    {
      "cell_type": "markdown",
      "metadata": {
        "id": "xJb45EdPD2vb",
        "colab_type": "text"
      },
      "source": [
        "**Implement convolutional neural-network (CNN) for MNIST Dataset**\n",
        "\n",
        "Network architecture - CNN with 4 layers has following architecture.\n",
        "\n",
        "* Input layer : 784 nodes (MNIST images size)\n",
        "* First convolution layer : 5x5x32\n",
        "* First max-pooling layer\n",
        "* Second convolution layer : 5x5x64\n",
        "* Second max-pooling layer\n",
        "* Third fully-connected layer : 1024 nodes\n",
        "* Output layer : 10 nodes (number of class for MNIST)"
      ]
    },
    {
      "cell_type": "markdown",
      "metadata": {
        "id": "4c1Z3GFhEHq1",
        "colab_type": "text"
      },
      "source": [
        ""
      ]
    }
  ]
}